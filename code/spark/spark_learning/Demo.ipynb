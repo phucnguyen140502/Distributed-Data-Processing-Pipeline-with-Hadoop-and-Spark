{
 "cells": [
  {
   "cell_type": "code",
   "execution_count": 21,
   "id": "dc0d4907-0228-4ccf-b3b4-5e7e8133a211",
   "metadata": {},
   "outputs": [
    {
     "name": "stdout",
     "output_type": "stream",
     "text": [
      "Requirement already satisfied: pyspark in c:\\users\\dell\\appdata\\local\\programs\\python\\python310\\lib\\site-packages (3.5.3)\n",
      "Requirement already satisfied: py4j==0.10.9.7 in c:\\users\\dell\\appdata\\local\\programs\\python\\python310\\lib\\site-packages (from pyspark) (0.10.9.7)\n",
      "Note: you may need to restart the kernel to use updated packages.\n"
     ]
    },
    {
     "name": "stderr",
     "output_type": "stream",
     "text": [
      "WARNING: You are using pip version 21.2.3; however, version 24.3.1 is available.\n",
      "You should consider upgrading via the 'C:\\Users\\DELL\\AppData\\Local\\Programs\\Python\\Python310\\python.exe -m pip install --upgrade pip' command.\n"
     ]
    }
   ],
   "source": [
    "pip install pyspark"
   ]
  },
  {
   "cell_type": "code",
   "execution_count": 22,
   "id": "a7d75244-a718-4932-8f7e-303c2c294fab",
   "metadata": {},
   "outputs": [
    {
     "name": "stdout",
     "output_type": "stream",
     "text": [
      "Requirement already satisfied: matplotlib in c:\\users\\dell\\appdata\\local\\programs\\python\\python310\\lib\\site-packages (3.9.2)\n",
      "Requirement already satisfied: packaging>=20.0 in c:\\users\\dell\\appdata\\local\\programs\\python\\python310\\lib\\site-packages (from matplotlib) (24.1)\n",
      "Requirement already satisfied: kiwisolver>=1.3.1 in c:\\users\\dell\\appdata\\local\\programs\\python\\python310\\lib\\site-packages (from matplotlib) (1.4.7)\n",
      "Requirement already satisfied: contourpy>=1.0.1 in c:\\users\\dell\\appdata\\local\\programs\\python\\python310\\lib\\site-packages (from matplotlib) (1.3.0)\n",
      "Requirement already satisfied: numpy>=1.23 in c:\\users\\dell\\appdata\\local\\programs\\python\\python310\\lib\\site-packages (from matplotlib) (2.1.3)\n",
      "Requirement already satisfied: fonttools>=4.22.0 in c:\\users\\dell\\appdata\\local\\programs\\python\\python310\\lib\\site-packages (from matplotlib) (4.54.1)\n",
      "Requirement already satisfied: python-dateutil>=2.7 in c:\\users\\dell\\appdata\\local\\programs\\python\\python310\\lib\\site-packages (from matplotlib) (2.9.0.post0)\n",
      "Requirement already satisfied: pyparsing>=2.3.1 in c:\\users\\dell\\appdata\\local\\programs\\python\\python310\\lib\\site-packages (from matplotlib) (3.2.0)\n",
      "Requirement already satisfied: pillow>=8 in c:\\users\\dell\\appdata\\local\\programs\\python\\python310\\lib\\site-packages (from matplotlib) (11.0.0)\n",
      "Requirement already satisfied: cycler>=0.10 in c:\\users\\dell\\appdata\\local\\programs\\python\\python310\\lib\\site-packages (from matplotlib) (0.12.1)\n",
      "Requirement already satisfied: six>=1.5 in c:\\users\\dell\\appdata\\local\\programs\\python\\python310\\lib\\site-packages (from python-dateutil>=2.7->matplotlib) (1.16.0)\n",
      "Note: you may need to restart the kernel to use updated packages.\n"
     ]
    },
    {
     "name": "stderr",
     "output_type": "stream",
     "text": [
      "WARNING: You are using pip version 21.2.3; however, version 24.3.1 is available.\n",
      "You should consider upgrading via the 'C:\\Users\\DELL\\AppData\\Local\\Programs\\Python\\Python310\\python.exe -m pip install --upgrade pip' command.\n"
     ]
    }
   ],
   "source": [
    "pip install matplotlib"
   ]
  },
  {
   "cell_type": "markdown",
   "id": "8a3fb8de-0284-4c09-bf2a-5c4c6d958674",
   "metadata": {
    "jupyter": {
     "source_hidden": true
    }
   },
   "source": [
    "#### 1. Tạo RDD\n",
    "Trước hết, bạn cần khởi tạo một RDD từ một bộ dữ liệu, ví dụ từ một danh sách hoặc từ một tệp tin.\n",
    "\n",
    "```python\n",
    "from pyspark import SparkContext\n",
    "\n",
    "# Khởi tạo SparkContext\n",
    "sc = SparkContext(\"local\", \"Simple App\")\n",
    "\n",
    "# Tạo RDD từ một danh sách\n",
    "data = [1, 2, 3, 4, 5]\n",
    "rdd = sc.parallelize(data)\n",
    "```\n",
    "\n",
    "#### 2. Các Hàm Cơ Bản\n",
    "\n",
    "a. map()\n",
    "\n",
    "Áp dụng một hàm đến từng phần tử của RDD.\n",
    "\n",
    "```python\n",
    "\n",
    "# Nhân mỗi phần tử với 2\n",
    "rdd_mapped = rdd.map(lambda x: x * 2)\n",
    "print(rdd_mapped.collect())  # Kết quả: [2, 4, 6, 8, 10]\n",
    "```\n",
    "\n",
    "b. filter()\n",
    "\n",
    "Lọc các phần tử theo một điều kiện.\n",
    "\n",
    "```python\n",
    "# Lọc ra các số chẵn\n",
    "rdd_filtered = rdd.filter(lambda x: x % 2 == 0)\n",
    "print(rdd_filtered.collect())  # Kết quả: [2, 4]\n",
    "```\n",
    "\n",
    "c. reduce()\n",
    "\n",
    "Giảm một RDD xuống một giá trị duy nhất bằng cách sử dụng một hàm kết hợp.\n",
    "\n",
    "```python\n",
    "\n",
    "# Tính tổng các phần tử\n",
    "total = rdd.reduce(lambda a, b: a + b)\n",
    "print(total)  # Kết quả: 15\n",
    "```\n",
    "\n",
    "d. flatMap()\n",
    "\n",
    "Tương tự như map(), nhưng cho phép trả về nhiều phần tử cho mỗi phần tử trong RDD.\n",
    "\n",
    "```python\n",
    "# Tách chuỗi thành danh sách từ mỗi phần tử\n",
    "data = [\"hello world\", \"hello Spark\"]\n",
    "rdd_flat = sc.parallelize(data).flatMap(lambda x: x.split(\" \"))\n",
    "print(rdd_flat.collect())  # Kết quả: ['hello', 'world', 'hello', 'Spark']\n",
    "```\n",
    "\n",
    "e. groupByKey()\n",
    "\n",
    "Nhóm các giá trị theo khóa trong RDD có dạng (key, value).\n",
    "\n",
    "```python\n",
    "# Tạo một RDD (key, value)\n",
    "pair_rdd = sc.parallelize([(\"a\", 1), (\"b\", 2), (\"a\", 3)])\n",
    "grouped_rdd = pair_rdd.groupByKey()\n",
    "print([(key, list(values)) for key, values in grouped_rdd.collect()])  # Kết quả: [('a', [1, 3]), ('b', [2])]\n",
    "```\n",
    "\n",
    "f. reduceByKey()\n",
    "\n",
    "Giảm các giá trị theo khóa bằng cách sử dụng một hàm kết hợp.\n",
    "\n",
    "```python\n",
    "    # Tính tổng các giá trị cho mỗi khóa\n",
    "    reduced_rdd = pair_rdd.reduceByKey(lambda a, b: a + b)\n",
    "    print(reduced_rdd.collect())  # Kết quả: [('a', 4), ('b', 2)]\n",
    "```\n",
    "\n",
    "g. count()\n",
    "\n",
    "Đếm số phần tử trong RDD.\n",
    "\n",
    "```python\n",
    "count = rdd.count()\n",
    "print(count)  # Kết quả: 5\n",
    "```"
   ]
  },
  {
   "cell_type": "code",
   "execution_count": 1,
   "id": "3d633814-6a2c-40cc-8882-aa2974054cdb",
   "metadata": {},
   "outputs": [],
   "source": [
    "import matplotlib.pyplot as plt\n",
    "\n",
    "def compare_hdfs_and_local(time_local, time_hdfs):\n",
    "    if time_local is not None and time_hdfs is not None:\n",
    "        labels = ['Local File', 'HDFS File']\n",
    "        times = [time_local, time_hdfs]\n",
    "    \n",
    "        plt.figure(figsize=(8, 5))\n",
    "        plt.bar(labels, times, color=['blue', 'green'])\n",
    "        plt.xlabel('Phương pháp')\n",
    "        plt.ylabel('Thời gian (giây)')\n",
    "        plt.title('So sánh thời gian đọc file giữa hệ thống tệp cục bộ và HDFS')\n",
    "        plt.show()\n",
    "    else:\n",
    "        print(\"Không đủ dữ liệu để vẽ biểu đồ.\")"
   ]
  },
  {
   "cell_type": "markdown",
   "id": "5009e65b-6621-464d-b5b5-400871b7c05f",
   "metadata": {},
   "source": [
    "### Demo Spark RDD"
   ]
  },
  {
   "cell_type": "markdown",
   "id": "398d5e84-24cf-43f4-a5dd-0b9cec3d38a2",
   "metadata": {},
   "source": [
    "#### Demo với file .txt trên hdfs"
   ]
  },
  {
   "cell_type": "code",
   "execution_count": 2,
   "id": "09328187-218c-4763-8164-a3e7f9dd8b6a",
   "metadata": {},
   "outputs": [
    {
     "name": "stdout",
     "output_type": "stream",
     "text": [
      "Thời gian chạy với HDFS: 0.56 giây\n"
     ]
    }
   ],
   "source": [
    "from pyspark.sql import SparkSession\n",
    "import time\n",
    "\n",
    "# Khởi tạo SparkSession với cấu hình local mode và tài nguyên tối thiểu\n",
    "spark_hdfs_text = SparkSession.builder \\\n",
    "    .appName(\"RDD Example Local\") \\\n",
    "    .master(\"local[2]\") \\\n",
    "    .config(\"spark.driver.memory\", \"4g\") \\\n",
    "    .config(\"spark.executor.memory\", \"4g\") \\\n",
    "    .config(\"spark.network.timeout\", \"12000s\") \\\n",
    "    .config(\"spark.executor.heartbeatInterval\", \"2000s\") \\\n",
    "    .getOrCreate()\n",
    "\n",
    "# Đọc file văn bản từ HDFS bằng RDD\n",
    "try:\n",
    "    start_time_hdfs_txt = time.time()\n",
    "    text_rdd_vpn = spark_hdfs_text.sparkContext.textFile(\"hdfs://172.30.2.147:9000/demo_directory/data_engineer_intro.txt\")\n",
    "    end_time_hdfs_txt = time.time()\n",
    "    time_hdfs_txt = end_time_hdfs_txt - start_time_hdfs_txt\n",
    "    print(\"Thời gian chạy với HDFS: {:.2f} giây\".format(time_hdfs_txt))\n",
    "except Exception as e:\n",
    "    print(f\"Lỗi khi kiểm tra RDD: {e}\")"
   ]
  },
  {
   "cell_type": "markdown",
   "id": "eac975f2-10ab-44cb-9dc3-e90914c4bc9e",
   "metadata": {},
   "source": [
    "#### Demo file .txt trên local  "
   ]
  },
  {
   "cell_type": "code",
   "execution_count": 3,
   "id": "ab60cd21-669b-45b7-bd89-3c9c39404fc5",
   "metadata": {},
   "outputs": [
    {
     "name": "stdout",
     "output_type": "stream",
     "text": [
      "Thời gian chạy trên local: 0.05 giây\n"
     ]
    }
   ],
   "source": [
    "from pyspark.sql import SparkSession\n",
    "import time\n",
    "\n",
    "# Khởi tạo SparkSession với cấu hình local mode và tài nguyên tối thiểu\n",
    "spark_txt_local = SparkSession.builder \\\n",
    "    .appName(\"RDD Example Local\") \\\n",
    "    .master(\"local[2]\") \\\n",
    "    .config(\"spark.driver.memory\", \"4g\") \\\n",
    "    .config(\"spark.executor.memory\", \"4g\") \\\n",
    "    .config(\"spark.network.timeout\", \"12000s\") \\\n",
    "    .config(\"spark.executor.heartbeatInterval\", \"2000s\") \\\n",
    "    .getOrCreate()\n",
    "\n",
    "# Đọc file văn bản từ HDFS bằng RDD\n",
    "try:\n",
    "    start_time_local_txt = time.time()\n",
    "    text_rdd_local_txt = spark_txt_local.sparkContext.textFile(\"D:\\Data Engineer\\dwh and etl\\lesson\\lesson 2\\documents\\Talend\\Sync Hadoop to DWH\\data_engineer_intro.txt\")\n",
    "    end_time_local_txt = time.time()\n",
    "    time_local_txt = end_time_local_txt - start_time_local_txt\n",
    "    print(\"Thời gian chạy trên local: {:.2f} giây\".format(time_local_txt))\n",
    "except Exception as e:\n",
    "    print(f\"Lỗi khi kiểm tra RDD: {e}\")"
   ]
  },
  {
   "cell_type": "markdown",
   "id": "fee987da-65bb-4215-8fcc-4500d419c2b7",
   "metadata": {},
   "source": [
    "#### tìm số lượng từ trong đoạn text"
   ]
  },
  {
   "cell_type": "code",
   "execution_count": 4,
   "id": "7b6d04e1-24ba-445d-b5e7-0ce388b4661d",
   "metadata": {},
   "outputs": [],
   "source": [
    "# text_rdd_vpn.collect()"
   ]
  },
  {
   "cell_type": "code",
   "execution_count": 5,
   "id": "01e8f1fa-ede8-46a7-a658-5c48772d08d6",
   "metadata": {},
   "outputs": [],
   "source": [
    "text_rdd_vpn_words = text_rdd_vpn.flatMap(lambda x: x.split())\n",
    "# text_rdd_vpn_words.collect()"
   ]
  },
  {
   "cell_type": "code",
   "execution_count": 6,
   "id": "e5ee8c96-a416-4df9-ba83-c99564608396",
   "metadata": {},
   "outputs": [],
   "source": [
    "fre_word_vpn = text_rdd_vpn_words.map(lambda x : (x,1))\n",
    "# fre_word_vpn.collect()"
   ]
  },
  {
   "cell_type": "code",
   "execution_count": 7,
   "id": "1f0fd6cc-3627-4599-8b95-c747d97d516c",
   "metadata": {},
   "outputs": [],
   "source": [
    "fre_words_vpn = fre_word_vpn.reduceByKey(lambda x,y: x+y)\n",
    "# fre_words_vpn.collect()"
   ]
  },
  {
   "cell_type": "code",
   "execution_count": 8,
   "id": "a5d1bfd1-c58a-4ac8-9b49-2136fd89b7c2",
   "metadata": {},
   "outputs": [
    {
     "name": "stdin",
     "output_type": "stream",
     "text": [
      "Enter a letter:  engineer\n"
     ]
    },
    {
     "data": {
      "text/plain": [
       "[('engineer', 718806)]"
      ]
     },
     "execution_count": 8,
     "metadata": {},
     "output_type": "execute_result"
    }
   ],
   "source": [
    "input_letter_hdfs = input(\"Enter a letter: \")\n",
    "fre_words_vpn.filter(lambda x: x[0] == input_letter_hdfs).collect()"
   ]
  },
  {
   "cell_type": "markdown",
   "id": "0150070f-b3f5-4ac3-a2e7-d3581b35172a",
   "metadata": {},
   "source": [
    "#### Visualize run trên hdfs và local "
   ]
  },
  {
   "cell_type": "code",
   "execution_count": 9,
   "id": "b046b881-5d06-4115-b6de-e507f2aacffb",
   "metadata": {},
   "outputs": [
    {
     "data": {
      "image/png": "[encoded data removed]",
      "text/plain": [
       "<Figure size 800x500 with 1 Axes>"
      ]
     },
     "metadata": {},
     "output_type": "display_data"
    }
   ],
   "source": [
    "compare_hdfs_and_local(time_local_txt, time_hdfs_txt)"
   ]
  },
  {
   "cell_type": "markdown",
   "id": "14b85bc9-dad8-4c30-a02d-9c73daf224e8",
   "metadata": {},
   "source": [
    "#### Demo file .csv trên hdfs "
   ]
  },
  {
   "cell_type": "code",
   "execution_count": 10,
   "id": "35201866-254c-4f05-b688-a8b7f0e01e10",
   "metadata": {},
   "outputs": [
    {
     "name": "stdout",
     "output_type": "stream",
     "text": [
      "Thời gian chạy với HDFS: 1.70 giây\n"
     ]
    }
   ],
   "source": [
    "from pyspark.sql import SparkSession\n",
    "import time\n",
    "\n",
    "# Khởi tạo SparkSession với cấu hình local mode và tài nguyên tối thiểu\n",
    "spark_hdfs_csv = SparkSession.builder \\\n",
    "    .appName(\"RDD Example HDFS\") \\\n",
    "    .master(\"local[2]\") \\\n",
    "    .config(\"spark.driver.memory\", \"4g\") \\\n",
    "    .config(\"spark.executor.memory\", \"4g\") \\\n",
    "    .config(\"spark.network.timeout\", \"12000s\") \\\n",
    "    .config(\"spark.executor.heartbeatInterval\", \"2000s\") \\\n",
    "    .getOrCreate()\n",
    "\n",
    "# Đọc file văn bản từ HDFS bằng RDD\n",
    "try:\n",
    "    start_time_hdfs_csv = time.time()\n",
    "    csv_rdd_vpn = spark_hdfs_csv.sparkContext.textFile(\"hdfs://172.30.2.147:9000/demo_directory/citizens_data.csv\")\n",
    "    header_vpn = csv_rdd_vpn.first()\n",
    "    data_csv_rdd_vpn = csv_rdd_vpn.filter(lambda line: line != header_vpn)\n",
    "    end_time_hdfs_csv = time.time()\n",
    "    time_hdfs_csv = end_time_hdfs_csv - start_time_hdfs_csv\n",
    "    print(\"Thời gian chạy với HDFS: {:.2f} giây\".format(time_hdfs_csv))\n",
    "except Exception as e:\n",
    "    print(f\"Lỗi khi kiểm tra RDD: {e}\")"
   ]
  },
  {
   "cell_type": "markdown",
   "id": "4bbb47e8-8d9f-4c2a-90e3-69aa823082ca",
   "metadata": {},
   "source": [
    "#### Demo file .csv trên local"
   ]
  },
  {
   "cell_type": "code",
   "execution_count": 18,
   "id": "7bfd88e5-2ecf-4f0c-bacc-381d46e3a191",
   "metadata": {
    "scrolled": true
   },
   "outputs": [
    {
     "name": "stdout",
     "output_type": "stream",
     "text": [
      "Thời gian chạy trên máy local: 1.01 giây\n"
     ]
    }
   ],
   "source": [
    "from pyspark.sql import SparkSession\n",
    "import time\n",
    "\n",
    "# Khởi tạo SparkSession với cấu hình local mode và tài nguyên tối thiểu\n",
    "spark_local_csv = SparkSession.builder \\\n",
    "    .appName(\"RDD Example Local\") \\\n",
    "    .master(\"local[2]\") \\\n",
    "    .config(\"spark.driver.memory\", \"8g\") \\\n",
    "    .config(\"spark.executor.memory\", \"8g\") \\\n",
    "    .config(\"spark.network.timeout\", \"12000s\") \\\n",
    "    .config(\"spark.executor.heartbeatInterval\", \"2000s\") \\\n",
    "    .getOrCreate()\n",
    "\n",
    "# Đọc file văn bản từ HDFS bằng RDD\n",
    "try:\n",
    "    start_time_local_csv = time.time()\n",
    "    csv_rdd_local = spark_local_csv.sparkContext.textFile(r\"D:\\Data Engineer\\dwh and etl\\lesson\\lesson 2\\documents\\Talend\\Sync Hadoop to DWH\\citizens_data.csv\",  minPartitions=100)\n",
    "    header_local = csv_rdd_local.first()\n",
    "    data_csv_rdd_local = csv_rdd_local.filter(lambda line: line != header_local)\n",
    "    end_time_local_csv = time.time()\n",
    "    time_local_csv = end_time_local_csv - start_time_local_csv\n",
    "    print(\"Thời gian chạy trên máy local: {:.2f} giây\".format(time_local_csv))\n",
    "except Exception as e:\n",
    "    print(f\"Lỗi khi kiểm tra RDD: {e}\")"
   ]
  },
  {
   "cell_type": "markdown",
   "id": "a3d98b08-33f6-480c-8628-754f63b80958",
   "metadata": {},
   "source": [
    "##### 1. Tìm số lượng dân cư trong mỗi thành phố "
   ]
  },
  {
   "cell_type": "code",
   "execution_count": 12,
   "id": "64bd0a68-54ae-47ef-9c3c-7d03d307cde7",
   "metadata": {
    "scrolled": true
   },
   "outputs": [
    {
     "data": {
      "text/plain": [
       "[('Wallis and Futuna', 1),\n",
       " ('Cyprus', 1),\n",
       " ('Malawi', 1),\n",
       " ('Cocos (Keeling) Islands', 1),\n",
       " ('Honduras', 1)]"
      ]
     },
     "execution_count": 12,
     "metadata": {},
     "output_type": "execute_result"
    }
   ],
   "source": [
    "city_freq = data_csv_rdd_vpn.map(lambda x: (x.split(\",\")[4],1))\n",
    "city_freq.take(5)"
   ]
  },
  {
   "cell_type": "code",
   "execution_count": 13,
   "id": "8d807c4d-fbd1-4e09-8efd-d80fa1c032f2",
   "metadata": {
    "scrolled": true
   },
   "outputs": [
    {
     "data": {
      "text/plain": [
       "[('Togo', 366794),\n",
       " ('Palestinian Territory', 367703),\n",
       " ('Kyrgyz Republic', 367174),\n",
       " ('Puerto Rico', 366745),\n",
       " ('Mauritania', 366588),\n",
       " ('Austria', 367211),\n",
       " ('Northern Mariana Islands', 368405),\n",
       " ('Peru', 367667),\n",
       " ('Portugal', 366957),\n",
       " ('Turkmenistan', 366817),\n",
       " ('Bahrain', 366968),\n",
       " ('Poland', 367737),\n",
       " ('Kiribati', 367401),\n",
       " ('Brunei Darussalam', 367760),\n",
       " ('United Arab Emirates', 367391),\n",
       " ('Lesotho', 367501),\n",
       " ('Guinea', 368162),\n",
       " ('Ireland', 367214),\n",
       " ('India', 367291),\n",
       " ('Argentina', 367782),\n",
       " ('Haiti', 367853),\n",
       " ('South Georgia and the South Sandwich Islands', 367398),\n",
       " ('Namibia', 367558),\n",
       " ('Samoa', 368769),\n",
       " ('Vanuatu', 367591),\n",
       " ('Micronesia', 366557),\n",
       " ('Myanmar', 366389),\n",
       " ('Mauritius', 367242),\n",
       " ('Kuwait', 367709),\n",
       " ('Angola', 367508),\n",
       " ('British Indian Ocean Territory (Chagos Archipelago)', 367854),\n",
       " ('Mali', 367235),\n",
       " ('Guam', 367291),\n",
       " ('Oman', 367597),\n",
       " ('United States of America', 367527),\n",
       " ('Timor-Leste', 366837),\n",
       " ('Aruba', 368387),\n",
       " ('Tokelau', 367206),\n",
       " ('Croatia', 367822),\n",
       " ('Guadeloupe', 367843),\n",
       " ('Holy See (Vatican City State)', 366357),\n",
       " ('Antigua and Barbuda', 367144),\n",
       " ('Falkland Islands (Malvinas)', 366555),\n",
       " ('Senegal', 366689),\n",
       " ('Comoros', 366154),\n",
       " ('Serbia', 367355),\n",
       " ('Tajikistan', 367302),\n",
       " ('Iraq', 367673),\n",
       " ('Albania', 367110),\n",
       " ('Norfolk Island', 368263),\n",
       " ('Mozambique', 365674),\n",
       " ('South Africa', 366618),\n",
       " ('Saint Martin', 366720),\n",
       " ('Romania', 367628),\n",
       " ('Bangladesh', 367211),\n",
       " ('San Marino', 368313),\n",
       " ('Malaysia', 368297),\n",
       " ('Lithuania', 367899),\n",
       " ('Bulgaria', 367152),\n",
       " ('Honduras', 366643),\n",
       " ('Uzbekistan', 368009),\n",
       " ('American Samoa', 367220),\n",
       " ('Marshall Islands', 367532),\n",
       " ('Belize', 367118),\n",
       " ('Maldives', 367117),\n",
       " ('Martinique', 366807),\n",
       " ('Papua New Guinea', 366243),\n",
       " ('Bahamas', 367443),\n",
       " ('Heard Island and McDonald Islands', 367622),\n",
       " ('Burkina Faso', 367326),\n",
       " ('Pitcairn Islands', 368601),\n",
       " ('Greece', 367020),\n",
       " ('Western Sahara', 367115),\n",
       " ('Iran', 368639),\n",
       " ('Reunion', 367311),\n",
       " ('Zimbabwe', 367482),\n",
       " ('Azerbaijan', 367981),\n",
       " (\"Lao People's Democratic Republic\", 367548),\n",
       " ('Luxembourg', 366934),\n",
       " ('Japan', 366915),\n",
       " ('French Southern Territories', 367279),\n",
       " ('Dominican Republic', 367068),\n",
       " ('Morocco', 367267),\n",
       " ('Equatorial Guinea', 367685),\n",
       " ('Norway', 367270),\n",
       " ('Philippines', 366518),\n",
       " ('Sri Lanka', 367103),\n",
       " ('Italy', 366673),\n",
       " ('Spain', 366625),\n",
       " ('Sudan', 367873),\n",
       " ('Rwanda', 366937),\n",
       " ('Cuba', 368041),\n",
       " ('Lebanon', 366673),\n",
       " ('Denmark', 367074),\n",
       " ('Palau', 368137),\n",
       " ('Finland', 367616),\n",
       " ('Brazil', 367994),\n",
       " ('French Polynesia', 367450),\n",
       " ('Bouvet Island (Bouvetoya)', 367128),\n",
       " ('Georgia', 367398),\n",
       " ('United Kingdom', 367508),\n",
       " ('French Guiana', 368010),\n",
       " ('Somalia', 366943),\n",
       " ('Anguilla', 366526),\n",
       " ('Guatemala', 367344),\n",
       " ('Ukraine', 368115),\n",
       " ('Burundi', 367550),\n",
       " ('Central African Republic', 368241),\n",
       " ('Nauru', 366337),\n",
       " ('Guyana', 367416),\n",
       " ('Mongolia', 367049),\n",
       " ('Cyprus', 367106),\n",
       " ('Pakistan', 366933),\n",
       " ('Liberia', 367786),\n",
       " ('Zambia', 367603),\n",
       " ('France', 366069),\n",
       " ('Isle of Man', 368002),\n",
       " ('Uruguay', 367594),\n",
       " ('Netherlands Antilles', 367214),\n",
       " ('Qatar', 366766),\n",
       " ('Turks and Caicos Islands', 366548),\n",
       " ('Madagascar', 366958),\n",
       " ('Greenland', 366525),\n",
       " ('Yemen', 367245),\n",
       " ('Saint Pierre and Miquelon', 366962),\n",
       " ('Uganda', 366890),\n",
       " ('New Zealand', 368531),\n",
       " ('Malta', 366685),\n",
       " ('Swaziland', 367444),\n",
       " ('Slovenia', 367541),\n",
       " ('Syrian Arab Republic', 367325),\n",
       " ('Ecuador', 366781),\n",
       " ('Botswana', 367662),\n",
       " ('Mexico', 366715),\n",
       " ('Barbados', 368175),\n",
       " ('Saint Kitts and Nevis', 367058),\n",
       " ('Antarctica (the territory South of 60 deg S)', 367104),\n",
       " ('Faroe Islands', 367316),\n",
       " ('Sao Tome and Principe', 367344),\n",
       " ('Libyan Arab Jamahiriya', 367275),\n",
       " ('Costa Rica', 367812),\n",
       " ('Suriname', 368353),\n",
       " ('Saudi Arabia', 366639),\n",
       " ('Ethiopia', 367504),\n",
       " ('Monaco', 367861),\n",
       " ('Guinea-Bissau', 366428),\n",
       " ('Sierra Leone', 367403),\n",
       " ('Germany', 366781),\n",
       " ('Chile', 367896),\n",
       " ('Dominica', 368017),\n",
       " ('Saint Vincent and the Grenadines', 367118),\n",
       " ('Tunisia', 367228),\n",
       " ('Venezuela', 366607),\n",
       " ('Estonia', 367633),\n",
       " ('British Virgin Islands', 367334),\n",
       " ('Gibraltar', 366379),\n",
       " ('New Caledonia', 368005),\n",
       " ('Vietnam', 368660),\n",
       " ('Netherlands', 367082),\n",
       " ('Trinidad and Tobago', 367523),\n",
       " ('Jamaica', 367152),\n",
       " ('Niue', 367450),\n",
       " ('Armenia', 367690),\n",
       " ('Jordan', 368357),\n",
       " ('Turkey', 367197),\n",
       " ('Chad', 367644),\n",
       " ('United States Minor Outlying Islands', 366412),\n",
       " ('Cayman Islands', 367081),\n",
       " ('Sweden', 367410),\n",
       " ('Panama', 366905),\n",
       " ('Eritrea', 366794),\n",
       " ('China', 369168),\n",
       " ('Fiji', 367517),\n",
       " ('Algeria', 366594),\n",
       " ('Saint Helena', 367954),\n",
       " ('Svalbard & Jan Mayen Islands', 366858),\n",
       " ('Switzerland', 367793),\n",
       " ('Tuvalu', 367420),\n",
       " ('Czech Republic', 366399),\n",
       " ('Tonga', 367806),\n",
       " ('Christmas Island', 367576),\n",
       " ('Djibouti', 367388),\n",
       " ('Slovakia (Slovak Republic)', 366792),\n",
       " ('Jersey', 366988),\n",
       " ('Guernsey', 367982),\n",
       " ('Congo', 735566),\n",
       " ('Cape Verde', 368325),\n",
       " ('Andorra', 367144),\n",
       " ('Solomon Islands', 367632),\n",
       " ('Nepal', 367367),\n",
       " ('Russian Federation', 366882),\n",
       " ('Iceland', 366971),\n",
       " ('Korea', 733530),\n",
       " ('Thailand', 367620),\n",
       " ('Bermuda', 368519),\n",
       " ('Saint Lucia', 367751),\n",
       " ('Montenegro', 367644),\n",
       " ('Tanzania', 367824),\n",
       " (\"Cote d'Ivoire\", 366928),\n",
       " ('Liechtenstein', 367362),\n",
       " ('Afghanistan', 367698),\n",
       " ('Indonesia', 367083),\n",
       " ('Canada', 367383),\n",
       " ('Israel', 366999),\n",
       " ('Colombia', 366211),\n",
       " ('Grenada', 366497),\n",
       " ('Taiwan', 367215),\n",
       " ('Saint Barthelemy', 366914),\n",
       " ('Malawi', 367575),\n",
       " ('El Salvador', 367513),\n",
       " ('Australia', 368188),\n",
       " ('Cambodia', 367445),\n",
       " ('Ghana', 367665),\n",
       " ('Latvia', 368682),\n",
       " ('Belgium', 367305),\n",
       " ('Kenya', 368385),\n",
       " ('Belarus', 367550),\n",
       " ('Niger', 366887),\n",
       " ('Cameroon', 367474),\n",
       " ('Singapore', 366416),\n",
       " ('Nicaragua', 367190),\n",
       " ('Hong Kong', 367278),\n",
       " ('Wallis and Futuna', 367819),\n",
       " ('Hungary', 366832),\n",
       " ('Cook Islands', 367071),\n",
       " ('Gabon', 367252),\n",
       " ('Paraguay', 367688),\n",
       " ('United States Virgin Islands', 368615),\n",
       " ('Seychelles', 367223),\n",
       " ('Gambia', 367714),\n",
       " ('North Macedonia', 366861),\n",
       " ('Montserrat', 367231),\n",
       " ('Mayotte', 367013),\n",
       " ('Bolivia', 368315),\n",
       " ('Bhutan', 366903),\n",
       " ('Kazakhstan', 367457),\n",
       " ('Nigeria', 367060),\n",
       " ('Cocos (Keeling) Islands', 368117),\n",
       " ('Benin', 368184),\n",
       " ('Egypt', 367069),\n",
       " ('Bosnia and Herzegovina', 365741),\n",
       " ('Macao', 366974),\n",
       " ('Moldova', 367467)]"
      ]
     },
     "execution_count": 13,
     "metadata": {},
     "output_type": "execute_result"
    }
   ],
   "source": [
    "cities_in_country = city_freq.reduceByKey(lambda x,y: x+y)\n",
    "cities_in_country.collect()"
   ]
  },
  {
   "cell_type": "markdown",
   "id": "9b0a0f08-61c8-4bf6-bb9f-ced21d57c36d",
   "metadata": {},
   "source": [
    "##### 2. Top 10 thành phố có số lượng female nhiều nhất "
   ]
  },
  {
   "cell_type": "code",
   "execution_count": 14,
   "id": "1ab42f4e-58d8-4534-831d-ae74104ba3de",
   "metadata": {},
   "outputs": [
    {
     "data": {
      "text/plain": [
       "['8fe8ff6b7594cc4b3c902aab45bc3843,Troy Blackwell,66,Female,Malawi',\n",
       " 'bc2d3b5007d0c1cc0cd4b9b2ff0b0331,Ronald Carter,53,Female,Honduras',\n",
       " 'b322307d00d20dd1471b44198a077d22,Mr. Christopher Jackson Jr.,19,Female,French Guiana',\n",
       " '5500eb8b400b0a2a77154f4b21189af2,Amber Smith,42,Female,Lebanon',\n",
       " 'c72312d13abba430960f1fd96338cf39,James Campbell,29,Female,Cyprus']"
      ]
     },
     "execution_count": 14,
     "metadata": {},
     "output_type": "execute_result"
    }
   ],
   "source": [
    "female_in_country = data_csv_rdd_vpn.filter(lambda x: x.split(\",\")[3] == 'Female')\n",
    "female_in_country.take(5)"
   ]
  },
  {
   "cell_type": "code",
   "execution_count": 15,
   "id": "bd5825d7-599b-47a2-b615-ccd1b7e3ad5a",
   "metadata": {},
   "outputs": [
    {
     "data": {
      "text/plain": [
       "[('Malawi', 1),\n",
       " ('Honduras', 1),\n",
       " ('French Guiana', 1),\n",
       " ('Lebanon', 1),\n",
       " ('Cyprus', 1)]"
      ]
     },
     "execution_count": 15,
     "metadata": {},
     "output_type": "execute_result"
    }
   ],
   "source": [
    "female_in_per_countries = female_in_country.map(lambda x : (x.split(\",\")[4],1))\n",
    "female_in_per_countries.take(5)"
   ]
  },
  {
   "cell_type": "code",
   "execution_count": 16,
   "id": "156897fb-5474-4112-a572-fc1a1c1507d1",
   "metadata": {},
   "outputs": [],
   "source": [
    "amount_female_in_per_countries = female_in_per_countries.reduceByKey(lambda x,y: x+y)"
   ]
  },
  {
   "cell_type": "code",
   "execution_count": 17,
   "id": "c8411499-d167-420a-886a-edccc7f72807",
   "metadata": {},
   "outputs": [
    {
     "data": {
      "text/plain": [
       "[('Congo', 367614),\n",
       " ('Korea', 367194),\n",
       " ('Ukraine', 184994),\n",
       " ('Samoa', 184607),\n",
       " ('Pitcairn Islands', 184594),\n",
       " ('Kenya', 184588),\n",
       " ('China', 184586),\n",
       " ('Croatia', 184542),\n",
       " ('Iraq', 184538),\n",
       " ('Cape Verde', 184519)]"
      ]
     },
     "execution_count": 17,
     "metadata": {},
     "output_type": "execute_result"
    }
   ],
   "source": [
    "the_country_have_highest_female = amount_female_in_per_countries.sortBy(lambda x: x[1],False)\n",
    "the_country_have_highest_female.take(10)"
   ]
  },
  {
   "cell_type": "markdown",
   "id": "1fe2410e-489d-452a-a789-62e162056cc2",
   "metadata": {},
   "source": [
    "#### Visualize run trên hdfs và local "
   ]
  },
  {
   "cell_type": "code",
   "execution_count": 19,
   "id": "0143a718-84d6-4c12-9f2c-f542651bb7fa",
   "metadata": {},
   "outputs": [
    {
     "data": {
      "image/png": "[encoded data removed]",
      "text/plain": [
       "<Figure size 800x500 with 1 Axes>"
      ]
     },
     "metadata": {},
     "output_type": "display_data"
    }
   ],
   "source": [
    "compare_hdfs_and_local(time_local_csv, time_hdfs_csv)"
   ]
  },
  {
   "cell_type": "markdown",
   "id": "c89790b9-fb7b-4e3d-a942-5596705d1ab8",
   "metadata": {},
   "source": [
    "### Demo Spark SQL && Spark DataFrame"
   ]
  },
  {
   "cell_type": "code",
   "execution_count": 27,
   "id": "3a1b1bc0-dddd-42ed-aa5e-1a1104d5adfe",
   "metadata": {},
   "outputs": [],
   "source": [
    "from pyspark.sql import SparkSession\n",
    "spark_hdfs = SparkSession.builder.appName(\"DF basic\").getOrCreate()"
   ]
  },
  {
   "cell_type": "code",
   "execution_count": 28,
   "id": "b8e56b25-0767-4068-a8e3-9b528935f0d0",
   "metadata": {},
   "outputs": [],
   "source": [
    "orders_df = spark_hdfs.read \\\n",
    "        .format(\"csv\") \\\n",
    "        .option(\"header\", \"true\") \\\n",
    "        .option(\"inferSchema\", \"true\") \\\n",
    "        .load(\"hdfs://172.30.2.147:9000/demo_directory/orders_wh.csv\")"
   ]
  },
  {
   "cell_type": "code",
   "execution_count": 29,
   "id": "e7a8edf5-7ded-431d-bcbb-4aa0bb562a4d",
   "metadata": {},
   "outputs": [
    {
     "name": "stdout",
     "output_type": "stream",
     "text": [
      "+--------+-------------------+-----------+---------------+\n",
      "|order_id|         order_date|customer_id|   order_status|\n",
      "+--------+-------------------+-----------+---------------+\n",
      "|       1|2013-07-25 00:00:00|      11599|         CLOSED|\n",
      "|       2|2013-07-25 00:00:00|        256|PENDING_PAYMENT|\n",
      "|       3|2013-07-25 00:00:00|      12111|       COMPLETE|\n",
      "|       4|2013-07-25 00:00:00|       8827|         CLOSED|\n",
      "|       5|2013-07-25 00:00:00|      11318|       COMPLETE|\n",
      "|       6|2013-07-25 00:00:00|       7130|       COMPLETE|\n",
      "|       7|2013-07-25 00:00:00|       4530|       COMPLETE|\n",
      "|       8|2013-07-25 00:00:00|       2911|     PROCESSING|\n",
      "|       9|2013-07-25 00:00:00|       5657|PENDING_PAYMENT|\n",
      "|      10|2013-07-25 00:00:00|       5648|PENDING_PAYMENT|\n",
      "|      11|2013-07-25 00:00:00|        918| PAYMENT_REVIEW|\n",
      "|      12|2013-07-25 00:00:00|       1837|         CLOSED|\n",
      "|      13|2013-07-25 00:00:00|       9149|PENDING_PAYMENT|\n",
      "|      14|2013-07-25 00:00:00|       9842|     PROCESSING|\n",
      "|      15|2013-07-25 00:00:00|       2568|       COMPLETE|\n",
      "|      16|2013-07-25 00:00:00|       7276|PENDING_PAYMENT|\n",
      "|      17|2013-07-25 00:00:00|       2667|       COMPLETE|\n",
      "|      18|2013-07-25 00:00:00|       1205|         CLOSED|\n",
      "|      19|2013-07-25 00:00:00|       9488|PENDING_PAYMENT|\n",
      "|      20|2013-07-25 00:00:00|       9198|     PROCESSING|\n",
      "+--------+-------------------+-----------+---------------+\n",
      "only showing top 20 rows\n",
      "\n"
     ]
    }
   ],
   "source": [
    "orders_df.show()"
   ]
  },
  {
   "cell_type": "code",
   "execution_count": 31,
   "id": "da305703-839c-4325-902a-b0e24f299486",
   "metadata": {},
   "outputs": [
    {
     "name": "stdout",
     "output_type": "stream",
     "text": [
      "root\n",
      " |-- order_id: integer (nullable = true)\n",
      " |-- order_date: timestamp (nullable = true)\n",
      " |-- customer_id: integer (nullable = true)\n",
      " |-- order_status: string (nullable = true)\n",
      "\n"
     ]
    }
   ],
   "source": [
    "### kiểm tra loại dữ liệu trong spark \n",
    "orders_df.printSchema()"
   ]
  },
  {
   "cell_type": "markdown",
   "id": "2f2b297c-7c2c-48d9-8a0d-fcd8fd771e87",
   "metadata": {},
   "source": [
    "##### Thêm một đổi kiểu dữ liệu và thêm một column mới"
   ]
  },
  {
   "cell_type": "code",
   "execution_count": 33,
   "id": "42c4b599-90e9-4870-8ca2-aee1b829fa20",
   "metadata": {},
   "outputs": [],
   "source": [
    "from pyspark.sql.functions import *"
   ]
  },
  {
   "cell_type": "code",
   "execution_count": 35,
   "id": "ad552c8c-c442-4bf0-919e-09e2081b029e",
   "metadata": {},
   "outputs": [],
   "source": [
    "### đổi kiểu dữ liệu\n",
    "transformed_df1 = orders_df.withColumn(\"id cust_new\", col(\"customer_id\").cast(\"string\"))"
   ]
  },
  {
   "cell_type": "code",
   "execution_count": 36,
   "id": "45d20463-51d8-45bf-8b4e-5920bb8cc88a",
   "metadata": {},
   "outputs": [
    {
     "name": "stdout",
     "output_type": "stream",
     "text": [
      "root\n",
      " |-- order_id: integer (nullable = true)\n",
      " |-- order_date: timestamp (nullable = true)\n",
      " |-- customer_id: integer (nullable = true)\n",
      " |-- order_status: string (nullable = true)\n",
      " |-- id cust_new: string (nullable = true)\n",
      "\n"
     ]
    }
   ],
   "source": [
    "transformed_df1.printSchema()"
   ]
  },
  {
   "cell_type": "code",
   "execution_count": 38,
   "id": "39df0a71-39cb-4995-b337-802f789fdbb8",
   "metadata": {},
   "outputs": [
    {
     "name": "stdout",
     "output_type": "stream",
     "text": [
      "+--------+-------------------+-----------+---------------+-----------+\n",
      "|order_id|         order_date|customer_id|   order_status|id cust_new|\n",
      "+--------+-------------------+-----------+---------------+-----------+\n",
      "|       1|2013-07-25 00:00:00|      11599|         CLOSED|      11599|\n",
      "|       2|2013-07-25 00:00:00|        256|PENDING_PAYMENT|        256|\n",
      "|       3|2013-07-25 00:00:00|      12111|       COMPLETE|      12111|\n",
      "|       4|2013-07-25 00:00:00|       8827|         CLOSED|       8827|\n",
      "|       5|2013-07-25 00:00:00|      11318|       COMPLETE|      11318|\n",
      "|       6|2013-07-25 00:00:00|       7130|       COMPLETE|       7130|\n",
      "|       7|2013-07-25 00:00:00|       4530|       COMPLETE|       4530|\n",
      "|       8|2013-07-25 00:00:00|       2911|     PROCESSING|       2911|\n",
      "|       9|2013-07-25 00:00:00|       5657|PENDING_PAYMENT|       5657|\n",
      "|      10|2013-07-25 00:00:00|       5648|PENDING_PAYMENT|       5648|\n",
      "|      11|2013-07-25 00:00:00|        918| PAYMENT_REVIEW|        918|\n",
      "|      12|2013-07-25 00:00:00|       1837|         CLOSED|       1837|\n",
      "|      13|2013-07-25 00:00:00|       9149|PENDING_PAYMENT|       9149|\n",
      "|      14|2013-07-25 00:00:00|       9842|     PROCESSING|       9842|\n",
      "|      15|2013-07-25 00:00:00|       2568|       COMPLETE|       2568|\n",
      "|      16|2013-07-25 00:00:00|       7276|PENDING_PAYMENT|       7276|\n",
      "|      17|2013-07-25 00:00:00|       2667|       COMPLETE|       2667|\n",
      "|      18|2013-07-25 00:00:00|       1205|         CLOSED|       1205|\n",
      "|      19|2013-07-25 00:00:00|       9488|PENDING_PAYMENT|       9488|\n",
      "|      20|2013-07-25 00:00:00|       9198|     PROCESSING|       9198|\n",
      "+--------+-------------------+-----------+---------------+-----------+\n",
      "only showing top 20 rows\n",
      "\n"
     ]
    }
   ],
   "source": [
    "transformed_df1.show()"
   ]
  },
  {
   "cell_type": "markdown",
   "id": "8d3c3cd4-af9a-413e-aae3-0119cd800fa5",
   "metadata": {},
   "source": [
    "##### đổi tên column"
   ]
  },
  {
   "cell_type": "code",
   "execution_count": 43,
   "id": "f18f8529-4067-4682-a938-71ce7fc9a4dd",
   "metadata": {},
   "outputs": [],
   "source": [
    "transformed_df2 = orders_df.withColumnRenamed(\"order_status\", \"status\")"
   ]
  },
  {
   "cell_type": "code",
   "execution_count": 45,
   "id": "7f9c7859-f2cf-426c-82db-6cfc7557f226",
   "metadata": {},
   "outputs": [
    {
     "name": "stdout",
     "output_type": "stream",
     "text": [
      "+--------+-------------------+-----------+---------------+\n",
      "|order_id|         order_date|customer_id|         status|\n",
      "+--------+-------------------+-----------+---------------+\n",
      "|       1|2013-07-25 00:00:00|      11599|         CLOSED|\n",
      "|       2|2013-07-25 00:00:00|        256|PENDING_PAYMENT|\n",
      "|       3|2013-07-25 00:00:00|      12111|       COMPLETE|\n",
      "|       4|2013-07-25 00:00:00|       8827|         CLOSED|\n",
      "|       5|2013-07-25 00:00:00|      11318|       COMPLETE|\n",
      "+--------+-------------------+-----------+---------------+\n",
      "only showing top 5 rows\n",
      "\n"
     ]
    }
   ],
   "source": [
    "transformed_df2.show(5)"
   ]
  },
  {
   "cell_type": "markdown",
   "id": "1b64ede5-7adc-4ada-b588-13e3dadbebf8",
   "metadata": {},
   "source": [
    "##### Chọn nhũng column cần thiết bằng drop và select"
   ]
  },
  {
   "cell_type": "code",
   "execution_count": 46,
   "id": "eff3e7b1-d047-48a8-90e1-4d78dbfb7b3d",
   "metadata": {},
   "outputs": [],
   "source": [
    "final_df = transformed_df2.select(\"order_id\", \"status\")"
   ]
  },
  {
   "cell_type": "code",
   "execution_count": 47,
   "id": "507ef7cf-0e0b-4ef9-8cc7-d993d26cb5a0",
   "metadata": {},
   "outputs": [
    {
     "name": "stdout",
     "output_type": "stream",
     "text": [
      "+--------+---------------+\n",
      "|order_id|         status|\n",
      "+--------+---------------+\n",
      "|       1|         CLOSED|\n",
      "|       2|PENDING_PAYMENT|\n",
      "|       3|       COMPLETE|\n",
      "|       4|         CLOSED|\n",
      "|       5|       COMPLETE|\n",
      "+--------+---------------+\n",
      "only showing top 5 rows\n",
      "\n"
     ]
    }
   ],
   "source": [
    "final_df.show(5)"
   ]
  },
  {
   "cell_type": "code",
   "execution_count": 48,
   "id": "badb26a2-f282-49fb-9151-f62be81daf21",
   "metadata": {},
   "outputs": [],
   "source": [
    "final_df2 = transformed_df2.drop(\"order_date\", \"customer_id\")"
   ]
  },
  {
   "cell_type": "code",
   "execution_count": 49,
   "id": "de69df0a-5bd3-4e07-9140-1414ad68ffcf",
   "metadata": {},
   "outputs": [
    {
     "name": "stdout",
     "output_type": "stream",
     "text": [
      "+--------+---------------+\n",
      "|order_id|         status|\n",
      "+--------+---------------+\n",
      "|       1|         CLOSED|\n",
      "|       2|PENDING_PAYMENT|\n",
      "|       3|       COMPLETE|\n",
      "|       4|         CLOSED|\n",
      "|       5|       COMPLETE|\n",
      "+--------+---------------+\n",
      "only showing top 5 rows\n",
      "\n"
     ]
    }
   ],
   "source": [
    "final_df2.show(5)"
   ]
  },
  {
   "cell_type": "markdown",
   "id": "14c08f41-bd4d-400f-989b-1534f35b4dec",
   "metadata": {},
   "source": [
    "##### Spark read"
   ]
  },
  {
   "cell_type": "code",
   "execution_count": 50,
   "id": "f771c865-73b0-4b60-87d0-4271112452e6",
   "metadata": {},
   "outputs": [],
   "source": [
    "from pyspark.sql import SparkSession\n",
    "spark = SparkSession.builder.appName(\"spark read\").getOrCreate()"
   ]
  },
  {
   "cell_type": "code",
   "execution_count": 51,
   "id": "7bbce809-445c-489f-9af0-a65ff97a3d3c",
   "metadata": {},
   "outputs": [],
   "source": [
    "orders_df = spark.read.csv(\"hdfs://172.30.2.147:9000/demo_directory/orders_wh.csv\", \n",
    "                           header = \"true\", inferSchema = \"true\")"
   ]
  },
  {
   "cell_type": "code",
   "execution_count": 53,
   "id": "91365bc9-d221-4606-bd58-b7bcdb02081d",
   "metadata": {},
   "outputs": [],
   "source": [
    "## tạo temp view để có thể dùng spark sql --> temp view này chỉ tồn tạo trong một session thôi\n",
    "orders_df.createOrReplaceTempView(\"orders\") ## --> ta đã tạo được 1 table orders từ dataframe"
   ]
  },
  {
   "cell_type": "code",
   "execution_count": 57,
   "id": "fb478bfd-807f-4e41-9a07-a59e80ccf521",
   "metadata": {},
   "outputs": [],
   "source": [
    "df = spark.sql(\"select * from orders\") \n",
    "# --> giúp ta có thể xử lý dữ liệu như viết sql thông thường viết xong gán vào df"
   ]
  },
  {
   "cell_type": "code",
   "execution_count": 55,
   "id": "1ba13496-969a-4c34-8bac-986f18207e3f",
   "metadata": {},
   "outputs": [
    {
     "name": "stdout",
     "output_type": "stream",
     "text": [
      "+--------+-------------------+-----------+---------------+\n",
      "|order_id|         order_date|customer_id|   order_status|\n",
      "+--------+-------------------+-----------+---------------+\n",
      "|       1|2013-07-25 00:00:00|      11599|         CLOSED|\n",
      "|       2|2013-07-25 00:00:00|        256|PENDING_PAYMENT|\n",
      "|       3|2013-07-25 00:00:00|      12111|       COMPLETE|\n",
      "|       4|2013-07-25 00:00:00|       8827|         CLOSED|\n",
      "|       5|2013-07-25 00:00:00|      11318|       COMPLETE|\n",
      "+--------+-------------------+-----------+---------------+\n",
      "only showing top 5 rows\n",
      "\n"
     ]
    }
   ],
   "source": [
    "df.show(5)"
   ]
  },
  {
   "cell_type": "markdown",
   "id": "b3950639-6cd9-4f92-8fc9-363372f13408",
   "metadata": {},
   "source": [
    "##### Managed table vs external table"
   ]
  },
  {
   "cell_type": "code",
   "execution_count": 84,
   "id": "2e6d60db-9a05-4f68-bdd5-910341623299",
   "metadata": {},
   "outputs": [],
   "source": [
    "from pyspark.sql import SparkSession\n",
    "\n",
    "spark_hdfs = SparkSession. \\\n",
    "    builder. \\\n",
    "    config(\"spark.sql.warehouse.dir\", \"hdfs://172.30.2.147:9000/demo_directory/warehouse\"). \\\n",
    "    enableHiveSupport(). \\\n",
    "    getOrCreate()"
   ]
  },
  {
   "cell_type": "code",
   "execution_count": 60,
   "id": "bebae42b-9094-41cf-9bf5-8e5b21ec8a97",
   "metadata": {},
   "outputs": [],
   "source": [
    "orders_df = spark.read.csv(\"hdfs://172.30.2.147:9000/demo_directory/orders_wh.csv\", \n",
    "                           header = \"true\", inferSchema = \"true\")"
   ]
  },
  {
   "cell_type": "code",
   "execution_count": 63,
   "id": "b7ad2804-2bb9-4767-8cdf-f2eecb4e6105",
   "metadata": {},
   "outputs": [],
   "source": [
    "orders_df.createOrReplaceTempView(\"orders_tmp\")"
   ]
  },
  {
   "cell_type": "code",
   "execution_count": 71,
   "id": "a1532447-060c-4632-ab4f-1e752d7e2ad2",
   "metadata": {},
   "outputs": [
    {
     "name": "stdout",
     "output_type": "stream",
     "text": [
      "+--------+-------------------+-----------+---------------+\n",
      "|order_id|         order_date|customer_id|   order_status|\n",
      "+--------+-------------------+-----------+---------------+\n",
      "|       1|2013-07-25 00:00:00|      11599|         CLOSED|\n",
      "|       2|2013-07-25 00:00:00|        256|PENDING_PAYMENT|\n",
      "|       3|2013-07-25 00:00:00|      12111|       COMPLETE|\n",
      "|       4|2013-07-25 00:00:00|       8827|         CLOSED|\n",
      "|       5|2013-07-25 00:00:00|      11318|       COMPLETE|\n",
      "|       6|2013-07-25 00:00:00|       7130|       COMPLETE|\n",
      "|       7|2013-07-25 00:00:00|       4530|       COMPLETE|\n",
      "|       8|2013-07-25 00:00:00|       2911|     PROCESSING|\n",
      "|       9|2013-07-25 00:00:00|       5657|PENDING_PAYMENT|\n",
      "|      10|2013-07-25 00:00:00|       5648|PENDING_PAYMENT|\n",
      "|      11|2013-07-25 00:00:00|        918| PAYMENT_REVIEW|\n",
      "|      12|2013-07-25 00:00:00|       1837|         CLOSED|\n",
      "|      13|2013-07-25 00:00:00|       9149|PENDING_PAYMENT|\n",
      "|      14|2013-07-25 00:00:00|       9842|     PROCESSING|\n",
      "|      15|2013-07-25 00:00:00|       2568|       COMPLETE|\n",
      "|      16|2013-07-25 00:00:00|       7276|PENDING_PAYMENT|\n",
      "|      17|2013-07-25 00:00:00|       2667|       COMPLETE|\n",
      "|      18|2013-07-25 00:00:00|       1205|         CLOSED|\n",
      "|      19|2013-07-25 00:00:00|       9488|PENDING_PAYMENT|\n",
      "|      20|2013-07-25 00:00:00|       9198|     PROCESSING|\n",
      "+--------+-------------------+-----------+---------------+\n",
      "only showing top 20 rows\n",
      "\n"
     ]
    }
   ],
   "source": [
    "spark.sql(\"select * from orders_tmp\").show()"
   ]
  },
  {
   "cell_type": "code",
   "execution_count": 68,
   "id": "b67b8878-7533-4fe8-89d6-81b665d5e3ff",
   "metadata": {},
   "outputs": [
    {
     "data": {
      "text/plain": [
       "DataFrame[]"
      ]
     },
     "execution_count": 68,
     "metadata": {},
     "output_type": "execute_result"
    }
   ],
   "source": [
    "## tạo database bằng spark sql\n",
    "spark.sql(\"create database if not exists spark_sql_database\")"
   ]
  },
  {
   "cell_type": "code",
   "execution_count": 69,
   "id": "e2a6f399-c583-4d24-86bf-f316c67b2a57",
   "metadata": {},
   "outputs": [
    {
     "name": "stdout",
     "output_type": "stream",
     "text": [
      "+------------------+\n",
      "|         namespace|\n",
      "+------------------+\n",
      "|           default|\n",
      "|spark_sql_database|\n",
      "+------------------+\n",
      "\n"
     ]
    }
   ],
   "source": [
    "spark.sql(\"show databases\").show()"
   ]
  },
  {
   "cell_type": "code",
   "execution_count": 83,
   "id": "7e5419d5-ce8f-452a-a2c2-f16c48e568f6",
   "metadata": {
    "scrolled": true
   },
   "outputs": [
    {
     "ename": "AnalysisException",
     "evalue": "[NOT_SUPPORTED_COMMAND_WITHOUT_HIVE_SUPPORT] CREATE Hive TABLE (AS SELECT) is not supported, if you want to enable it, please set \"spark.sql.catalogImplementation\" to \"hive\".;\n'CreateTable `spark_catalog`.`spark_sql_database`.`orders_managed`, org.apache.hadoop.hive.serde2.lazy.LazySimpleSerDe, Ignore\n+- Project [order_id#257, order_date#258, customer_id#259, order_status#260]\n   +- SubqueryAlias orders_tmp\n      +- View (`orders_tmp`, [order_id#257,order_date#258,customer_id#259,order_status#260])\n         +- Relation [order_id#257,order_date#258,customer_id#259,order_status#260] csv\n",
     "output_type": "error",
     "traceback": [
      "\u001b[1;31m---------------------------------------------------------------------------\u001b[0m",
      "\u001b[1;31mAnalysisException\u001b[0m                         Traceback (most recent call last)",
      "Cell \u001b[1;32mIn[83], line 1\u001b[0m\n\u001b[1;32m----> 1\u001b[0m \u001b[43mspark\u001b[49m\u001b[38;5;241;43m.\u001b[39;49m\u001b[43msql\u001b[49m\u001b[43m(\u001b[49m\u001b[38;5;124;43m\"\u001b[39;49m\u001b[38;5;124;43mcreate table if not exists spark_sql_database.orders_managed as select * from orders_tmp\u001b[39;49m\u001b[38;5;124;43m\"\u001b[39;49m\u001b[43m)\u001b[49m\n",
      "File \u001b[1;32m~\\AppData\\Local\\Programs\\Python\\Python310\\lib\\site-packages\\pyspark\\sql\\session.py:1631\u001b[0m, in \u001b[0;36mSparkSession.sql\u001b[1;34m(self, sqlQuery, args, **kwargs)\u001b[0m\n\u001b[0;32m   1627\u001b[0m         \u001b[38;5;28;01massert\u001b[39;00m \u001b[38;5;28mself\u001b[39m\u001b[38;5;241m.\u001b[39m_jvm \u001b[38;5;129;01mis\u001b[39;00m \u001b[38;5;129;01mnot\u001b[39;00m \u001b[38;5;28;01mNone\u001b[39;00m\n\u001b[0;32m   1628\u001b[0m         litArgs \u001b[38;5;241m=\u001b[39m \u001b[38;5;28mself\u001b[39m\u001b[38;5;241m.\u001b[39m_jvm\u001b[38;5;241m.\u001b[39mPythonUtils\u001b[38;5;241m.\u001b[39mtoArray(\n\u001b[0;32m   1629\u001b[0m             [_to_java_column(lit(v)) \u001b[38;5;28;01mfor\u001b[39;00m v \u001b[38;5;129;01min\u001b[39;00m (args \u001b[38;5;129;01mor\u001b[39;00m [])]\n\u001b[0;32m   1630\u001b[0m         )\n\u001b[1;32m-> 1631\u001b[0m     \u001b[38;5;28;01mreturn\u001b[39;00m DataFrame(\u001b[38;5;28;43mself\u001b[39;49m\u001b[38;5;241;43m.\u001b[39;49m\u001b[43m_jsparkSession\u001b[49m\u001b[38;5;241;43m.\u001b[39;49m\u001b[43msql\u001b[49m\u001b[43m(\u001b[49m\u001b[43msqlQuery\u001b[49m\u001b[43m,\u001b[49m\u001b[43m \u001b[49m\u001b[43mlitArgs\u001b[49m\u001b[43m)\u001b[49m, \u001b[38;5;28mself\u001b[39m)\n\u001b[0;32m   1632\u001b[0m \u001b[38;5;28;01mfinally\u001b[39;00m:\n\u001b[0;32m   1633\u001b[0m     \u001b[38;5;28;01mif\u001b[39;00m \u001b[38;5;28mlen\u001b[39m(kwargs) \u001b[38;5;241m>\u001b[39m \u001b[38;5;241m0\u001b[39m:\n",
      "File \u001b[1;32m~\\AppData\\Local\\Programs\\Python\\Python310\\lib\\site-packages\\py4j\\java_gateway.py:1322\u001b[0m, in \u001b[0;36mJavaMember.__call__\u001b[1;34m(self, *args)\u001b[0m\n\u001b[0;32m   1316\u001b[0m command \u001b[38;5;241m=\u001b[39m proto\u001b[38;5;241m.\u001b[39mCALL_COMMAND_NAME \u001b[38;5;241m+\u001b[39m\\\n\u001b[0;32m   1317\u001b[0m     \u001b[38;5;28mself\u001b[39m\u001b[38;5;241m.\u001b[39mcommand_header \u001b[38;5;241m+\u001b[39m\\\n\u001b[0;32m   1318\u001b[0m     args_command \u001b[38;5;241m+\u001b[39m\\\n\u001b[0;32m   1319\u001b[0m     proto\u001b[38;5;241m.\u001b[39mEND_COMMAND_PART\n\u001b[0;32m   1321\u001b[0m answer \u001b[38;5;241m=\u001b[39m \u001b[38;5;28mself\u001b[39m\u001b[38;5;241m.\u001b[39mgateway_client\u001b[38;5;241m.\u001b[39msend_command(command)\n\u001b[1;32m-> 1322\u001b[0m return_value \u001b[38;5;241m=\u001b[39m \u001b[43mget_return_value\u001b[49m\u001b[43m(\u001b[49m\n\u001b[0;32m   1323\u001b[0m \u001b[43m    \u001b[49m\u001b[43manswer\u001b[49m\u001b[43m,\u001b[49m\u001b[43m \u001b[49m\u001b[38;5;28;43mself\u001b[39;49m\u001b[38;5;241;43m.\u001b[39;49m\u001b[43mgateway_client\u001b[49m\u001b[43m,\u001b[49m\u001b[43m \u001b[49m\u001b[38;5;28;43mself\u001b[39;49m\u001b[38;5;241;43m.\u001b[39;49m\u001b[43mtarget_id\u001b[49m\u001b[43m,\u001b[49m\u001b[43m \u001b[49m\u001b[38;5;28;43mself\u001b[39;49m\u001b[38;5;241;43m.\u001b[39;49m\u001b[43mname\u001b[49m\u001b[43m)\u001b[49m\n\u001b[0;32m   1325\u001b[0m \u001b[38;5;28;01mfor\u001b[39;00m temp_arg \u001b[38;5;129;01min\u001b[39;00m temp_args:\n\u001b[0;32m   1326\u001b[0m     \u001b[38;5;28;01mif\u001b[39;00m \u001b[38;5;28mhasattr\u001b[39m(temp_arg, \u001b[38;5;124m\"\u001b[39m\u001b[38;5;124m_detach\u001b[39m\u001b[38;5;124m\"\u001b[39m):\n",
      "File \u001b[1;32m~\\AppData\\Local\\Programs\\Python\\Python310\\lib\\site-packages\\pyspark\\errors\\exceptions\\captured.py:185\u001b[0m, in \u001b[0;36mcapture_sql_exception.<locals>.deco\u001b[1;34m(*a, **kw)\u001b[0m\n\u001b[0;32m    181\u001b[0m converted \u001b[38;5;241m=\u001b[39m convert_exception(e\u001b[38;5;241m.\u001b[39mjava_exception)\n\u001b[0;32m    182\u001b[0m \u001b[38;5;28;01mif\u001b[39;00m \u001b[38;5;129;01mnot\u001b[39;00m \u001b[38;5;28misinstance\u001b[39m(converted, UnknownException):\n\u001b[0;32m    183\u001b[0m     \u001b[38;5;66;03m# Hide where the exception came from that shows a non-Pythonic\u001b[39;00m\n\u001b[0;32m    184\u001b[0m     \u001b[38;5;66;03m# JVM exception message.\u001b[39;00m\n\u001b[1;32m--> 185\u001b[0m     \u001b[38;5;28;01mraise\u001b[39;00m converted \u001b[38;5;28;01mfrom\u001b[39;00m \u001b[38;5;28;01mNone\u001b[39;00m\n\u001b[0;32m    186\u001b[0m \u001b[38;5;28;01melse\u001b[39;00m:\n\u001b[0;32m    187\u001b[0m     \u001b[38;5;28;01mraise\u001b[39;00m\n",
      "\u001b[1;31mAnalysisException\u001b[0m: [NOT_SUPPORTED_COMMAND_WITHOUT_HIVE_SUPPORT] CREATE Hive TABLE (AS SELECT) is not supported, if you want to enable it, please set \"spark.sql.catalogImplementation\" to \"hive\".;\n'CreateTable `spark_catalog`.`spark_sql_database`.`orders_managed`, org.apache.hadoop.hive.serde2.lazy.LazySimpleSerDe, Ignore\n+- Project [order_id#257, order_date#258, customer_id#259, order_status#260]\n   +- SubqueryAlias orders_tmp\n      +- View (`orders_tmp`, [order_id#257,order_date#258,customer_id#259,order_status#260])\n         +- Relation [order_id#257,order_date#258,customer_id#259,order_status#260] csv\n"
     ]
    }
   ],
   "source": [
    "spark.sql(\"create table if not exists spark_sql_database.orders_managed as select * from orders_tmp\")"
   ]
  },
  {
   "cell_type": "markdown",
   "id": "207a6b30-4647-4a6d-a80b-6fa8c871a1f6",
   "metadata": {},
   "source": [
    "---> phải cài Hive trước"
   ]
  },
  {
   "cell_type": "code",
   "execution_count": 81,
   "id": "c2b47eae-07e4-4003-9ad5-9a34ebb752ff",
   "metadata": {
    "scrolled": true
   },
   "outputs": [
    {
     "name": "stdout",
     "output_type": "stream",
     "text": [
      "+---------+----------+-----------+\n",
      "|namespace| tableName|isTemporary|\n",
      "+---------+----------+-----------+\n",
      "|         |    orders|       true|\n",
      "|         |orders_tmp|       true|\n",
      "+---------+----------+-----------+\n",
      "\n"
     ]
    }
   ],
   "source": [
    "spark.sql(\"show tables in spark_sql_database\").show()"
   ]
  },
  {
   "cell_type": "code",
   "execution_count": 85,
   "id": "a1fab037-45e1-40dc-8c9d-101104fb1eeb",
   "metadata": {
    "scrolled": true
   },
   "outputs": [
    {
     "name": "stdout",
     "output_type": "stream",
     "text": [
      "+---------+----------+-----------+\n",
      "|namespace| tableName|isTemporary|\n",
      "+---------+----------+-----------+\n",
      "|         |    orders|       true|\n",
      "|         |orders_tmp|       true|\n",
      "+---------+----------+-----------+\n",
      "\n"
     ]
    }
   ],
   "source": [
    "spark.sql(\"show tables in default\").show()"
   ]
  },
  {
   "cell_type": "code",
   "execution_count": null,
   "id": "0dc02d2e-9474-4a88-b351-97183fceb00b",
   "metadata": {},
   "outputs": [],
   "source": [
    "import requests\n",
    "import time\n",
    "from io import StringIO\n",
    "from pyspark.sql import SparkSession\n",
    "\n",
    "from pyspark.sql import SparkSession\n",
    "import time\n",
    "\n",
    "spark = SparkSession.builder \\\n",
    "    .appName(\"SQL compare\") \\\n",
    "    .master(\"local[2]\") \\\n",
    "    .config(\"spark.driver.memory\", \"4g\") \\\n",
    "    .config(\"spark.executor.memory\", \"4g\") \\\n",
    "    .config(\"spark.network.timeout\", \"12000s\") \\\n",
    "    .config(\"spark.executor.heartbeatInterval\", \"2000s\") \\\n",
    "    .getOrCreate()\n",
    "\n",
    "# URL của file trên HTTP server\n",
    "url = \"http://172.30.2.147:8000/citizens_data.csv\"\n",
    "\n",
    "# Tải file qua HTTP mà không lưu ra đĩa\n",
    "response = requests.get(url)\n",
    "data = StringIO(response.text)  # Lưu dữ liệu trong bộ nhớ\n",
    "\n",
    "# Đọc dữ liệu từ bộ nhớ vào PySpark\n",
    "start_time_sv_sql = time.time()\n",
    "citizens_df_sv = spark.read.csv(data, header=\"true\", inferSchema=\"true\")\n",
    "\n",
    "# Caching dữ liệu nếu cần\n",
    "citizens_df_sv.cache()\n",
    "\n",
    "# Đăng ký DataFrame là một bảng tạm thời trong Spark SQL\n",
    "citizens_df_sv.createOrReplaceTempView(\"citizens_sv\")\n",
    "\n",
    "# Thực thi câu lệnh SQL\n",
    "result_sv = spark.sql(\"\"\"\n",
    "    SELECT country, COUNT(*) AS `the number citizens`\n",
    "    FROM citizens_hdfs\n",
    "    GROUP BY country\n",
    "\"\"\")\n",
    "result_sv.show(5)\n",
    "\n",
    "end_time_sv_sql = time.time()\n",
    "time_sv_sql = end_time_sv_sql - start_time_sv_sql\n",
    "print(f\"Thời gian chạy dùng Spark SQL với Server: {time_sv_sql:.2f} giây\")\n"
   ]
  },
  {
   "cell_type": "code",
   "execution_count": 2,
   "id": "edab7d28-a43f-4a3b-adcf-5f9517e20c95",
   "metadata": {
    "scrolled": true
   },
   "outputs": [
    {
     "name": "stdout",
     "output_type": "stream",
     "text": [
      "Collecting gtts\n",
      "  Downloading gTTS-2.5.4-py3-none-any.whl.metadata (4.1 kB)\n",
      "Requirement already satisfied: requests<3,>=2.27 in c:\\users\\dell\\appdata\\local\\programs\\python\\python310\\lib\\site-packages (from gtts) (2.32.3)\n",
      "Requirement already satisfied: click<8.2,>=7.1 in c:\\users\\dell\\appdata\\local\\programs\\python\\python310\\lib\\site-packages (from gtts) (8.1.7)\n",
      "Requirement already satisfied: colorama in c:\\users\\dell\\appdata\\local\\programs\\python\\python310\\lib\\site-packages (from click<8.2,>=7.1->gtts) (0.4.6)\n",
      "Requirement already satisfied: charset-normalizer<4,>=2 in c:\\users\\dell\\appdata\\local\\programs\\python\\python310\\lib\\site-packages (from requests<3,>=2.27->gtts) (3.4.0)\n",
      "Requirement already satisfied: idna<4,>=2.5 in c:\\users\\dell\\appdata\\local\\programs\\python\\python310\\lib\\site-packages (from requests<3,>=2.27->gtts) (3.10)\n",
      "Requirement already satisfied: urllib3<3,>=1.21.1 in c:\\users\\dell\\appdata\\local\\programs\\python\\python310\\lib\\site-packages (from requests<3,>=2.27->gtts) (2.2.3)\n",
      "Requirement already satisfied: certifi>=2017.4.17 in c:\\users\\dell\\appdata\\local\\programs\\python\\python310\\lib\\site-packages (from requests<3,>=2.27->gtts) (2024.8.30)\n",
      "Downloading gTTS-2.5.4-py3-none-any.whl (29 kB)\n",
      "Installing collected packages: gtts\n",
      "Successfully installed gtts-2.5.4\n",
      "Note: you may need to restart the kernel to use updated packages.\n"
     ]
    }
   ],
   "source": [
    "pip install gtts\n"
   ]
  },
  {
   "cell_type": "code",
   "execution_count": 5,
   "id": "aee97b3e-af59-49ff-ad6f-d0f7c6fe3274",
   "metadata": {},
   "outputs": [
    {
     "name": "stdout",
     "output_type": "stream",
     "text": [
      "Collecting python-docx\n",
      "  Downloading python_docx-1.1.2-py3-none-any.whl.metadata (2.0 kB)\n",
      "Collecting lxml>=3.1.0 (from python-docx)\n",
      "  Downloading lxml-5.3.0-cp310-cp310-win_amd64.whl.metadata (3.9 kB)\n",
      "Requirement already satisfied: typing-extensions>=4.9.0 in c:\\users\\dell\\appdata\\local\\programs\\python\\python310\\lib\\site-packages (from python-docx) (4.12.2)\n",
      "Downloading python_docx-1.1.2-py3-none-any.whl (244 kB)\n",
      "Downloading lxml-5.3.0-cp310-cp310-win_amd64.whl (3.8 MB)\n",
      "   ---------------------------------------- 0.0/3.8 MB ? eta -:--:--\n",
      "   ---------------------------------------- 3.8/3.8 MB 25.3 MB/s eta 0:00:00\n",
      "Installing collected packages: lxml, python-docx\n",
      "Successfully installed lxml-5.3.0 python-docx-1.1.2\n",
      "Note: you may need to restart the kernel to use updated packages.\n"
     ]
    }
   ],
   "source": [
    "pip install python-docx\n"
   ]
  },
  {
   "cell_type": "code",
   "execution_count": 6,
   "id": "98b69a75-b865-4010-981a-3914717da8ac",
   "metadata": {},
   "outputs": [],
   "source": [
    "from docx import Document\n",
    "from gtts import gTTS\n",
    "import os\n",
    "\n",
    "def text_to_speech(file_path):\n",
    "    # Đọc nội dung từ file .docx\n",
    "    doc = Document(file_path)\n",
    "    content = \"\"\n",
    "    for paragraph in doc.paragraphs:\n",
    "        content += paragraph.text + \"\\n\"\n",
    "\n",
    "    # Chuyển đổi văn bản thành giọng nói\n",
    "    tts = gTTS(text=content, lang='vi')  # 'vi' là mã ngôn ngữ tiếng Việt\n",
    "    tts.save(\"output.mp3\")\n",
    "    \n",
    "    # Phát file âm thanh\n",
    "    os.system(\"start output.mp3\")  # Trên Linux/Mac, dùng 'open'\n",
    "\n",
    "# Đường dẫn đến file .docx\n",
    "file_path = r\"D:\\Data Engineer\\dwh and etl\\lesson\\lesson 3\\Lịch sử tạo ra Spark.docx\"\n",
    "\n",
    "# Chạy TTS\n",
    "text_to_speech(file_path)\n"
   ]
  },
  {
   "attachments": {
    "c45a9cf3-99ab-4048-8680-2c94834e3458.png": {
     "image/png": "[encoded data removed]"
    }
   },
   "cell_type": "markdown",
   "id": "5ca1efed-0734-4421-ad87-fa4accc9110f",
   "metadata": {},
   "source": [
    "## --> note lại đoạn này quan trọng note lại hỏi anh\n",
    "tại sao ở dòng 1 thì byte nó chỉ tới byte 28 cho byte cuối cùng thôi thì byte tiếp theo phải là byte 29 cho dòng tiếp theo chứ tại sao nó lại là byte 30\n",
    "![image.png](attachment:c45a9cf3-99ab-4048-8680-2c94834e3458.png)"
   ]
  },
  {
   "cell_type": "code",
   "execution_count": 45,
   "id": "a7d5d40a-3543-4551-b84e-821c150c4245",
   "metadata": {},
   "outputs": [
    {
     "data": {
      "text/plain": [
       "41"
      ]
     },
     "execution_count": 45,
     "metadata": {},
     "output_type": "execute_result"
    }
   ],
   "source": [
    "len('big data is one of the most trending tech')"
   ]
  },
  {
   "cell_type": "code",
   "execution_count": 43,
   "id": "085579d0-a8a8-4a92-a4bf-69dc1dadeee0",
   "metadata": {},
   "outputs": [],
   "source": [
    "index_file = 'index.txt'  # Tệp chứa chỉ mục\n",
    "data_file = 'demo_spark_small_data.txt'    # Tệp dữ liệu gốc\n",
    "\n",
    "# Tạo chỉ mục\n",
    "with open(data_file, 'r', encoding='utf-8') as data, open(index_file, 'w') as index:\n",
    "    position = 0\n",
    "    while True:\n",
    "        line = data.readline()\n",
    "        if not line:  # Khi đã đọc hết dữ liệu\n",
    "            break\n",
    "        index.write(f\"{position}\\n\")\n",
    "        position = data.tell()"
   ]
  },
  {
   "cell_type": "code",
   "execution_count": 30,
   "id": "34998db4-cabc-4d16-b382-04c89f0051c0",
   "metadata": {},
   "outputs": [
    {
     "name": "stdout",
     "output_type": "stream",
     "text": [
      "0 0\n",
      "\n",
      "1 30\n",
      "\n",
      "Dòng 2: 'big data is one of the most trending tech'\n"
     ]
    }
   ],
   "source": [
    "data_file = 'demo_spark_small_data.txt'  # Tệp dữ liệu gốc\n",
    "index_file = 'index.txt'  # Tệp chứa chỉ mục\n",
    "\n",
    "# Hàm truy xuất dòng bất kỳ\n",
    "def get_line(line_number):\n",
    "    with open(index_file, 'r') as index, open(data_file, 'r', encoding='utf-8') as data:\n",
    "        # Lấy vị trí byte của dòng mong muốn\n",
    "        for i, pos in enumerate(index):\n",
    "            print(i, pos)\n",
    "            if i == line_number - 1:  # Chỉ số dòng bắt đầu từ 0 trong enumerate\n",
    "                position = int(pos.strip())  # Đọc vị trí byte\n",
    "                data.seek(position)  # Nhảy tới byte tương ứng\n",
    "                return data.readline().strip()  # Đọc dòng và loại bỏ ký tự xuống dòng\n",
    "\n",
    "# Ví dụ: Truy xuất dòng thứ 3\n",
    "line_number = 2\n",
    "line_content = get_line(line_number)\n",
    "print(f\"Dòng {line_number}: '{line_content}'\")\n"
   ]
  }
 ],
 "metadata": {
  "kernelspec": {
   "display_name": "Python 3 (ipykernel)",
   "language": "python",
   "name": "python3"
  },
  "language_info": {
   "codemirror_mode": {
    "name": "ipython",
    "version": 3
   },
   "file_extension": ".py",
   "mimetype": "text/x-python",
   "name": "python",
   "nbconvert_exporter": "python",
   "pygments_lexer": "ipython3",
   "version": "3.10.0rc2"
  }
 },
 "nbformat": 4,
 "nbformat_minor": 5
}
