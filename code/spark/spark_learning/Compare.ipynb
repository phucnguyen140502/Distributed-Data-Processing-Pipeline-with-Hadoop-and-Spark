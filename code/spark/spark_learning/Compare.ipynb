{
 "cells": [
  {
   "cell_type": "code",
   "execution_count": 1,
   "id": "cc650a63-56f4-4894-93ab-fd8253cf9772",
   "metadata": {},
   "outputs": [],
   "source": [
    "from pyspark.sql import SparkSession\n",
    "import time\n",
    "\n",
    "spark = SparkSession.builder \\\n",
    "    .appName(\"CV compare\") \\\n",
    "    .master(\"local[2]\") \\\n",
    "    .config(\"spark.driver.memory\", \"4g\") \\\n",
    "    .config(\"spark.executor.memory\", \"4g\") \\\n",
    "    .config(\"spark.network.timeout\", \"12000s\") \\\n",
    "    .config(\"spark.executor.heartbeatInterval\", \"2000s\") \\\n",
    "    .getOrCreate()\n"
   ]
  },
  {
   "cell_type": "markdown",
   "id": "fc339824-8091-4ac3-9da8-3821986f3a33",
   "metadata": {},
   "source": [
    "## HDFS"
   ]
  },
  {
   "cell_type": "markdown",
   "id": "e4723756-ba96-425a-9236-a3b30cc9c95d",
   "metadata": {},
   "source": [
    "### RDD"
   ]
  },
  {
   "cell_type": "code",
   "execution_count": 11,
   "id": "c247ed94-63dd-4621-aa17-05bae41658f3",
   "metadata": {
    "scrolled": true
   },
   "outputs": [
    {
     "name": "stdout",
     "output_type": "stream",
     "text": [
      "[('Togo', 366794), ('Palestinian Territory', 367703), ('Kyrgyz Republic', 367174), ('Puerto Rico', 366745), ('Mauritania', 366588), ('Austria', 367211), ('Northern Mariana Islands', 368405), ('Peru', 367667), ('Portugal', 366957), ('Turkmenistan', 366817), ('Bahrain', 366968), ('Poland', 367737), ('Kiribati', 367401), ('Brunei Darussalam', 367760), ('United Arab Emirates', 367391), ('Lesotho', 367501), ('Guinea', 368162), ('Ireland', 367214), ('India', 367291), ('Argentina', 367782), ('Haiti', 367853), ('South Georgia and the South Sandwich Islands', 367398), ('Namibia', 367558), ('Samoa', 368769), ('Vanuatu', 367591), ('Micronesia', 366557), ('Myanmar', 366389), ('Mauritius', 367242), ('Kuwait', 367709), ('Angola', 367508), ('British Indian Ocean Territory (Chagos Archipelago)', 367854), ('Mali', 367235), ('Guam', 367291), ('Oman', 367597), ('United States of America', 367527), ('Timor-Leste', 366837), ('Aruba', 368387), ('Tokelau', 367206), ('Croatia', 367822), ('Guadeloupe', 367843), ('Holy See (Vatican City State)', 366357), ('Antigua and Barbuda', 367144), ('Falkland Islands (Malvinas)', 366555), ('Senegal', 366689), ('Comoros', 366154), ('Serbia', 367355), ('Tajikistan', 367302), ('Iraq', 367673), ('Albania', 367110), ('Norfolk Island', 368263), ('Mozambique', 365674), ('South Africa', 366618), ('Saint Martin', 366720), ('Romania', 367628), ('Bangladesh', 367211), ('San Marino', 368313), ('Malaysia', 368297), ('Lithuania', 367899), ('Bulgaria', 367152), ('Honduras', 366643), ('Uzbekistan', 368009), ('American Samoa', 367220), ('Marshall Islands', 367532), ('Belize', 367118), ('Maldives', 367117), ('Martinique', 366807), ('Papua New Guinea', 366243), ('Bahamas', 367443), ('Heard Island and McDonald Islands', 367622), ('Burkina Faso', 367326), ('Pitcairn Islands', 368601), ('Greece', 367020), ('Western Sahara', 367115), ('Iran', 368639), ('Reunion', 367311), ('Zimbabwe', 367482), ('Azerbaijan', 367981), (\"Lao People's Democratic Republic\", 367548), ('Luxembourg', 366934), ('Japan', 366915), ('French Southern Territories', 367279), ('Dominican Republic', 367068), ('Morocco', 367267), ('Equatorial Guinea', 367685), ('Norway', 367270), ('Philippines', 366518), ('Sri Lanka', 367103), ('Italy', 366673), ('Spain', 366625), ('Sudan', 367873), ('Rwanda', 366937), ('Cuba', 368041), ('Lebanon', 366673), ('Denmark', 367074), ('Palau', 368137), ('Finland', 367616), ('Brazil', 367994), ('French Polynesia', 367450), ('Bouvet Island (Bouvetoya)', 367128), ('Georgia', 367398), ('United Kingdom', 367508), ('French Guiana', 368010), ('Somalia', 366943), ('Anguilla', 366526), ('Guatemala', 367344), ('Ukraine', 368115), ('Burundi', 367550), ('Central African Republic', 368241), ('Nauru', 366337), ('Guyana', 367416), ('Mongolia', 367049), ('Cyprus', 367106), ('Pakistan', 366933), ('Liberia', 367786), ('Zambia', 367603), ('France', 366069), ('Isle of Man', 368002), ('Uruguay', 367594), ('Netherlands Antilles', 367214), ('Qatar', 366766), ('Turks and Caicos Islands', 366548), ('Madagascar', 366958), ('Greenland', 366525), ('Yemen', 367245), ('Saint Pierre and Miquelon', 366962), ('Uganda', 366890), ('New Zealand', 368531), ('Malta', 366685), ('Swaziland', 367444), ('Slovenia', 367541), ('Syrian Arab Republic', 367325), ('Ecuador', 366781), ('Botswana', 367662), ('Mexico', 366715), ('Barbados', 368175), ('Saint Kitts and Nevis', 367058), ('Antarctica (the territory South of 60 deg S)', 367104), ('Faroe Islands', 367316), ('Sao Tome and Principe', 367344), ('Libyan Arab Jamahiriya', 367275), ('Costa Rica', 367812), ('Suriname', 368353), ('Saudi Arabia', 366639), ('Ethiopia', 367504), ('Monaco', 367861), ('Guinea-Bissau', 366428), ('Sierra Leone', 367403), ('Germany', 366781), ('Chile', 367896), ('Dominica', 368017), ('Saint Vincent and the Grenadines', 367118), ('Tunisia', 367228), ('Venezuela', 366607), ('Estonia', 367633), ('British Virgin Islands', 367334), ('Gibraltar', 366379), ('New Caledonia', 368005), ('Vietnam', 368660), ('Netherlands', 367082), ('Trinidad and Tobago', 367523), ('Jamaica', 367152), ('Niue', 367450), ('Armenia', 367690), ('Jordan', 368357), ('Turkey', 367197), ('Chad', 367644), ('United States Minor Outlying Islands', 366412), ('Cayman Islands', 367081), ('Sweden', 367410), ('Panama', 366905), ('Eritrea', 366794), ('China', 369168), ('Fiji', 367517), ('Algeria', 366594), ('Saint Helena', 367954), ('Svalbard & Jan Mayen Islands', 366858), ('Switzerland', 367793), ('Tuvalu', 367420), ('Czech Republic', 366399), ('Tonga', 367806), ('Christmas Island', 367576), ('Djibouti', 367388), ('Slovakia (Slovak Republic)', 366792), ('Jersey', 366988), ('Guernsey', 367982), ('Congo', 735566), ('Cape Verde', 368325), ('Andorra', 367144), ('Solomon Islands', 367632), ('Nepal', 367367), ('Russian Federation', 366882), ('Iceland', 366971), ('Korea', 733530), ('Thailand', 367620), ('Bermuda', 368519), ('Saint Lucia', 367751), ('Montenegro', 367644), ('Tanzania', 367824), (\"Cote d'Ivoire\", 366928), ('Liechtenstein', 367362), ('Afghanistan', 367698), ('Indonesia', 367083), ('Canada', 367383), ('Israel', 366999), ('Colombia', 366211), ('Grenada', 366497), ('Taiwan', 367215), ('Saint Barthelemy', 366914), ('Malawi', 367575), ('El Salvador', 367513), ('Australia', 368188), ('Cambodia', 367445), ('Ghana', 367665), ('Latvia', 368682), ('Belgium', 367305), ('Kenya', 368385), ('Belarus', 367550), ('Niger', 366887), ('Cameroon', 367474), ('Singapore', 366416), ('Nicaragua', 367190), ('Hong Kong', 367278), ('Wallis and Futuna', 367819), ('Hungary', 366832), ('Cook Islands', 367071), ('Gabon', 367252), ('Paraguay', 367688), ('United States Virgin Islands', 368615), ('Seychelles', 367223), ('Gambia', 367714), ('North Macedonia', 366861), ('Montserrat', 367231), ('Mayotte', 367013), ('Bolivia', 368315), ('Bhutan', 366903), ('Kazakhstan', 367457), ('Nigeria', 367060), ('Cocos (Keeling) Islands', 368117), ('Benin', 368184), ('Egypt', 367069), ('Bosnia and Herzegovina', 365741), ('Macao', 366974), ('Moldova', 367467)]\n",
      "Thời gian chạy với HDFS: 814.13 giây\n"
     ]
    }
   ],
   "source": [
    "start_time_hdfs_rdd = time.time()\n",
    "citizens_rdd_hdfs = spark.sparkContext.textFile(\"hdfs://172.30.2.147:9000/demo_directory/citizens_data.csv\")\n",
    "header = citizens_rdd_hdfs.first()\n",
    "data_citizens_rdd_hdfs = citizens_rdd_hdfs.filter(lambda line: line != header)\n",
    "\n",
    "cities_in_country = data_citizens_rdd_hdfs \\\n",
    "        .map(lambda x: (x.split(\",\")[4],1)) \\\n",
    "        .reduceByKey(lambda x,y: x+y)\n",
    "print(cities_in_country.collect())\n",
    "\n",
    "end_time_hdfs_rdd = time.time()\n",
    "time_hdfs_rdd = end_time_hdfs_rdd - start_time_hdfs_rdd\n",
    "print(\"Thời gian chạy với HDFS: {:.2f} giây\".format(time_hdfs_rdd))"
   ]
  },
  {
   "cell_type": "markdown",
   "id": "5fa1b409-233a-429b-b84a-c1d487cd73dd",
   "metadata": {},
   "source": [
    "### DataFrame "
   ]
  },
  {
   "cell_type": "code",
   "execution_count": 9,
   "id": "adc80798-dffa-4d8d-a4c1-4ab7bd4b68c9",
   "metadata": {},
   "outputs": [
    {
     "name": "stdout",
     "output_type": "stream",
     "text": [
      "+--------------------+-------------------+\n",
      "|             country|the number citizens|\n",
      "+--------------------+-------------------+\n",
      "|                Chad|             367644|\n",
      "|            Anguilla|             366526|\n",
      "|            Paraguay|             367688|\n",
      "|               Macao|             366974|\n",
      "|Heard Island and ...|             367622|\n",
      "|               Yemen|             367245|\n",
      "|             Senegal|             366689|\n",
      "|              Sweden|             367410|\n",
      "|             Tokelau|             367206|\n",
      "|French Southern T...|             367279|\n",
      "|            Kiribati|             367401|\n",
      "|              Guyana|             367416|\n",
      "|             Eritrea|             366794|\n",
      "|         Philippines|             366518|\n",
      "|              Jersey|             366988|\n",
      "|               Tonga|             367806|\n",
      "|            Djibouti|             367388|\n",
      "|      Norfolk Island|             368263|\n",
      "|            Malaysia|             368297|\n",
      "|           Singapore|             366416|\n",
      "+--------------------+-------------------+\n",
      "only showing top 20 rows\n",
      "\n",
      "Thời gian chạy dùng spark dataframe với HDFS: 1610.81 giây\n"
     ]
    }
   ],
   "source": [
    "from pyspark.sql.functions import count  # Import hàm count\n",
    "import time\n",
    "\n",
    "start_time_hdfs_df = time.time()\n",
    "citizens_df = spark.read.csv(\"hdfs://172.30.2.147:9000/demo_directory/citizens_data.csv\", \n",
    "                           header = \"true\", inferSchema = \"true\")\n",
    "citizens_df\\\n",
    "    .groupBy(\"country\") \\\n",
    "    .agg(\n",
    "        count(\"*\").alias(\"the number citizens\")\n",
    "    ).show()\n",
    "end_time_hdfs_df = time.time()\n",
    "time_hdfs_df = end_time_hdfs_df - start_time_hdfs_df\n",
    "print(\"Thời gian chạy dùng spark dataframe với HDFS: {:.2f} giây\".format(time_hdfs_df))"
   ]
  },
  {
   "cell_type": "markdown",
   "id": "e3808cae-af9a-418d-ad94-fbb612ce5ce5",
   "metadata": {},
   "source": [
    "### SQL"
   ]
  },
  {
   "cell_type": "code",
   "execution_count": 17,
   "id": "c8c5819c-1c27-4d4c-980f-8b63a9fa1836",
   "metadata": {},
   "outputs": [
    {
     "name": "stdout",
     "output_type": "stream",
     "text": [
      "+--------------------+-------------------+\n",
      "|             country|the number citizens|\n",
      "+--------------------+-------------------+\n",
      "|                Chad|             367644|\n",
      "|            Anguilla|             366526|\n",
      "|            Paraguay|             367688|\n",
      "|               Macao|             366974|\n",
      "|Heard Island and ...|             367622|\n",
      "+--------------------+-------------------+\n",
      "only showing top 5 rows\n",
      "\n",
      "Thời gian chạy dùng Spark SQL với HDFS: 1792.85 giây\n"
     ]
    }
   ],
   "source": [
    "start_time_hdfs_sql = time.time()\n",
    "citizens_df_hdfs = spark.read.csv(\"hdfs://172.30.2.147:9000/demo_directory/citizens_data.csv\", \n",
    "                                  header=\"true\", inferSchema=\"true\")\n",
    "\n",
    "# Đăng ký DataFrame là một bảng tạm thời trong Spark SQL\n",
    "citizens_df_hdfs.createOrReplaceTempView(\"citizens_hdfs\")\n",
    "\n",
    "# Thực thi câu lệnh SQL\n",
    "result_hdfs = spark.sql(\"\"\"\n",
    "    SELECT country, COUNT(*) AS `the number citizens`\n",
    "    FROM citizens_hdfs\n",
    "    GROUP BY country\n",
    "\"\"\")\n",
    "result_hdfs.show(5)\n",
    "\n",
    "end_time_hdfs_sql = time.time()\n",
    "time_hdfs_sql = end_time_hdfs_sql - start_time_hdfs_sql\n",
    "\n",
    "print(f\"Thời gian chạy dùng Spark SQL với HDFS: {time_hdfs_sql:.2f} giây\")"
   ]
  },
  {
   "cell_type": "markdown",
   "id": "dbc9cca0-0d6c-430b-b4ae-890cff056087",
   "metadata": {},
   "source": [
    "### Pandas"
   ]
  },
  {
   "cell_type": "code",
   "execution_count": 21,
   "id": "878167f3-dcc7-454f-aaf2-249eb6920586",
   "metadata": {},
   "outputs": [
    {
     "name": "stdout",
     "output_type": "stream",
     "text": [
      "Collecting pyarrow\n",
      "  Downloading pyarrow-18.0.0-cp310-cp310-win_amd64.whl.metadata (3.4 kB)\n",
      "Downloading pyarrow-18.0.0-cp310-cp310-win_amd64.whl (25.1 MB)\n",
      "   ---------------------------------------- 0.0/25.1 MB ? eta -:--:--\n",
      "   -- ------------------------------------- 1.6/25.1 MB 14.1 MB/s eta 0:00:02\n",
      "   ---------- ----------------------------- 6.8/25.1 MB 20.0 MB/s eta 0:00:01\n",
      "   -------------------- ------------------- 12.6/25.1 MB 22.6 MB/s eta 0:00:01\n",
      "   ----------------------------- ---------- 18.6/25.1 MB 24.5 MB/s eta 0:00:01\n",
      "   -------------------------------------- - 24.4/25.1 MB 25.3 MB/s eta 0:00:01\n",
      "   ---------------------------------------  24.9/25.1 MB 24.6 MB/s eta 0:00:01\n",
      "   ---------------------------------------  24.9/25.1 MB 24.6 MB/s eta 0:00:01\n",
      "   ---------------------------------------- 25.1/25.1 MB 16.2 MB/s eta 0:00:00\n",
      "Installing collected packages: pyarrow\n",
      "Successfully installed pyarrow-18.0.0\n",
      "Note: you may need to restart the kernel to use updated packages.\n"
     ]
    }
   ],
   "source": [
    "pip install pyarrow\n"
   ]
  },
  {
   "cell_type": "code",
   "execution_count": 1,
   "id": "0e688659-1649-4eb2-967b-27e4c46de91a",
   "metadata": {
    "scrolled": true
   },
   "outputs": [
    {
     "ename": "MemoryError",
     "evalue": "Unable to allocate 1.00 MiB for an array with shape (131072,) and data type int64",
     "output_type": "error",
     "traceback": [
      "\u001b[1;31m---------------------------------------------------------------------------\u001b[0m",
      "\u001b[1;31mMemoryError\u001b[0m                               Traceback (most recent call last)",
      "Cell \u001b[1;32mIn[1], line 9\u001b[0m\n\u001b[0;32m      7\u001b[0m \u001b[38;5;66;03m# Đọc dữ liệu từ file CSV trên HDFS (đảm bảo đường dẫn đúng)\u001b[39;00m\n\u001b[0;32m      8\u001b[0m file_path \u001b[38;5;241m=\u001b[39m \u001b[38;5;124mr\u001b[39m\u001b[38;5;124m\"\u001b[39m\u001b[38;5;124mD:\u001b[39m\u001b[38;5;124m\\\u001b[39m\u001b[38;5;124mData Engineer\u001b[39m\u001b[38;5;124m\\\u001b[39m\u001b[38;5;124mdwh and etl\u001b[39m\u001b[38;5;124m\\\u001b[39m\u001b[38;5;124mlesson\u001b[39m\u001b[38;5;124m\\\u001b[39m\u001b[38;5;124mlesson 2\u001b[39m\u001b[38;5;124m\\\u001b[39m\u001b[38;5;124mdocuments\u001b[39m\u001b[38;5;124m\\\u001b[39m\u001b[38;5;124mTalend\u001b[39m\u001b[38;5;124m\\\u001b[39m\u001b[38;5;124mSync Hadoop to DWH\u001b[39m\u001b[38;5;124m\\\u001b[39m\u001b[38;5;124mcitizens_data.csv\u001b[39m\u001b[38;5;124m\"\u001b[39m\n\u001b[1;32m----> 9\u001b[0m citizens_df_hdfs_pandas \u001b[38;5;241m=\u001b[39m \u001b[43mpd\u001b[49m\u001b[38;5;241;43m.\u001b[39;49m\u001b[43mread_csv\u001b[49m\u001b[43m(\u001b[49m\u001b[43mfile_path\u001b[49m\u001b[43m)\u001b[49m\n\u001b[0;32m     11\u001b[0m \u001b[38;5;66;03m# Tìm cột chứa từ khóa 'city' trong tên cột\u001b[39;00m\n\u001b[0;32m     12\u001b[0m columns_with_city \u001b[38;5;241m=\u001b[39m citizens_df_hdfs_pandas\u001b[38;5;241m.\u001b[39mcolumns[citizens_df_hdfs_pandas\u001b[38;5;241m.\u001b[39mcolumns\u001b[38;5;241m.\u001b[39mstr\u001b[38;5;241m.\u001b[39mcontains(\u001b[38;5;124m'\u001b[39m\u001b[38;5;124mcity\u001b[39m\u001b[38;5;124m'\u001b[39m, case\u001b[38;5;241m=\u001b[39m\u001b[38;5;28;01mFalse\u001b[39;00m)]\u001b[38;5;241m.\u001b[39mtolist()\n",
      "File \u001b[1;32m~\\AppData\\Local\\Programs\\Python\\Python310\\lib\\site-packages\\pandas\\io\\parsers\\readers.py:1026\u001b[0m, in \u001b[0;36mread_csv\u001b[1;34m(filepath_or_buffer, sep, delimiter, header, names, index_col, usecols, dtype, engine, converters, true_values, false_values, skipinitialspace, skiprows, skipfooter, nrows, na_values, keep_default_na, na_filter, verbose, skip_blank_lines, parse_dates, infer_datetime_format, keep_date_col, date_parser, date_format, dayfirst, cache_dates, iterator, chunksize, compression, thousands, decimal, lineterminator, quotechar, quoting, doublequote, escapechar, comment, encoding, encoding_errors, dialect, on_bad_lines, delim_whitespace, low_memory, memory_map, float_precision, storage_options, dtype_backend)\u001b[0m\n\u001b[0;32m   1013\u001b[0m kwds_defaults \u001b[38;5;241m=\u001b[39m _refine_defaults_read(\n\u001b[0;32m   1014\u001b[0m     dialect,\n\u001b[0;32m   1015\u001b[0m     delimiter,\n\u001b[1;32m   (...)\u001b[0m\n\u001b[0;32m   1022\u001b[0m     dtype_backend\u001b[38;5;241m=\u001b[39mdtype_backend,\n\u001b[0;32m   1023\u001b[0m )\n\u001b[0;32m   1024\u001b[0m kwds\u001b[38;5;241m.\u001b[39mupdate(kwds_defaults)\n\u001b[1;32m-> 1026\u001b[0m \u001b[38;5;28;01mreturn\u001b[39;00m \u001b[43m_read\u001b[49m\u001b[43m(\u001b[49m\u001b[43mfilepath_or_buffer\u001b[49m\u001b[43m,\u001b[49m\u001b[43m \u001b[49m\u001b[43mkwds\u001b[49m\u001b[43m)\u001b[49m\n",
      "File \u001b[1;32m~\\AppData\\Local\\Programs\\Python\\Python310\\lib\\site-packages\\pandas\\io\\parsers\\readers.py:626\u001b[0m, in \u001b[0;36m_read\u001b[1;34m(filepath_or_buffer, kwds)\u001b[0m\n\u001b[0;32m    623\u001b[0m     \u001b[38;5;28;01mreturn\u001b[39;00m parser\n\u001b[0;32m    625\u001b[0m \u001b[38;5;28;01mwith\u001b[39;00m parser:\n\u001b[1;32m--> 626\u001b[0m     \u001b[38;5;28;01mreturn\u001b[39;00m \u001b[43mparser\u001b[49m\u001b[38;5;241;43m.\u001b[39;49m\u001b[43mread\u001b[49m\u001b[43m(\u001b[49m\u001b[43mnrows\u001b[49m\u001b[43m)\u001b[49m\n",
      "File \u001b[1;32m~\\AppData\\Local\\Programs\\Python\\Python310\\lib\\site-packages\\pandas\\io\\parsers\\readers.py:1923\u001b[0m, in \u001b[0;36mTextFileReader.read\u001b[1;34m(self, nrows)\u001b[0m\n\u001b[0;32m   1916\u001b[0m nrows \u001b[38;5;241m=\u001b[39m validate_integer(\u001b[38;5;124m\"\u001b[39m\u001b[38;5;124mnrows\u001b[39m\u001b[38;5;124m\"\u001b[39m, nrows)\n\u001b[0;32m   1917\u001b[0m \u001b[38;5;28;01mtry\u001b[39;00m:\n\u001b[0;32m   1918\u001b[0m     \u001b[38;5;66;03m# error: \"ParserBase\" has no attribute \"read\"\u001b[39;00m\n\u001b[0;32m   1919\u001b[0m     (\n\u001b[0;32m   1920\u001b[0m         index,\n\u001b[0;32m   1921\u001b[0m         columns,\n\u001b[0;32m   1922\u001b[0m         col_dict,\n\u001b[1;32m-> 1923\u001b[0m     ) \u001b[38;5;241m=\u001b[39m \u001b[38;5;28;43mself\u001b[39;49m\u001b[38;5;241;43m.\u001b[39;49m\u001b[43m_engine\u001b[49m\u001b[38;5;241;43m.\u001b[39;49m\u001b[43mread\u001b[49m\u001b[43m(\u001b[49m\u001b[43m  \u001b[49m\u001b[38;5;66;43;03m# type: ignore[attr-defined]\u001b[39;49;00m\n\u001b[0;32m   1924\u001b[0m \u001b[43m        \u001b[49m\u001b[43mnrows\u001b[49m\n\u001b[0;32m   1925\u001b[0m \u001b[43m    \u001b[49m\u001b[43m)\u001b[49m\n\u001b[0;32m   1926\u001b[0m \u001b[38;5;28;01mexcept\u001b[39;00m \u001b[38;5;167;01mException\u001b[39;00m:\n\u001b[0;32m   1927\u001b[0m     \u001b[38;5;28mself\u001b[39m\u001b[38;5;241m.\u001b[39mclose()\n",
      "File \u001b[1;32m~\\AppData\\Local\\Programs\\Python\\Python310\\lib\\site-packages\\pandas\\io\\parsers\\c_parser_wrapper.py:234\u001b[0m, in \u001b[0;36mCParserWrapper.read\u001b[1;34m(self, nrows)\u001b[0m\n\u001b[0;32m    232\u001b[0m \u001b[38;5;28;01mtry\u001b[39;00m:\n\u001b[0;32m    233\u001b[0m     \u001b[38;5;28;01mif\u001b[39;00m \u001b[38;5;28mself\u001b[39m\u001b[38;5;241m.\u001b[39mlow_memory:\n\u001b[1;32m--> 234\u001b[0m         chunks \u001b[38;5;241m=\u001b[39m \u001b[38;5;28;43mself\u001b[39;49m\u001b[38;5;241;43m.\u001b[39;49m\u001b[43m_reader\u001b[49m\u001b[38;5;241;43m.\u001b[39;49m\u001b[43mread_low_memory\u001b[49m\u001b[43m(\u001b[49m\u001b[43mnrows\u001b[49m\u001b[43m)\u001b[49m\n\u001b[0;32m    235\u001b[0m         \u001b[38;5;66;03m# destructive to chunks\u001b[39;00m\n\u001b[0;32m    236\u001b[0m         data \u001b[38;5;241m=\u001b[39m _concatenate_chunks(chunks)\n",
      "File \u001b[1;32mparsers.pyx:838\u001b[0m, in \u001b[0;36mpandas._libs.parsers.TextReader.read_low_memory\u001b[1;34m()\u001b[0m\n",
      "File \u001b[1;32mparsers.pyx:921\u001b[0m, in \u001b[0;36mpandas._libs.parsers.TextReader._read_rows\u001b[1;34m()\u001b[0m\n",
      "File \u001b[1;32mparsers.pyx:1066\u001b[0m, in \u001b[0;36mpandas._libs.parsers.TextReader._convert_column_data\u001b[1;34m()\u001b[0m\n",
      "File \u001b[1;32mparsers.pyx:1120\u001b[0m, in \u001b[0;36mpandas._libs.parsers.TextReader._convert_tokens\u001b[1;34m()\u001b[0m\n",
      "File \u001b[1;32mparsers.pyx:1222\u001b[0m, in \u001b[0;36mpandas._libs.parsers.TextReader._convert_with_dtype\u001b[1;34m()\u001b[0m\n",
      "File \u001b[1;32mparsers.pyx:1833\u001b[0m, in \u001b[0;36mpandas._libs.parsers._try_int64\u001b[1;34m()\u001b[0m\n",
      "\u001b[1;31mMemoryError\u001b[0m: Unable to allocate 1.00 MiB for an array with shape (131072,) and data type int64"
     ]
    }
   ],
   "source": [
    "import time\n",
    "import pandas as pd\n",
    "\n",
    "# Đọc dữ liệu từ file CSV trên HDFS và tính thời gian\n",
    "start_time_hdfs_pandas = time.time()\n",
    "\n",
    "# Đọc dữ liệu từ file CSV trên HDFS (đảm bảo đường dẫn đúng)\n",
    "file_path = r\"D:\\Data Engineer\\dwh and etl\\lesson\\lesson 2\\documents\\Talend\\Sync Hadoop to DWH\\citizens_data.csv\"\n",
    "citizens_df_hdfs_pandas = pd.read_csv(file_path)\n",
    "\n",
    "# Tìm cột chứa từ khóa 'city' trong tên cột\n",
    "columns_with_city = citizens_df_hdfs_pandas.columns[citizens_df_hdfs_pandas.columns.str.contains('city', case=False)].tolist()\n",
    "print(f\"Các cột có chứa từ 'city': {columns_with_city}\")\n",
    "\n",
    "# Đếm số lượng thành phố trong cột liên quan đến 'city'\n",
    "if columns_with_city:\n",
    "    city_column = columns_with_city[0]  # Lấy cột đầu tiên khớp với 'city'\n",
    "    cities_in_country_hdfs_pandas = citizens_df_hdfs_pandas.groupby(city_column)[city_column].count()\n",
    "    print(cities_in_country_hdfs_pandas)\n",
    "else:\n",
    "    print(\"Không tìm thấy cột nào chứa từ 'city'.\")\n",
    "\n",
    "# Tính thời gian kết thúc\n",
    "end_time_hdfs_pandas = time.time()\n",
    "time_hdfs_pandas = end_time_hdfs_pandas - start_time_hdfs_pandas\n",
    "print(f\"Thời gian xử lý bằng pandas với HDFS: {time_hdfs_pandas:.2f} giây\")\n"
   ]
  },
  {
   "cell_type": "markdown",
   "id": "d1fa1488-2792-4511-b57d-490231d940a4",
   "metadata": {},
   "source": [
    "--> không thể dùng pandas để đọch được file trên hdfs"
   ]
  },
  {
   "cell_type": "markdown",
   "id": "c14172c7-bc4e-4344-af48-9189f1f3d6a8",
   "metadata": {},
   "source": [
    "### Visual"
   ]
  },
  {
   "cell_type": "code",
   "execution_count": 23,
   "id": "8e2c1c0c-4f96-4ea3-9190-e74811206a70",
   "metadata": {},
   "outputs": [
    {
     "data": {
      "image/png": "[encoded data removed]",
      "text/plain": [
       "<Figure size 1000x600 with 1 Axes>"
      ]
     },
     "metadata": {},
     "output_type": "display_data"
    }
   ],
   "source": [
    "import matplotlib.pyplot as plt\n",
    "import numpy as np\n",
    "\n",
    "# Các thời gian thực hiện của từng phương pháp\n",
    "times = [time_hdfs_rdd, time_hdfs_df, time_hdfs_sql]\n",
    "labels = [\"RDD\", \"DataFrame\", \"SQL\"]\n",
    "\n",
    "# Màu sắc dựa trên thời gian: thời gian ngắn hơn có màu xanh, dài hơn có màu đỏ\n",
    "colors = plt.cm.coolwarm(np.linspace(0, 1, len(times)))\n",
    "\n",
    "# Vẽ biểu đồ bar\n",
    "plt.figure(figsize=(10, 6))\n",
    "bars = plt.bar(labels, times, color=colors)\n",
    "\n",
    "# Thêm giá trị thời gian chạy vào mỗi thanh bar\n",
    "for bar, time in zip(bars, times):\n",
    "    plt.text(bar.get_x() + bar.get_width() / 2, bar.get_height(), f'{time:.2f}s', \n",
    "             ha='center', va='bottom')\n",
    "\n",
    "# Thiết lập tiêu đề và nhãn\n",
    "plt.title(\"So sánh thời gian chạy các phương pháp với HDFS\")\n",
    "plt.xlabel(\"Phương pháp\")\n",
    "plt.ylabel(\"Thời gian chạy (giây)\")\n",
    "\n",
    "# Hiển thị biểu đồ\n",
    "plt.show()"
   ]
  },
  {
   "cell_type": "code",
   "execution_count": null,
   "id": "9293126c-db07-41be-b8c3-ad6b9e85de76",
   "metadata": {},
   "outputs": [],
   "source": []
  }
 ],
 "metadata": {
  "kernelspec": {
   "display_name": "Python 3 (ipykernel)",
   "language": "python",
   "name": "python3"
  },
  "language_info": {
   "codemirror_mode": {
    "name": "ipython",
    "version": 3
   },
   "file_extension": ".py",
   "mimetype": "text/x-python",
   "name": "python",
   "nbconvert_exporter": "python",
   "pygments_lexer": "ipython3",
   "version": "3.10.0rc2"
  }
 },
 "nbformat": 4,
 "nbformat_minor": 5
}
