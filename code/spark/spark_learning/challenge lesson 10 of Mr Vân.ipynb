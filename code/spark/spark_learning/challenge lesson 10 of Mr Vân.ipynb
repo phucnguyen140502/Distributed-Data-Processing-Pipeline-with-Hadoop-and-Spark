{
 "cells": [
  {
   "cell_type": "code",
   "execution_count": 310,
   "id": "4ee9c5e7-31b7-4e0c-80a3-ef3cc4daf1bf",
   "metadata": {},
   "outputs": [],
   "source": [
    "from pyspark.sql import SparkSession\n",
    "spark_hdfs = SparkSession.builder.appName(\"Challenge Spark\").getOrCreate()\n"
   ]
  },
  {
   "cell_type": "markdown",
   "id": "b2cba38d-967c-40a0-89e3-f96be8eb5855",
   "metadata": {},
   "source": [
    "## Challenge Report Nguon Von - Su Dung Von - Daily"
   ]
  },
  {
   "cell_type": "markdown",
   "id": "4bae57f1-f9f0-4974-923b-084c998379df",
   "metadata": {},
   "source": [
    "### Load 2 file từ hadoop lên"
   ]
  },
  {
   "cell_type": "code",
   "execution_count": 268,
   "id": "6a604a1f-a37d-4280-98c9-d4d18e087a35",
   "metadata": {},
   "outputs": [],
   "source": [
    "fact_ln_customer = spark_hdfs.read.csv(\"hdfs://172.30.2.147:9000/demo_directory/challenge/fact_ln_customer.csv\", \n",
    "                           header = \"true\", inferSchema = \"true\")"
   ]
  },
  {
   "cell_type": "code",
   "execution_count": 269,
   "id": "76b8e892-3810-4b55-96b2-172a6267b2ad",
   "metadata": {},
   "outputs": [],
   "source": [
    "fact_dp_customer = spark_hdfs.read.csv(\"hdfs://172.30.2.147:9000/demo_directory/challenge/fact_dp_customer.csv\", \n",
    "                           header = \"true\", inferSchema = \"true\")"
   ]
  },
  {
   "cell_type": "code",
   "execution_count": 270,
   "id": "1b9ad8ee-4145-4209-b00f-27575e962d50",
   "metadata": {
    "scrolled": true
   },
   "outputs": [
    {
     "name": "stdout",
     "output_type": "stream",
     "text": [
      "+----------+----------+---------------+-----------+-------------+-------------+--------+-----------+----------+-------------+----------+\n",
      "|process_dt|account_id|   account_type|customer_id|customer_type|interest_rate|cof_rate|    balance| open_date|maturity_date|close_date|\n",
      "+----------+----------+---------------+-----------+-------------+-------------+--------+-----------+----------+-------------+----------+\n",
      "|2023-01-01|         6|  CV VND LS USD|          6|     Business|        15.09|   17.52|34529000000|2022-03-18|   2023-08-28|2023-08-28|\n",
      "|2023-01-01|        23|CV THONG THUONG|         23|     Business|        12.11|    14.4|11704000000|2022-06-26|   2023-11-09|2023-11-09|\n",
      "|2023-01-01|         1|CV THONG THUONG|          1|     Business|        10.27|   11.53|15523000000|2022-03-19|   2024-01-21|      NULL|\n",
      "+----------+----------+---------------+-----------+-------------+-------------+--------+-----------+----------+-------------+----------+\n",
      "only showing top 3 rows\n",
      "\n"
     ]
    }
   ],
   "source": [
    "fact_ln_customer.show(3)"
   ]
  },
  {
   "cell_type": "code",
   "execution_count": 271,
   "id": "c5b94cd6-4570-4e20-a90e-ca4a915a98b6",
   "metadata": {
    "scrolled": true
   },
   "outputs": [
    {
     "name": "stdout",
     "output_type": "stream",
     "text": [
      "+----------+----------+------------+-----------+-------------+-------------+--------+----------+----------+-------------+----------+\n",
      "|process_dt|account_id|account_type|customer_id|customer_type|interest_rate|vof_rate|   balance| open_date|maturity_date|close_date|\n",
      "+----------+----------+------------+-----------+-------------+-------------+--------+----------+----------+-------------+----------+\n",
      "|2023-01-01|       100|  Individual|        100|          VIP|         5.21|     7.4|2393700000|2023-01-01|   2023-04-19|2023-04-19|\n",
      "|2023-01-01|       555|  Individual|        555|      Regular|         7.73|    9.08|4623900000|2023-01-01|   2023-12-27|2023-12-28|\n",
      "|2023-01-01|      1075|  Individual|       1075|      Regular|         4.64|    6.91|4620100000|2023-01-01|   2023-04-14|2023-04-14|\n",
      "|2023-01-01|      1980|  Individual|       1980|      Regular|         7.73|    9.09|3811200000|2023-01-01|   2023-02-20|2023-02-20|\n",
      "|2023-01-01|      3499|  Individual|       3499|      Regular|         5.42|    6.51|3417300000|2023-01-01|   2023-05-19|2023-05-19|\n",
      "+----------+----------+------------+-----------+-------------+-------------+--------+----------+----------+-------------+----------+\n",
      "only showing top 5 rows\n",
      "\n"
     ]
    }
   ],
   "source": [
    "fact_dp_customer.show(5)"
   ]
  },
  {
   "cell_type": "markdown",
   "id": "a0396ff3-811d-434c-a1a2-f1c8123400e3",
   "metadata": {
    "jp-MarkdownHeadingCollapsed": true
   },
   "source": [
    "### Tạo dim_funding_structure"
   ]
  },
  {
   "cell_type": "code",
   "execution_count": 22,
   "id": "a14e7f41-87d7-42ab-b355-5322cd55e7d9",
   "metadata": {},
   "outputs": [],
   "source": [
    "dim_funding_structure = spark_hdfs.createDataFrame(\n",
    "    [\n",
    "        (\"DP\", \"A. Nguôn vốn\", -1, 0, 1000000),\n",
    "        (\"LN\", \"B. Sử dụng vốn\", -1, 0, 2000000),\n",
    "        (\"DP01\", \"I/ Tiền gửi TCKT & DC: Theo kỳ hạn\", 1, 1, 1010000),\n",
    "        (\"DP02\", \"II/ Tiền gửi TCKT & DC: Theo loại hình\", 1, 1, 1020000),\n",
    "        (\"LN01\", \"I/ Dư nợ TCKT & DC: Theo kỳ hạn\", 2, 1, 2010000),\n",
    "        (\"LN02\", \"II/ Dư nợ TCKT & DC: Theo loại hình\", 2, 1, 2020000),\n",
    "        (\"DP01001\", \"a. KKH\", 3, 2, 1010100),\n",
    "        (\"DP01002\", \"b. 1-3W\", 3, 2, 1010101),\n",
    "        (\"DP01003\", \"c. 1-5 tháng\", 3, 2, 1010102),\n",
    "        (\"DP01004\", \"d. 6 tháng\", 3, 2, 1010103),\n",
    "        (\"DP01005\", \"e. 7 tháng\", 3, 2, 1010104),\n",
    "        (\"DP01006\", \"f. 8-11 tháng\", 3, 2, 1010105),\n",
    "        (\"DP01007\", \"g. 12 tháng\", 3, 2, 1010106),\n",
    "        (\"DP01008\", \"h. 13 tháng\", 3, 2, 1010107),\n",
    "        (\"DP01009\", \"i. 14-23 tháng\", 3, 2, 1010108),\n",
    "        (\"DP010010\", \"j. 24 đến 36 tháng\", 3, 2, 1010109),\n",
    "        (\"DP02001\", \"a. Doanh nghiệp\", 4, 2, 1020100),\n",
    "        (\"DP02002\", \"b. Cá nhân\", 4, 2, 1020101),\n",
    "        (\"LN01001\", \"a. Nợ QH\", 5, 2, 2010100),\n",
    "        (\"LN01002\", \"b. CV THONG THUONG\", 5, 2, 2010101),\n",
    "        (\"LN01003\", \"c. CV CCSTK\", 5, 2, 2010102),\n",
    "        (\"LN01004\", \"d. CV VNĐ lãi suất USD\", 5, 2, 2010103),\n",
    "        (\"LN01005\", \"e. CV ngắn hạn\", 5, 2, 2010104),\n",
    "        (\"LN01006\", \"f. CV trung hạn\", 5, 2, 2010105),\n",
    "        (\"LN01007\", \"g. CV dài hạn <= 120T\", 5, 2, 2010106),\n",
    "        (\"LN01008\", \"h. CV dài hạn <= 180T\", 5, 2, 2010107),\n",
    "        (\"LN01009\", \"i. CV dài hạn > 180T\", 5, 2, 2010108),\n",
    "        (\"LN010010\", \"j. CV ngắn hạn, HSRR ≥ 120%\", 5, 2, 2010109),\n",
    "        (\"LN010011\", \"k. CV trung hạn, HSRR ≥ 120%\", 5, 2, 2010110),\n",
    "        (\"LN010012\", \"l. CV dài hạn ≤ 120T, HSRR ≥ 120%\", 5, 2, 2010111),\n",
    "        (\"LN010013\", \"m. CV dài hạn ≤ 180T, HSRR ≥ 120%\", 5, 2, 2010112),\n",
    "        (\"LN010014\", \"n. CV dài hạn > 180T, HSRR ≥ 120%\", 5, 2, 2010113),\n",
    "        (\"LN02002\", \"a. Doanh nghiệp\", 6, 2, 2020100),\n",
    "        (\"LN02003\", \"b. Cá nhân\", 6, 2, 2020101)\n",
    "    ], [\"funding_code\", \"funding_name\", \"funding_parent_id\", \"funding_level\", \"sortorder\"]\n",
    ")"
   ]
  },
  {
   "cell_type": "code",
   "execution_count": 28,
   "id": "94d1959f-0202-4102-9300-50f87131361a",
   "metadata": {},
   "outputs": [],
   "source": [
    "## cheat tạo auto increasment\n",
    "\n",
    "from pyspark.sql.window import Window\n",
    "from pyspark.sql import functions as F\n",
    "\n",
    "window_spec = Window.orderBy(F.lit(1))\n",
    "dim_funding_structure = dim_funding_structure.withColumn(\"funding_id\", \n",
    "                                                         F.row_number().over(window_spec))\n",
    "\n",
    "dim_funding_structure = dim_funding_structure.select(\"funding_id\", \"funding_code\", \n",
    "                                                     \"funding_name\", \"funding_parent_id\", \n",
    "                                                     \"funding_level\", \"sortorder\")"
   ]
  },
  {
   "cell_type": "code",
   "execution_count": 31,
   "id": "ae953813-6095-40d0-8559-f5b357bb260f",
   "metadata": {
    "scrolled": true
   },
   "outputs": [
    {
     "name": "stdout",
     "output_type": "stream",
     "text": [
      "+----------+------------+--------------------+-----------------+-------------+---------+\n",
      "|funding_id|funding_code|        funding_name|funding_parent_id|funding_level|sortorder|\n",
      "+----------+------------+--------------------+-----------------+-------------+---------+\n",
      "|         1|          DP|        A. Nguôn vốn|               -1|            0|  1000000|\n",
      "|         2|          LN|      B. Sử dụng vốn|               -1|            0|  2000000|\n",
      "|         3|        DP01|I/ Tiền gửi TCKT ...|                1|            1|  1010000|\n",
      "|         4|        DP02|II/ Tiền gửi TCKT...|                1|            1|  1020000|\n",
      "|         5|        LN01|I/ Dư nợ TCKT & D...|                2|            1|  2010000|\n",
      "|         6|        LN02|II/ Dư nợ TCKT & ...|                2|            1|  2020000|\n",
      "|         7|     DP01001|              a. KKH|                3|            2|  1010100|\n",
      "|         8|     DP01002|             b. 1-3W|                3|            2|  1010101|\n",
      "|         9|     DP01003|        c. 1-5 tháng|                3|            2|  1010102|\n",
      "|        10|     DP01004|          d. 6 tháng|                3|            2|  1010103|\n",
      "|        11|     DP01005|          e. 7 tháng|                3|            2|  1010104|\n",
      "|        12|     DP01006|       f. 8-11 tháng|                3|            2|  1010105|\n",
      "|        13|     DP01007|         g. 12 tháng|                3|            2|  1010106|\n",
      "|        14|     DP01008|         h. 13 tháng|                3|            2|  1010107|\n",
      "|        15|     DP01009|      i. 14-23 tháng|                3|            2|  1010108|\n",
      "|        16|    DP010010|  j. 24 đến 36 tháng|                3|            2|  1010109|\n",
      "|        17|     DP02001|     a. Doanh nghiệp|                4|            2|  1020100|\n",
      "|        18|     DP02002|          b. Cá nhân|                4|            2|  1020101|\n",
      "|        19|     LN01001|            a. Nợ QH|                5|            2|  2010100|\n",
      "|        20|     LN01002|  b. CV THONG THUONG|                5|            2|  2010101|\n",
      "|        21|     LN01003|         c. CV CCSTK|                5|            2|  2010102|\n",
      "|        22|     LN01004|d. CV VNĐ lãi suấ...|                5|            2|  2010103|\n",
      "|        23|     LN01005|      e. CV ngắn hạn|                5|            2|  2010104|\n",
      "|        24|     LN01006|     f. CV trung hạn|                5|            2|  2010105|\n",
      "|        25|     LN01007|g. CV dài hạn <= ...|                5|            2|  2010106|\n",
      "|        26|     LN01008|h. CV dài hạn <= ...|                5|            2|  2010107|\n",
      "|        27|     LN01009|i. CV dài hạn > 180T|                5|            2|  2010108|\n",
      "|        28|    LN010010|j. CV ngắn hạn, H...|                5|            2|  2010109|\n",
      "|        29|    LN010011|k. CV trung hạn, ...|                5|            2|  2010110|\n",
      "|        30|    LN010012|l. CV dài hạn ≤ 1...|                5|            2|  2010111|\n",
      "|        31|    LN010013|m. CV dài hạn ≤ 1...|                5|            2|  2010112|\n",
      "|        32|    LN010014|n. CV dài hạn > 1...|                5|            2|  2010113|\n",
      "|        33|     LN02002|     a. Doanh nghiệp|                6|            2|  2020100|\n",
      "|        34|     LN02003|          b. Cá nhân|                6|            2|  2020101|\n",
      "+----------+------------+--------------------+-----------------+-------------+---------+\n",
      "\n"
     ]
    }
   ],
   "source": [
    "dim_funding_structure.show(35)"
   ]
  },
  {
   "cell_type": "markdown",
   "id": "84f6be47-2098-4ca8-9c7d-f8ba63b41bee",
   "metadata": {},
   "source": [
    "### Cập nhập các loại hình"
   ]
  },
  {
   "cell_type": "code",
   "execution_count": 272,
   "id": "e40aa712-3fcf-4b7d-9ed6-6ec0c7faf9e2",
   "metadata": {},
   "outputs": [],
   "source": [
    "from pyspark.sql.functions import col, when, datediff, floor\n",
    "\n",
    "fact_ln_customer = fact_ln_customer.withColumn(\n",
    "    \"funding_id_ky_han\",\n",
    "    when(datediff(col(\"maturity_date\"), col(\"open_date\")) == 0, 'DP01001')  # KKH\n",
    "    .when(datediff(col(\"maturity_date\"), col(\"open_date\")).between(7, 21), 'DP01002')  # 1-3W\n",
    "    .when(floor(datediff(col(\"maturity_date\"), col(\"open_date\")) / 30).between(1, 5), 'DP01003')  # 1-5 tháng\n",
    "    .when(floor(datediff(col(\"maturity_date\"), col(\"open_date\")) / 30) == 6, 'DP01004')  # 6 tháng\n",
    "    .when(floor(datediff(col(\"maturity_date\"), col(\"open_date\")) / 30) == 7, 'DP01005')  # 7 tháng\n",
    "    .when(floor(datediff(col(\"maturity_date\"), col(\"open_date\")) / 30).between(8, 11), 'DP01006')  # 8-11 tháng\n",
    "    .when(floor(datediff(col(\"maturity_date\"), col(\"open_date\")) / 30) == 12, 'DP01007')  # 12 tháng\n",
    "    .when(floor(datediff(col(\"maturity_date\"), col(\"open_date\")) / 30) == 13, 'DP01008')  # 13 tháng\n",
    "    .when(floor(datediff(col(\"maturity_date\"), col(\"open_date\")) / 30).between(14, 23), 'DP01009')  # 14-23 tháng\n",
    "    .when(floor(datediff(col(\"maturity_date\"), col(\"open_date\")) / 30).between(24, 36), 'DP010010')  # 24-36 tháng\n",
    "    .otherwise(None)\n",
    ")\n",
    "\n",
    "fact_ln_customer = fact_ln_customer.withColumn(\n",
    "    \"funding_id_loai_hinh\",\n",
    "    when(col(\"account_type\") == 'Business', 'DP02001')\n",
    "    .when(col(\"account_type\") == 'Individual', 'DP02002')\n",
    "    .otherwise(None)\n",
    ")"
   ]
  },
  {
   "cell_type": "code",
   "execution_count": 273,
   "id": "1e7c7623-af76-4ba6-8323-cc9e33cf03c5",
   "metadata": {
    "scrolled": true
   },
   "outputs": [
    {
     "name": "stdout",
     "output_type": "stream",
     "text": [
      "+----------+----------+---------------+-----------+-------------+-------------+--------+-----------+----------+-------------+----------+-----------------+--------------------+\n",
      "|process_dt|account_id|   account_type|customer_id|customer_type|interest_rate|cof_rate|    balance| open_date|maturity_date|close_date|funding_id_ky_han|funding_id_loai_hinh|\n",
      "+----------+----------+---------------+-----------+-------------+-------------+--------+-----------+----------+-------------+----------+-----------------+--------------------+\n",
      "|2023-01-01|         6|  CV VND LS USD|          6|     Business|        15.09|   17.52|34529000000|2022-03-18|   2023-08-28|2023-08-28|          DP01009|                NULL|\n",
      "|2023-01-01|        23|CV THONG THUONG|         23|     Business|        12.11|    14.4|11704000000|2022-06-26|   2023-11-09|2023-11-09|          DP01009|                NULL|\n",
      "|2023-01-01|         1|CV THONG THUONG|          1|     Business|        10.27|   11.53|15523000000|2022-03-19|   2024-01-21|      NULL|          DP01009|                NULL|\n",
      "|2023-01-01|        18|CV THONG THUONG|         18|     Business|         15.0|   16.26|49600000000|2020-03-30|   2028-06-30|      NULL|             NULL|                NULL|\n",
      "|2023-01-01|         5|CV THONG THUONG|          5|   Individual|        10.53|   12.69| 3868600000|2022-06-15|   2023-07-18|2023-07-18|          DP01008|                NULL|\n",
      "|2023-01-01|         9|CV THONG THUONG|          9|   Individual|         9.71|   11.73| 1358600000|2021-12-08|   2024-01-22|      NULL|         DP010010|                NULL|\n",
      "|2023-01-01|        12|CV THONG THUONG|         12|   Individual|        13.54|   15.75| 8641400000|2021-06-17|   2025-11-12|      NULL|             NULL|                NULL|\n",
      "|2023-01-01|        14|CV THONG THUONG|         14|   Individual|        10.44|   12.09|  244400000|2021-07-25|   2024-02-15|      NULL|         DP010010|                NULL|\n",
      "|2023-01-01|        15|       CV CCSTK|         15|   Individual|        15.72|   16.39| 1704800000|2021-12-12|   2027-05-12|      NULL|             NULL|                NULL|\n",
      "|2023-01-01|        16|CV THONG THUONG|         16|   Individual|        13.81|   15.77| 1131400000|2022-07-10|   2026-05-26|      NULL|             NULL|                NULL|\n",
      "|2023-01-01|        17|       CV CCSTK|         17|   Individual|        13.83|   15.27| 8577000000|2022-10-13|   2024-01-21|      NULL|          DP01009|                NULL|\n",
      "|2023-01-01|       339|CV THONG THUONG|        339|     Business|        15.09|    16.9|43917000000|2022-11-09|   2027-02-08|      NULL|             NULL|                NULL|\n",
      "|2023-01-01|       951|CV THONG THUONG|        951|   Individual|         8.57|   10.74|   69000000|2021-06-05|   2026-04-29|      NULL|             NULL|                NULL|\n",
      "|2023-01-01|        31|       CV CCSTK|         31|   Individual|        12.98|   14.47| 8949800000|2022-06-27|   2023-08-14|2023-08-14|          DP01008|                NULL|\n",
      "|2023-01-01|        35|CV THONG THUONG|         35|   Individual|        11.53|   12.59| 1540200000|2021-10-08|   2023-05-21|2023-05-22|          DP01009|                NULL|\n",
      "|2023-01-01|        29|CV THONG THUONG|         29|   Individual|         8.16|    8.83| 6783800000|2020-11-10|   2028-07-20|      NULL|             NULL|                NULL|\n",
      "|2023-01-01|        32|       CV CCSTK|         32|   Individual|         8.98|   10.29| 5674800000|2022-10-04|   2027-10-21|      NULL|             NULL|                NULL|\n",
      "|2023-01-01|        28|CV THONG THUONG|         28|     Business|        11.09|   11.83|26209000000|2022-10-23|   2024-03-29|      NULL|          DP01009|                NULL|\n",
      "|2023-01-01|        40|CV THONG THUONG|         40|   Individual|        12.77|   14.97| 3390800000|2022-07-30|   2023-09-07|2023-09-07|          DP01008|                NULL|\n",
      "|2023-01-01|        47|CV THONG THUONG|         47|   Individual|         10.5|   11.46|  960200000|2022-12-14|   2023-10-10|2023-10-10|          DP01006|                NULL|\n",
      "+----------+----------+---------------+-----------+-------------+-------------+--------+-----------+----------+-------------+----------+-----------------+--------------------+\n",
      "only showing top 20 rows\n",
      "\n"
     ]
    }
   ],
   "source": [
    "fact_ln_customer.show()"
   ]
  },
  {
   "cell_type": "code",
   "execution_count": 274,
   "id": "92dccc4d-fa23-4012-bbea-b35153e2b249",
   "metadata": {},
   "outputs": [],
   "source": [
    "from pyspark.sql.functions import col, when, datediff, floor\n",
    "\n",
    "fact_dp_customer = fact_dp_customer.withColumn(\n",
    "    \"funding_id_ky_han\",\n",
    "    when(\n",
    "        (floor(datediff(col(\"maturity_date\"), col(\"open_date\")) / 365) <= 1) & \n",
    "        (col(\"vof_rate\") / col(\"interest_rate\") >= 1.2), 'LN010010'  # CV ngắn hạn, HSRR ≥ 120%\n",
    "    )\n",
    "    .when(\n",
    "        (floor(datediff(col(\"maturity_date\"), col(\"open_date\")) / 365).between(1, 5)) & \n",
    "        (col(\"vof_rate\") / col(\"interest_rate\") >= 1.2), 'LN010011'  # CV trung hạn, HSRR ≥ 120%\n",
    "    )\n",
    "    .when(\n",
    "        (floor(datediff(col(\"maturity_date\"), col(\"open_date\")) / 365).between(5, 10)) & \n",
    "        (col(\"vof_rate\") / col(\"interest_rate\") >= 1.2), 'LN010012'  # CV dài hạn ≤ 120T, HSRR ≥ 120%\n",
    "    )\n",
    "    .when(\n",
    "        (floor(datediff(col(\"maturity_date\"), col(\"open_date\")) / 365).between(10, 15)) & \n",
    "        (col(\"vof_rate\") / col(\"interest_rate\") >= 1.2), 'LN010013'  # CV dài hạn ≤ 180T, HSRR ≥ 120%\n",
    "    )\n",
    "    .when(\n",
    "        (floor(datediff(col(\"maturity_date\"), col(\"open_date\")) / 365) > 15) & \n",
    "        (col(\"vof_rate\") / col(\"interest_rate\") >= 1.2), 'LN010014'  # CV dài hạn > 180T, HSRR ≥ 120%\n",
    "    )\n",
    "    .when(\n",
    "        floor(datediff(col(\"maturity_date\"), col(\"open_date\")) / 365) < 1, 'LN01005'  # CV ngắn hạn\n",
    "    )\n",
    "    .when(\n",
    "        floor(datediff(col(\"maturity_date\"), col(\"open_date\")) / 365).between(1, 5), 'LN01006'  # CV trung hạn\n",
    "    )\n",
    "    .when(\n",
    "        floor(datediff(col(\"maturity_date\"), col(\"open_date\")) / 365).between(5, 10), 'LN01007'  # CV dài hạn ≤ 120T\n",
    "    )\n",
    "    .when(\n",
    "        floor(datediff(col(\"maturity_date\"), col(\"open_date\")) / 365).between(10, 15), 'LN01008'  # CV dài hạn ≤ 180T\n",
    "    )\n",
    "    .when(\n",
    "        floor(datediff(col(\"maturity_date\"), col(\"open_date\")) / 365) > 15, 'LN01009'  # CV dài hạn > 180T\n",
    "    )\n",
    "    \n",
    "    .when(col(\"account_type\") == 'CV VND LS USD', 'LN01004')\n",
    "    .when(col(\"account_type\") == 'CV CCSTK', 'LN01003')\n",
    "    .when(col(\"account_type\") == 'Nợ QH', 'LN01001')\n",
    "    .when(col(\"account_type\") == 'CV THONG THUONG', 'LN01002')\n",
    "    .otherwise(None)\n",
    ")\n",
    "\n",
    "fact_dp_customer = fact_dp_customer.withColumn(\n",
    "    \"funding_id_loai_hinh\",\n",
    "    when(col(\"account_type\") == 'Business', 'LN02001')\n",
    "    .when(col(\"account_type\") == 'Individual', 'LN02002')\n",
    "    .otherwise(None)\n",
    ")"
   ]
  },
  {
   "cell_type": "code",
   "execution_count": 275,
   "id": "d55c5264-9860-4e69-a04f-c3c29cecec31",
   "metadata": {
    "scrolled": true
   },
   "outputs": [
    {
     "name": "stdout",
     "output_type": "stream",
     "text": [
      "+----------+----------+------------+-----------+-------------+-------------+--------+-----------+----------+-------------+----------+-----------------+--------------------+\n",
      "|process_dt|account_id|account_type|customer_id|customer_type|interest_rate|vof_rate|    balance| open_date|maturity_date|close_date|funding_id_ky_han|funding_id_loai_hinh|\n",
      "+----------+----------+------------+-----------+-------------+-------------+--------+-----------+----------+-------------+----------+-----------------+--------------------+\n",
      "|2023-01-01|       100|  Individual|        100|          VIP|         5.21|     7.4| 2393700000|2023-01-01|   2023-04-19|2023-04-19|         LN010010|             LN02002|\n",
      "|2023-01-01|       555|  Individual|        555|      Regular|         7.73|    9.08| 4623900000|2023-01-01|   2023-12-27|2023-12-28|          LN01005|             LN02002|\n",
      "|2023-01-01|      1075|  Individual|       1075|      Regular|         4.64|    6.91| 4620100000|2023-01-01|   2023-04-14|2023-04-14|         LN010010|             LN02002|\n",
      "|2023-01-01|      1980|  Individual|       1980|      Regular|         7.73|    9.09| 3811200000|2023-01-01|   2023-02-20|2023-02-20|          LN01005|             LN02002|\n",
      "|2023-01-01|      3499|  Individual|       3499|      Regular|         5.42|    6.51| 3417300000|2023-01-01|   2023-05-19|2023-05-19|         LN010010|             LN02002|\n",
      "|2023-01-01|      5424|  Individual|       5424|      Regular|         8.56|   10.52| 4940000000|2023-01-01|   2023-02-06|2023-02-07|         LN010010|             LN02002|\n",
      "|2023-01-01|      1466|  Individual|       1466|      Regular|          0.3|    5.33|   93161750|2023-01-01|         NULL|      NULL|             NULL|             LN02002|\n",
      "|2023-01-01|      3062|  Individual|       3062|      Regular|         8.65|   10.74| 3183900000|2023-01-01|   2023-02-10|2023-02-10|         LN010010|             LN02002|\n",
      "|2023-01-01|      5830|  Individual|       5830|      Regular|         7.97|    9.95| 1808900000|2023-01-01|   2023-04-18|2023-04-18|         LN010010|             LN02002|\n",
      "|2023-01-01|      7350|    Business|       7350|      Regular|         8.51|     9.2|11781900000|2023-01-01|   2023-07-10|2023-07-10|          LN01005|             LN02001|\n",
      "|2023-01-01|      8099|  Individual|       8099|      Regular|         7.29|    7.94| 4061800000|2023-01-01|   2023-01-30|      NULL|          LN01005|             LN02002|\n",
      "|2023-01-01|      8732|    Business|       8732|      Regular|          0.3|    5.48| 5528100000|2023-01-01|   2023-01-21|2023-01-21|         LN010010|             LN02001|\n",
      "|2023-01-01|      8934|  Individual|       8934|      Regular|          5.3|    6.95| 4014100000|2023-01-01|   2023-01-27|2023-01-28|         LN010010|             LN02002|\n",
      "|2023-01-01|      9568|  Individual|       9568|      Regular|          0.3|     5.3|  722300000|2023-01-01|   2023-01-08|2023-01-09|         LN010010|             LN02002|\n",
      "|2023-01-02|       100|  Individual|        100|          VIP|         5.21|     7.4| 2393700000|2023-01-01|   2023-04-19|2023-04-19|         LN010010|             LN02002|\n",
      "|2023-01-02|       555|  Individual|        555|      Regular|         7.73|    9.08| 4623900000|2023-01-01|   2023-12-27|2023-12-28|          LN01005|             LN02002|\n",
      "|2023-01-02|      1075|  Individual|       1075|      Regular|         4.64|    6.91| 4620100000|2023-01-01|   2023-04-14|2023-04-14|         LN010010|             LN02002|\n",
      "|2023-01-02|      1980|  Individual|       1980|      Regular|         7.73|    9.09| 3811200000|2023-01-01|   2023-02-20|2023-02-20|          LN01005|             LN02002|\n",
      "|2023-01-02|      2218|  Individual|       2218|          VIP|          0.3|    4.62|   54064075|2023-01-02|         NULL|      NULL|             NULL|             LN02002|\n",
      "|2023-01-02|      3499|  Individual|       3499|      Regular|         5.42|    6.51| 3417300000|2023-01-01|   2023-05-19|2023-05-19|         LN010010|             LN02002|\n",
      "+----------+----------+------------+-----------+-------------+-------------+--------+-----------+----------+-------------+----------+-----------------+--------------------+\n",
      "only showing top 20 rows\n",
      "\n"
     ]
    }
   ],
   "source": [
    "fact_dp_customer.show()"
   ]
  },
  {
   "cell_type": "markdown",
   "id": "5e4fcaf4-1df8-4fa0-855e-febb355e6f19",
   "metadata": {},
   "source": [
    "### Dựng cấu trúc bảng fact về các tiêu chí báo cáo theo \n",
    "### daily : đề xuất tên bảng : fct_funding_daily"
   ]
  },
  {
   "cell_type": "code",
   "execution_count": 276,
   "id": "0d52297f-d7bd-4d84-93a7-910dd85affbb",
   "metadata": {},
   "outputs": [],
   "source": [
    "from pyspark.sql.types import StructType, StructField, DateType, StringType, FloatType, LongType, BooleanType, TimestampType\n",
    "from pyspark.sql.functions import col, avg, sum, month, lit\n",
    "from datetime import datetime\n",
    "import logging\n",
    "\n",
    "schema = StructType([\n",
    "    StructField(\"process_dt\", DateType(), True),          # Cột process_dt kiểu Date\n",
    "    StructField(\"funding_id\", StringType(), True),        # Cột funding_id kiểu String\n",
    "    StructField(\"interest_rate\", FloatType(), True),      # Cột interest_rate kiểu Float\n",
    "    StructField(\"vof_rate\", FloatType(), True),           # Cột vof_rate kiểu Float\n",
    "    StructField(\"cof_rate\", FloatType(), True),           # Cột cof_rate kiểu Float\n",
    "    StructField(\"balance\", LongType(), True),             # Cột balance kiểu Long (tương đương int8 trong SQL)\n",
    "    StructField(\"avg_balance_month\", LongType(), True)    # Cột avg_balance_month kiểu Long (tương đương int8 trong SQL)\n",
    "])\n",
    "\n",
    "log_schema = StructType([\n",
    "    StructField(\"procedure_name\", StringType(), True),   # Tên thủ tục\n",
    "    StructField(\"start_time\", TimestampType(), True),    # Thời gian bắt đầu\n",
    "    StructField(\"end_time\", TimestampType(), True),      # Thời gian kết thúc\n",
    "    StructField(\"is_successful\", BooleanType(), True),   # Trạng thái thành công (True/False)\n",
    "    StructField(\"error_log\", StringType(), True),        # Thông tin lỗi (nếu có)\n",
    "    StructField(\"rec_created_dt\", TimestampType(), True) # Thời gian tạo bản ghi\n",
    "])\n",
    "\n",
    "log_df = spark_hdfs.createDataFrame(spark_hdfs.sparkContext.emptyRDD(), log_schema)\n",
    "\n",
    "fct_funding_daily = spark_hdfs.createDataFrame(spark_hdfs.sparkContext.emptyRDD(), schema)"
   ]
  },
  {
   "cell_type": "code",
   "execution_count": 277,
   "id": "84375be8-fc8c-4a41-b3d2-643b6a1b0f9e",
   "metadata": {},
   "outputs": [
    {
     "name": "stdout",
     "output_type": "stream",
     "text": [
      "root\n",
      " |-- process_dt: date (nullable = true)\n",
      " |-- funding_id: string (nullable = true)\n",
      " |-- interest_rate: float (nullable = true)\n",
      " |-- vof_rate: float (nullable = true)\n",
      " |-- cof_rate: float (nullable = true)\n",
      " |-- balance: long (nullable = true)\n",
      " |-- avg_balance_month: long (nullable = true)\n",
      "\n"
     ]
    }
   ],
   "source": [
    "fct_funding_daily.printSchema()"
   ]
  },
  {
   "cell_type": "code",
   "execution_count": 278,
   "id": "7adda0b5-db2e-4a43-a7b1-bf9cc284e9a8",
   "metadata": {},
   "outputs": [
    {
     "name": "stdout",
     "output_type": "stream",
     "text": [
      "root\n",
      " |-- procedure_name: string (nullable = true)\n",
      " |-- start_time: timestamp (nullable = true)\n",
      " |-- end_time: timestamp (nullable = true)\n",
      " |-- is_successful: boolean (nullable = true)\n",
      " |-- error_log: string (nullable = true)\n",
      " |-- rec_created_dt: timestamp (nullable = true)\n",
      "\n"
     ]
    }
   ],
   "source": [
    "log_df.printSchema()"
   ]
  },
  {
   "cell_type": "code",
   "execution_count": 279,
   "id": "149eeb9f-a958-43f2-90b7-e5991b17d313",
   "metadata": {},
   "outputs": [
    {
     "name": "stdout",
     "output_type": "stream",
     "text": [
      "+--------------+----------+--------+-------------+---------+--------------+\n",
      "|procedure_name|start_time|end_time|is_successful|error_log|rec_created_dt|\n",
      "+--------------+----------+--------+-------------+---------+--------------+\n",
      "+--------------+----------+--------+-------------+---------+--------------+\n",
      "\n"
     ]
    }
   ],
   "source": [
    "log_df.show()"
   ]
  },
  {
   "cell_type": "code",
   "execution_count": 280,
   "id": "4432732b-7726-44d7-82c3-6956e13a3792",
   "metadata": {
    "scrolled": true
   },
   "outputs": [
    {
     "name": "stdout",
     "output_type": "stream",
     "text": [
      "+----------+----------+-------------+--------+--------+-------+-----------------+\n",
      "|process_dt|funding_id|interest_rate|vof_rate|cof_rate|balance|avg_balance_month|\n",
      "+----------+----------+-------------+--------+--------+-------+-----------------+\n",
      "+----------+----------+-------------+--------+--------+-------+-----------------+\n",
      "\n"
     ]
    }
   ],
   "source": [
    "fct_funding_daily.show()"
   ]
  },
  {
   "cell_type": "markdown",
   "id": "12c4c6be-359f-44d0-a33b-4dad3ffb54b9",
   "metadata": {},
   "source": [
    "### Viết producer về fct_funding_daily"
   ]
  },
  {
   "cell_type": "code",
   "execution_count": 305,
   "id": "b0db9254-1f11-45c0-af69-22a5c65937eb",
   "metadata": {},
   "outputs": [],
   "source": [
    "fct_funding_daily = fct_funding_daily.limit(0)\n",
    "def fct_funding_daily_prc(v_date = None):\n",
    "    # Thời gian bắt đầu\n",
    "    start_time = datetime.now()\n",
    "    is_successful = False\n",
    "    error_log = None\n",
    "    process_dt = v_date if v_date else (datetime.now() - timedelta(days=1)).date()\n",
    "\n",
    "    try:        \n",
    "\n",
    "        dp_ky_han_items_df = fact_dp_customer.filter(col(\"process_dt\") == process_dt) \\\n",
    "                            .groupBy(\"funding_id_ky_han\") \\\n",
    "                            .agg(\n",
    "                                avg(\"interest_rate\").alias(\"interest_rate\"),\n",
    "                                avg(\"vof_rate\").alias(\"vof_rate\"),\n",
    "                                lit(0).alias(\"cof_rate\"),\n",
    "                                sum(\"balance\").alias(\"balance\")\n",
    "                            )\\\n",
    "                            .withColumn(\"process_dt\", lit(process_dt)) \\\n",
    "                            .withColumnRenamed(\"funding_id_ky_han\", \"funding_id\") \\\n",
    "                            .select(\"process_dt\", \"funding_id\", \"interest_rate\", \"vof_rate\", \"cof_rate\", \"balance\")\n",
    "\n",
    "        dp_ky_han_avg_balance_items_df = fact_dp_customer.filter(month(\"process_dt\") == month(lit(process_dt))) \\\n",
    "            .groupBy(\"funding_id_ky_han\") \\\n",
    "            .agg(\n",
    "                avg(\"balance\").alias(\"avg_balance_month\")\n",
    "            ).withColumn(\"process_dt\", lit(process_dt)) \\\n",
    "            .withColumnRenamed(\"funding_id_ky_han\", \"funding_id\") \\\n",
    "            .select(\"funding_id\", \"avg_balance_month\")\n",
    "        \n",
    "        \n",
    "        \n",
    "        dp_loai_hinh_items_df = fact_dp_customer.filter(col(\"process_dt\") == process_dt) \\\n",
    "                            .groupBy(\"funding_id_loai_hinh\") \\\n",
    "                            .agg(\n",
    "                                avg(\"interest_rate\").alias(\"interest_rate\"),\n",
    "                                avg(\"vof_rate\").alias(\"vof_rate\"),\n",
    "                                lit(0).alias(\"cof_rate\"),\n",
    "                                sum(\"balance\").alias(\"balance\")\n",
    "                            )\\\n",
    "                            .withColumn(\"process_dt\", lit(process_dt)) \\\n",
    "                            .withColumnRenamed(\"funding_id_loai_hinh\", \"funding_id\") \\\n",
    "                            .select(\"process_dt\", \"funding_id\", \"interest_rate\", \"vof_rate\", \"cof_rate\", \"balance\")\n",
    "\n",
    "        dp_loai_hinh_avg_balance_items_df = fact_dp_customer.filter(month(\"process_dt\") == month(lit(process_dt))) \\\n",
    "                    .groupBy(\"funding_id_loai_hinh\") \\\n",
    "                    .agg(\n",
    "                        avg(\"balance\").alias(\"avg_balance_month\")\n",
    "                    ).withColumn(\"process_dt\", lit(process_dt)) \\\n",
    "                    .withColumnRenamed(\"funding_id_loai_hinh\", \"funding_id\") \\\n",
    "                    .select(\"funding_id\", \"avg_balance_month\")\n",
    "\n",
    "\n",
    "        dp_final_ky_han_items_df = dp_ky_han_items_df.join(dp_ky_han_avg_balance_items_df, \"funding_id\", \"left\")\n",
    "        dp_final_loai_hinh_items_df = dp_loai_hinh_items_df.join(dp_loai_hinh_avg_balance_items_df, \"funding_id\", \"left\")\n",
    "        dp_final_items_df = dp_final_ky_han_items_df.union(dp_final_loai_hinh_items_df).distinct()\n",
    "\n",
    "        \n",
    "        ln_ky_han_items_df = fact_ln_customer.filter(col(\"process_dt\") == process_dt) \\\n",
    "                            .groupBy(\"funding_id_ky_han\") \\\n",
    "                            .agg(\n",
    "                                avg(\"interest_rate\").alias(\"interest_rate\"),\n",
    "                                lit(0).alias(\"vof_rate\"),\n",
    "                                avg(\"cof_rate\").alias(\"cof_rate\"),\n",
    "                                sum(\"balance\").alias(\"balance\")\n",
    "                            )\\\n",
    "                            .withColumn(\"process_dt\", lit(process_dt)) \\\n",
    "                            .withColumnRenamed(\"funding_id_ky_han\", \"funding_id\") \\\n",
    "                            .select(\"process_dt\", \"funding_id\", \"interest_rate\", \"vof_rate\", \"cof_rate\", \"balance\")\n",
    "\n",
    "        ln_ky_han_avg_balance_items_df = fact_ln_customer.filter(month(\"process_dt\") == month(lit(process_dt))) \\\n",
    "            .groupBy(\"funding_id_ky_han\") \\\n",
    "            .agg(\n",
    "                avg(\"balance\").alias(\"avg_balance_month\")\n",
    "            ).withColumn(\"process_dt\", lit(process_dt)) \\\n",
    "            .withColumnRenamed(\"funding_id_ky_han\", \"funding_id\") \\\n",
    "            .select(\"funding_id\", \"avg_balance_month\")\n",
    "\n",
    "\n",
    "        ln_loai_hinh_items_df = fact_ln_customer.filter(col(\"process_dt\") == process_dt) \\\n",
    "                            .groupBy(\"funding_id_loai_hinh\") \\\n",
    "                            .agg(\n",
    "                                avg(\"interest_rate\").alias(\"interest_rate\"),\n",
    "                                lit(0).alias(\"vof_rate\"),\n",
    "                                avg(\"cof_rate\").alias(\"cof_rate\"),\n",
    "                                sum(\"balance\").alias(\"balance\")\n",
    "                            )\\\n",
    "                            .withColumn(\"process_dt\", lit(process_dt)) \\\n",
    "                            .withColumnRenamed(\"funding_id_loai_hinh\", \"funding_id\") \\\n",
    "                            .select(\"process_dt\", \"funding_id\", \"interest_rate\", \"vof_rate\", \"cof_rate\", \"balance\")\n",
    "\n",
    "        ln_loai_hinh_avg_balance_items_df = fact_ln_customer.filter(month(\"process_dt\") == month(lit(process_dt))) \\\n",
    "            .groupBy(\"funding_id_loai_hinh\") \\\n",
    "            .agg(\n",
    "                avg(\"balance\").alias(\"avg_balance_month\")\n",
    "            ).withColumn(\"process_dt\", lit(process_dt)) \\\n",
    "            .withColumnRenamed(\"funding_id_loai_hinh\", \"funding_id\") \\\n",
    "            .select(\"funding_id\", \"avg_balance_month\")\n",
    "\n",
    "        ln_final_ky_han_items_df = ln_ky_han_items_df.join(ln_ky_han_avg_balance_items_df, \"funding_id\", \"left\")\n",
    "        ln_final_loai_hinh_items_df = ln_loai_hinh_items_df.join(ln_loai_hinh_avg_balance_items_df, \"funding_id\", \"left\")\n",
    "        ln_final_items_df = ln_final_ky_han_items_df.union(ln_final_loai_hinh_items_df).distinct()\n",
    "\n",
    "\n",
    "        dp_DP01_items_df = fact_dp_customer.filter(col(\"process_dt\") == process_dt) \\\n",
    "                            .agg(\n",
    "                                avg(\"interest_rate\").alias(\"interest_rate\"),\n",
    "                                avg(\"vof_rate\").alias(\"vof_rate\"),\n",
    "                                lit(0).alias(\"cof_rate\"),\n",
    "                                sum(\"balance\").alias(\"balance\")\n",
    "                            )\\\n",
    "                            .withColumn(\"process_dt\", lit(process_dt)) \\\n",
    "                            .withColumn(\"funding_id\", lit(\"DP01\")) \\\n",
    "                            .select(\"process_dt\", \"funding_id\", \"interest_rate\", \"vof_rate\", \"cof_rate\", \"balance\")\n",
    "\n",
    "        \n",
    "        dp_DP01_avg_balance_items_df = fact_dp_customer.filter(col(\"process_dt\") == process_dt) \\\n",
    "                           .agg(\n",
    "                                avg(\"balance\").alias(\"avg_balance_month\")\n",
    "                            ).withColumn(\"process_dt\", lit(process_dt)) \\\n",
    "                            .withColumn(\"funding_id\", lit(\"DP01\")) \\\n",
    "                            .select(\"funding_id\", \"avg_balance_month\")\n",
    "        \n",
    "        dp_DP01_df = dp_DP01_items_df.join(dp_DP01_avg_balance_items_df, \"funding_id\")\n",
    "\n",
    "        \n",
    "        dp_DP02_items_df = fact_dp_customer.filter(col(\"process_dt\") == process_dt) \\\n",
    "                            .agg(\n",
    "                                avg(\"interest_rate\").alias(\"interest_rate\"),\n",
    "                                avg(\"vof_rate\").alias(\"vof_rate\"),\n",
    "                                lit(0).alias(\"cof_rate\"),\n",
    "                                sum(\"balance\").alias(\"balance\")\n",
    "                            )\\\n",
    "                            .withColumn(\"process_dt\", lit(process_dt)) \\\n",
    "                            .withColumn(\"funding_id\", lit(\"DP02\")) \\\n",
    "                            .select(\"process_dt\", \"funding_id\", \"interest_rate\", \"vof_rate\", \"cof_rate\", \"balance\")\n",
    "\n",
    "        dp_DP02_avg_balance_items_df = fact_dp_customer.filter(col(\"process_dt\") == process_dt) \\\n",
    "                           .agg(\n",
    "                                avg(\"balance\").alias(\"avg_balance_month\")\n",
    "                            ).withColumn(\"process_dt\", lit(process_dt)) \\\n",
    "                            .withColumn(\"funding_id\", lit(\"DP02\")) \\\n",
    "                            .select(\"funding_id\", \"avg_balance_month\")\n",
    "        \n",
    "        dp_DP02_df = dp_DP02_items_df.join(dp_DP02_avg_balance_items_df, \"funding_id\")\n",
    "        \n",
    "        \n",
    "        dp_DP_items_df = fact_dp_customer.filter(col(\"process_dt\") == process_dt) \\\n",
    "                            .agg(\n",
    "                                avg(\"interest_rate\").alias(\"interest_rate\"),\n",
    "                                avg(\"vof_rate\").alias(\"vof_rate\"),\n",
    "                                lit(0).alias(\"cof_rate\"),\n",
    "                                sum(\"balance\").alias(\"balance\")\n",
    "                            )\\\n",
    "                            .withColumn(\"process_dt\", lit(process_dt)) \\\n",
    "                            .withColumn(\"funding_id\", lit(\"DP\")) \\\n",
    "                            .select(\"process_dt\", \"funding_id\", \"interest_rate\", \"vof_rate\", \"cof_rate\", \"balance\")\n",
    "\n",
    "        dp_DP_avg_balance_items_df = fact_dp_customer.filter(col(\"process_dt\") == process_dt) \\\n",
    "                           .agg(\n",
    "                                avg(\"balance\").alias(\"avg_balance_month\")\n",
    "                            ).withColumn(\"process_dt\", lit(process_dt)) \\\n",
    "                            .withColumn(\"funding_id\", lit(\"DP\")) \\\n",
    "                            .select(\"funding_id\", \"avg_balance_month\")\n",
    "        \n",
    "        dp_DP_df = dp_DP_items_df.join(dp_DP_avg_balance_items_df, \"funding_id\")\n",
    "\n",
    "        \n",
    "        dp_final_df = dp_final_items_df.union(dp_DP01_df).union(dp_DP02_df).union(dp_DP_df).distinct()\n",
    "\n",
    "\n",
    "        ln_LN01_items_df = fact_ln_customer.filter(col(\"process_dt\") == process_dt) \\\n",
    "                            .agg(\n",
    "                                avg(\"interest_rate\").alias(\"interest_rate\"),\n",
    "                                lit(0).alias(\"vof_rate\"),\n",
    "                                avg(\"cof_rate\").alias(\"cof_rate\"),\n",
    "                                sum(\"balance\").alias(\"balance\")\n",
    "                            )\\\n",
    "                            .withColumn(\"process_dt\", lit(process_dt)) \\\n",
    "                            .withColumn(\"funding_id\", lit(\"LN01\")) \\\n",
    "                            .select(\"process_dt\", \"funding_id\", \"interest_rate\", \"vof_rate\", \"cof_rate\", \"balance\")\n",
    "\n",
    "        ln_LN01_avg_balance_items_df = fact_ln_customer.filter(col(\"process_dt\") == process_dt) \\\n",
    "                           .agg(\n",
    "                                avg(\"balance\").alias(\"avg_balance_month\")\n",
    "                            ).withColumn(\"process_dt\", lit(process_dt)) \\\n",
    "                            .withColumn(\"funding_id\", lit(\"LN01\")) \\\n",
    "                            .select(\"funding_id\", \"avg_balance_month\")\n",
    "        \n",
    "        ln_LN01_df = ln_LN01_items_df.join(ln_LN01_avg_balance_items_df, \"funding_id\")\n",
    "\n",
    "\n",
    "        ln_LN02_items_df = fact_ln_customer.filter(col(\"process_dt\") == process_dt) \\\n",
    "                            .agg(\n",
    "                                avg(\"interest_rate\").alias(\"interest_rate\"),\n",
    "                                lit(0).alias(\"vof_rate\"),\n",
    "                                avg(\"cof_rate\").alias(\"cof_rate\"),\n",
    "                                sum(\"balance\").alias(\"balance\")\n",
    "                            )\\\n",
    "                            .withColumn(\"process_dt\", lit(process_dt)) \\\n",
    "                            .withColumn(\"funding_id\", lit(\"LN02\")) \\\n",
    "                            .select(\"process_dt\", \"funding_id\", \"interest_rate\", \"vof_rate\", \"cof_rate\", \"balance\")\n",
    "\n",
    "        ln_LN02_avg_balance_items_df = fact_ln_customer.filter(col(\"process_dt\") == process_dt) \\\n",
    "                           .agg(\n",
    "                                avg(\"balance\").alias(\"avg_balance_month\")\n",
    "                            ).withColumn(\"process_dt\", lit(process_dt)) \\\n",
    "                            .withColumn(\"funding_id\", lit(\"LN02\")) \\\n",
    "                            .select(\"funding_id\", \"avg_balance_month\")\n",
    "        \n",
    "        ln_LN02_df = ln_LN02_items_df.join(ln_LN02_avg_balance_items_df, \"funding_id\")\n",
    "        \n",
    "        ln_LN_items_df = fact_ln_customer.filter(col(\"process_dt\") == process_dt) \\\n",
    "                            .agg(\n",
    "                                avg(\"interest_rate\").alias(\"interest_rate\"),\n",
    "                                lit(0).alias(\"vof_rate\"),\n",
    "                                avg(\"cof_rate\").alias(\"cof_rate\"),\n",
    "                                sum(\"balance\").alias(\"balance\")\n",
    "                            )\\\n",
    "                            .withColumn(\"process_dt\", lit(process_dt)) \\\n",
    "                            .withColumn(\"funding_id\", lit(\"LN\")) \\\n",
    "                            .select(\"process_dt\", \"funding_id\", \"interest_rate\", \"vof_rate\", \"cof_rate\", \"balance\")\n",
    "\n",
    "        ln_LN_avg_balance_items_df = fact_ln_customer.filter(col(\"process_dt\") == process_dt) \\\n",
    "                           .agg(\n",
    "                                avg(\"balance\").alias(\"avg_balance_month\")\n",
    "                            ).withColumn(\"process_dt\", lit(process_dt)) \\\n",
    "                            .withColumn(\"funding_id\", lit(\"LN\")) \\\n",
    "                            .select(\"funding_id\", \"avg_balance_month\")\n",
    "        \n",
    "        ln_LN_df = ln_LN_items_df.join(ln_LN_avg_balance_items_df, \"funding_id\")\n",
    "\n",
    "\n",
    "        ln_final_df = ln_final_items_df.union(ln_LN01_df).union(ln_LN02_df).union(ln_LN_df).distinct()\n",
    "\n",
    "\n",
    "        fct_funding_daily = dp_final_df.union(ln_final_df).distinct()\n",
    "                \n",
    "        is_successful = True\n",
    "    except Exception as e:\n",
    "        error_log = str(e)\n",
    "    \n",
    "    # Thời gian kết thúc\n",
    "    end_time = datetime.now()\n",
    "    \n",
    "    # Ghi log vào bảng log_tracking\n",
    "    log_data = {\n",
    "        'procedure_name': 'fct_funding_daily_prc',\n",
    "        'start_time': start_time,\n",
    "        'end_time': end_time,\n",
    "        'is_successful': is_successful,\n",
    "        'error_log': error_log,\n",
    "        'rec_created_dt': datetime.now()\n",
    "    }\n",
    "    log_data_df = spark_hdfs.createDataFrame([log_data], log_schema)\n",
    "    \n",
    "    return fct_funding_daily, log_data_df\n",
    "\n",
    "    if error_log:\n",
    "        print(f\"Error: {error_log}\")\n",
    "    else:\n",
    "        print(f\"Procedure executed successfully.\")"
   ]
  },
  {
   "cell_type": "code",
   "execution_count": 306,
   "id": "09d3b769-ea3a-4bce-b196-623aa442c7a0",
   "metadata": {},
   "outputs": [],
   "source": [
    "fct_funding_daily, log_df = fct_funding_daily_prc(\"2023-03-01\")"
   ]
  },
  {
   "cell_type": "code",
   "execution_count": 307,
   "id": "87b10e04-e3eb-445e-852c-fa44b2025dbd",
   "metadata": {
    "scrolled": true
   },
   "outputs": [
    {
     "name": "stdout",
     "output_type": "stream",
     "text": [
      "+----------+----------+-------------------+------------------+------------------+-------------+--------------------+\n",
      "|funding_id|process_dt|      interest_rate|          vof_rate|          cof_rate|      balance|   avg_balance_month|\n",
      "+----------+----------+-------------------+------------------+------------------+-------------+--------------------+\n",
      "|   LN01006|2023-03-01|  6.434444444444444|              7.25|               0.0|  42934700000| 4.859148051948052E9|\n",
      "|   LN01005|2023-03-01|  7.017420147420148|7.9799262899262855|               0.0|1419119600000| 3.547766752669677E9|\n",
      "|  LN010010|2023-03-01|  5.406174496644295| 7.592197986577175|               0.0|1993869700000| 3.268754687062774E9|\n",
      "|  LN010011|2023-03-01|  5.693636363636364|  7.51090909090909|               0.0|  43072900000| 3.831869326683292E9|\n",
      "|   LN02002|2023-03-01|  4.839586466165436|   7.1810432330827|               0.0|2138175511618|1.9617743840219078E9|\n",
      "|   LN02001|2023-03-01|  4.779704641350203|7.0791561181434615|               0.0|1375214174332| 5.654298669843927E9|\n",
      "|      DP01|2023-03-01|  4.828677940046152| 7.162482705611075|               0.0|3513389685950|2.7005301198693314E9|\n",
      "|      DP02|2023-03-01|  4.828677940046152| 7.162482705611075|               0.0|3513389685950|2.7005301198693314E9|\n",
      "|        DP|2023-03-01|  4.828677940046152| 7.162482705611075|               0.0|3513389685950|2.7005301198693314E9|\n",
      "|   DP01008|2023-03-01| 12.063333333333333|               0.0|13.807499999999997| 120226800000|         9.9779375E9|\n",
      "|   DP01004|2023-03-01|              13.15|               0.0|14.646666666666667|   9791600000|3.2408713178294573E9|\n",
      "|   DP01006|2023-03-01| 12.483750000000002|               0.0|             13.97| 363971400000|1.087551584470094...|\n",
      "|   DP01005|2023-03-01| 12.457999999999998|               0.0|14.184000000000001|  35053400000|           7.01068E9|\n",
      "|  DP010010|2023-03-01| 12.059245283018868|               0.0| 13.55716981132075| 624243600000|1.187766294184720...|\n",
      "|   DP01009|2023-03-01| 12.108604651162793|               0.0| 13.57313953488372| 960092200000|1.091695023610606...|\n",
      "|   DP01007|2023-03-01|               9.47|               0.0|            10.585|  48325800000|1.973678352941176...|\n",
      "|      LN01|2023-03-01| 12.026853932584267|               0.0|13.515411985018728|5667859200000|1.061396853932584...|\n",
      "|      LN02|2023-03-01| 12.026853932584267|               0.0|13.515411985018728|5667859200000|1.061396853932584...|\n",
      "|        LN|2023-03-01| 12.026853932584267|               0.0|13.515411985018728|5667859200000|1.061396853932584...|\n",
      "|      NULL|2023-03-01|0.29999999999999843| 5.027841726618705|               0.0|  14392785950|                NULL|\n",
      "|      NULL|2023-03-01|  11.95583577712611|               0.0|13.438856304985341|3506154400000|                NULL|\n",
      "|      NULL|2023-03-01| 12.026853932584267|               0.0|13.515411985018728|5667859200000|                NULL|\n",
      "+----------+----------+-------------------+------------------+------------------+-------------+--------------------+\n",
      "\n"
     ]
    }
   ],
   "source": [
    "fct_funding_daily.show(100)"
   ]
  },
  {
   "cell_type": "code",
   "execution_count": 308,
   "id": "4532bc47-4b56-49e5-bd74-ddd9f22e6a52",
   "metadata": {
    "scrolled": true
   },
   "outputs": [
    {
     "name": "stdout",
     "output_type": "stream",
     "text": [
      "+--------------------+--------------------+--------------------+-------------+---------+--------------------+\n",
      "|      procedure_name|          start_time|            end_time|is_successful|error_log|      rec_created_dt|\n",
      "+--------------------+--------------------+--------------------+-------------+---------+--------------------+\n",
      "|fct_funding_daily...|2024-11-07 17:48:...|2024-11-07 17:48:...|         true|     NULL|2024-11-07 17:48:...|\n",
      "+--------------------+--------------------+--------------------+-------------+---------+--------------------+\n",
      "\n"
     ]
    }
   ],
   "source": [
    "log_df.show()"
   ]
  },
  {
   "cell_type": "code",
   "execution_count": 309,
   "id": "25cd6fcb-dcae-4317-ba81-d1f6af0ec339",
   "metadata": {},
   "outputs": [
    {
     "name": "stdout",
     "output_type": "stream",
     "text": [
      "+-----------------------+--------------------+--------------+------------------+------------------+-------------------+------------+\n",
      "|NGUỒN VỐN - SỬ DỤNG VỐN|      Số dư/dư nợ BQ|Số dư/dư nợ TĐ|      Lãi suất (%)|       VOF/COF (%)|         Margin (%)|Ngày báo cáo|\n",
      "+-----------------------+--------------------+--------------+------------------+------------------+-------------------+------------+\n",
      "|           A. Nguôn vốn|2.7005301198693314E9| 3513389685950| 4.828677940046152| 7.162482705611075| 2.3338047655649232|  2023-03-01|\n",
      "|   I/ Tiền gửi TCKT ...|2.7005301198693314E9| 3513389685950| 4.828677940046152| 7.162482705611075| 2.3338047655649232|  2023-03-01|\n",
      "|                 a. KKH|                 0.0|             0|               0.0|               0.0|                0.0|        NULL|\n",
      "|                b. 1-3W|                 0.0|             0|               0.0|               0.0|                0.0|        NULL|\n",
      "|           c. 1-5 tháng|                 0.0|             0|               0.0|               0.0|                0.0|        NULL|\n",
      "|             d. 6 tháng|3.2408713178294573E9|    9791600000|             13.15|               0.0|             -13.15|  2023-03-01|\n",
      "|             e. 7 tháng|           7.01068E9|   35053400000|12.457999999999998|               0.0|-12.457999999999998|  2023-03-01|\n",
      "|          f. 8-11 tháng|1.087551584470094...|  363971400000|12.483750000000002|               0.0|-12.483750000000002|  2023-03-01|\n",
      "|            g. 12 tháng|1.973678352941176...|   48325800000|              9.47|               0.0|              -9.47|  2023-03-01|\n",
      "|            h. 13 tháng|         9.9779375E9|  120226800000|12.063333333333333|               0.0|-12.063333333333333|  2023-03-01|\n",
      "|         i. 14-23 tháng|1.091695023610606...|  960092200000|12.108604651162793|               0.0|-12.108604651162793|  2023-03-01|\n",
      "|     j. 24 đến 36 tháng|1.187766294184720...|  624243600000|12.059245283018868|               0.0|-12.059245283018868|  2023-03-01|\n",
      "|   II/ Tiền gửi TCKT...|2.7005301198693314E9| 3513389685950| 4.828677940046152| 7.162482705611075| 2.3338047655649232|  2023-03-01|\n",
      "|        a. Doanh nghiệp|                 0.0|             0|               0.0|               0.0|                0.0|        NULL|\n",
      "|             b. Cá nhân|                 0.0|             0|               0.0|               0.0|                0.0|        NULL|\n",
      "|         B. Sử dụng vốn|1.061396853932584...| 5667859200000|12.026853932584267|13.515411985018728| 1.4885580524344615|  2023-03-01|\n",
      "|   I/ Dư nợ TCKT & D...|1.061396853932584...| 5667859200000|12.026853932584267|13.515411985018728| 1.4885580524344615|  2023-03-01|\n",
      "|               a. Nợ QH|                 0.0|             0|               0.0|               0.0|                0.0|        NULL|\n",
      "|     b. CV THONG THUONG|                 0.0|             0|               0.0|               0.0|                0.0|        NULL|\n",
      "|            c. CV CCSTK|                 0.0|             0|               0.0|               0.0|                0.0|        NULL|\n",
      "|   d. CV VNĐ lãi suấ...|                 0.0|             0|               0.0|               0.0|                0.0|        NULL|\n",
      "|         e. CV ngắn hạn| 3.547766752669677E9| 1419119600000| 7.017420147420148|               0.0| -7.017420147420148|  2023-03-01|\n",
      "|        f. CV trung hạn| 4.859148051948052E9|   42934700000| 6.434444444444444|               0.0| -6.434444444444444|  2023-03-01|\n",
      "|   g. CV dài hạn <= ...|                 0.0|             0|               0.0|               0.0|                0.0|        NULL|\n",
      "|   h. CV dài hạn <= ...|                 0.0|             0|               0.0|               0.0|                0.0|        NULL|\n",
      "|   i. CV dài hạn > 180T|                 0.0|             0|               0.0|               0.0|                0.0|        NULL|\n",
      "|   j. CV ngắn hạn, H...| 3.268754687062774E9| 1993869700000| 5.406174496644295|               0.0| -5.406174496644295|  2023-03-01|\n",
      "|   k. CV trung hạn, ...| 3.831869326683292E9|   43072900000| 5.693636363636364|               0.0| -5.693636363636364|  2023-03-01|\n",
      "|   l. CV dài hạn ≤ 1...|                 0.0|             0|               0.0|               0.0|                0.0|        NULL|\n",
      "|   m. CV dài hạn ≤ 1...|                 0.0|             0|               0.0|               0.0|                0.0|        NULL|\n",
      "|   n. CV dài hạn > 1...|                 0.0|             0|               0.0|               0.0|                0.0|        NULL|\n",
      "|   II/ Dư nợ TCKT & ...|1.061396853932584...| 5667859200000|12.026853932584267|13.515411985018728| 1.4885580524344615|  2023-03-01|\n",
      "|        a. Doanh nghiệp|1.9617743840219078E9| 2138175511618| 4.839586466165436|               0.0| -4.839586466165436|  2023-03-01|\n",
      "|             b. Cá nhân|                 0.0|             0|               0.0|               0.0|                0.0|        NULL|\n",
      "+-----------------------+--------------------+--------------+------------------+------------------+-------------------+------------+\n",
      "\n"
     ]
    }
   ],
   "source": [
    "from pyspark.sql import functions as F\n",
    "\n",
    "dim_funding_structure.alias(\"x\") \\\n",
    "    .join(fct_funding_daily.alias(\"y\"),\n",
    "           F.col(\"x.funding_code\") == F.col(\"y.funding_id\"), \n",
    "          \"left\") \\\n",
    "    .select(\n",
    "        F.col(\"x.funding_name\").alias(\"NGUỒN VỐN - SỬ DỤNG VỐN\"),\n",
    "        F.coalesce(F.col(\"y.avg_balance_month\"), F.lit(0)).alias(\"Số dư/dư nợ BQ\"),\n",
    "        F.coalesce(F.col(\"y.balance\"), F.lit(0)).alias(\"Số dư/dư nợ TĐ\"),\n",
    "        F.coalesce(F.col(\"y.interest_rate\"), F.lit(0)).alias(\"Lãi suất (%)\"),\n",
    "        F.when(F.col(\"x.funding_code\").like(\"DP%\"), F.coalesce(F.col(\"y.vof_rate\"), F.lit(0)))\n",
    "         .otherwise(F.coalesce(F.col(\"y.cof_rate\"), F.lit(0))).alias(\"VOF/COF (%)\"),\n",
    "        (F.when(F.col(\"x.funding_code\").like(\"DP%\"), F.coalesce(F.col(\"y.vof_rate\"), F.lit(0)))\n",
    "         .otherwise(F.coalesce(F.col(\"y.cof_rate\"), F.lit(0))) - F.coalesce(F.col(\"y.interest_rate\"), F.lit(0)))\n",
    "         .alias(\"Margin (%)\"),\n",
    "        F.col(\"y.process_dt\").alias(\"Ngày báo cáo\")\n",
    "    ) \\\n",
    "    .orderBy(F.col(\"x.sortorder\").asc()).show(100)"
   ]
  },
  {
   "cell_type": "markdown",
   "id": "909310f2-ceb7-4dae-9689-bde8d7c22ebe",
   "metadata": {},
   "source": [
    "## Challenge Bài Test Yody"
   ]
  },
  {
   "cell_type": "code",
   "execution_count": 311,
   "id": "702ae347-9102-4676-adf1-bbcdcaa40e11",
   "metadata": {},
   "outputs": [],
   "source": [
    "inventory_data = spark_hdfs.read.csv(\"hdfs://172.30.2.147:9000/demo_directory/challenge/inventory_data.csv\", \n",
    "                           header = \"true\", inferSchema = \"true\")"
   ]
  },
  {
   "cell_type": "code",
   "execution_count": 312,
   "id": "ee69ae6a-7c82-4714-bd7e-2c78f15a385a",
   "metadata": {},
   "outputs": [],
   "source": [
    "rate_sell_data = spark_hdfs.read.csv(\"hdfs://172.30.2.147:9000/demo_directory/challenge/rate_sell_data.csv\", \n",
    "                           header = \"true\", inferSchema = \"true\")"
   ]
  },
  {
   "cell_type": "code",
   "execution_count": 313,
   "id": "4de79e18-c867-424b-86e8-960b6f74dc66",
   "metadata": {},
   "outputs": [
    {
     "name": "stdout",
     "output_type": "stream",
     "text": [
      "+---------------+-------------+---------+---------+\n",
      "|            SKU|group_product|inventory|sell_7day|\n",
      "+---------------+-------------+---------+---------+\n",
      "|AKK4001-XDM-4-5|         Kids|      554|        0|\n",
      "| ALN4036-TRA-XL|    Bassic Nữ|        2|        0|\n",
      "|  ADN5000-TRA-M|     Phụ Kiện|        4|        1|\n",
      "|  ADN5000-TRA-L|     Phụ Kiện|        2|        0|\n",
      "|  APK5001-TRA-4|         Polo|        8|        3|\n",
      "|  APK5019-TRA-4|         Polo|      159|       26|\n",
      "| APK5019-VAG-14|         Polo|      201|       11|\n",
      "| AKM4027-XDM-XL|       Áo Gió|      615|       38|\n",
      "|  AKN4024-XDM-S|       Áo Gió|      243|       19|\n",
      "| AKN4024-XDM-XL|       Áo Gió|      101|       15|\n",
      "|  APK5001-VAG-2|         Polo|        4|        0|\n",
      "|  APK5028-TRA-4|         Polo|       25|        3|\n",
      "|  APK5044-TRA-6|         Polo|       74|       18|\n",
      "| APK5151-TRA-10|         Polo|      239|        9|\n",
      "|  APK5155-TRA-4|         Polo|       85|        7|\n",
      "|  APK5155-VAG-2|         Polo|       14|       14|\n",
      "| APK5167-TRA-12|         Polo|      177|        8|\n",
      "| APK5173-TRA-12|         Polo|       35|        4|\n",
      "|  APK5177-VAG-2|         Polo|      587|       36|\n",
      "| APK5001-VAG-10|         Polo|        7|        4|\n",
      "+---------------+-------------+---------+---------+\n",
      "only showing top 20 rows\n",
      "\n"
     ]
    }
   ],
   "source": [
    "inventory_data.show()"
   ]
  },
  {
   "cell_type": "code",
   "execution_count": 315,
   "id": "d0f22c5a-8c56-43a6-8c3a-687a432c7c4e",
   "metadata": {
    "scrolled": true
   },
   "outputs": [
    {
     "name": "stdout",
     "output_type": "stream",
     "text": [
      "+----------------------+-------------------+-------------------+-------------------+-------------------+-------------------+-------------------+-------------------+-------------------+-------------------+-------------------+------------------+\n",
      "|store                 |polo               |bassic_nu          |yody_sport         |phu_kien           |kids               |office_nu          |jeans              |bassic_nam         |office_nam         |ao_gio             |ao_phao           |\n",
      "+----------------------+-------------------+-------------------+-------------------+-------------------+-------------------+-------------------+-------------------+-------------------+-------------------+-------------------+------------------+\n",
      "|YODY Lê Duẩn 1        |0.0262251660682709 |0.0273985184113117 |0.0169405484367498 |0.0148554976916247 |0.0146757474665954 |0.0215731503860839 |0.0191177302920165 |0.0183377136516788 |0.0202416642090707 |0.0212651319217569 |0.0               |\n",
      "|YODY Đồng Hới 2       |0.0345080247281016 |0.0307800472973904 |0.0401778877710886 |0.0269131439960428 |0.0340218436028726 |0.0343586450052912 |0.0313673873314585 |0.0198721617240402 |0.0314526841930791 |0.00949980604730114|0.0               |\n",
      "|YODY Quảng Phú        |0.0102818290487652 |0.0106366381187779 |0.00665504995244801|0.00986447479099681|0.00898491226987517|0.0111774053677056 |0.0125674450294137 |0.0048340115995585 |0.00791735204462379|0.013944348801152  |0.0               |\n",
      "|YODY Đức Phổ          |0.00904065176499553|0.00766804209803114|0.00442209215363959|0.00815107492844737|0.00785206194561226|0.0101357346061229 |0.0127052275416184 |0.00767317205404052|0.00425194141527566|0.00697217440057602|0.0               |\n",
      "|YODY Phú Yên          |0.019624896526401  |0.0242518278721905 |0.0214253136997532 |0.0225927667042649 |0.0211721367244478 |0.0211442114572319 |0.0244025415136267 |0.0197428036128651 |0.0166844161088738 |0.0312000435895451 |0.0               |\n",
      "|YODY Hồ Xá            |0.0128228534693505 |0.0143625139340032 |0.0111674636643317 |0.0144069161124169 |0.00999948137372029|0.00913735506549927|0.0114806204029252 |0.0132550873350402 |0.0172970096774947 |0.00789380324348926|0.0               |\n",
      "|YODY QUY NHƠN         |0.0128914893255193 |0.0097029505532461 |0.0114968184489268 |0.0149896945022147 |0.00689646534336258|0.0143268981886223 |0.00889141881849298|0.0134180844394927 |0.0119784150331663 |0.0101096528808352 |0.0               |\n",
      "|YODY Quảng Ngãi       |0.0155888350910537 |0.0148930435251636 |0.0108393502010763 |0.0143502426900423 |0.00974382627729406|0.0179583553598711 |0.0143631598324638 |0.0164769281153789 |0.0135005064070949 |0.0176488625177488 |0.166044233618164 |\n",
      "|YODY Xô Viết Nghệ Tĩnh|0.0226874948527446 |0.0221408065293984 |0.0185022619661167 |0.0181487189584041 |0.0189498305126718 |0.0231772090174807 |0.0238889749893698 |0.0288254789070934 |0.0233158894474362 |0.0199149939391491 |0.0               |\n",
      "|YODY Hương Khê        |0.0102297373711011 |0.0112334993653995 |0.0164651037487715 |0.00980152205985215|0.0174818164421691 |0.0115477063630652 |0.0120918311111611 |0.00705286117217387|0.010561219631099  |0.00244026104020161|0.0               |\n",
      "|YODY Bình Sơn         |0.0146116471125    |0.0186969028687922 |0.0231426679588228 |0.0228091740345659 |0.0166200468607019 |0.0297010627863202 |0.0223673117983533 |0.010012394301784  |0.017246739396424  |0.0343794599609356 |0.0               |\n",
      "|YODY BUÔN HỒ          |0.0109536539625759 |0.00974375588787569|0.0125319276078293 |0.0138959240576268 |0.0166014204263325 |0.0111234389060503 |0.0184221470822419 |0.00751444111928935|0.0134697193437204 |0.0229713488112512 |0.0               |\n",
      "|YODY Hà Tĩnh          |0.0425559490893036 |0.0394384827426046 |0.0455441289356082 |0.0358943382224541 |0.0297474243395693 |0.0242534756538884 |0.0320116470751658 |0.0427005358304241 |0.0347838909006173 |0.00493106597627706|0.0               |\n",
      "|YODY Quy Nhơn 2       |0.0169371758533688 |0.0163122416495011 |0.012241809158678  |0.0114593447183378 |0.0200144735688408 |0.0165798697923859 |0.015922538175369  |0.0255025740376221 |0.012740678677397  |0.0139751906252548 |0.0               |\n",
      "|Yody Ngô Mây          |0.00597234785108585|0.0101688827949315 |0.00672287684774297|0.00664372153672815|0.00803830387482419|0.0118702807688984 |0.0082336022566803 |0.00661236689139852|0.00801176798262016|0.00963059984526683|-0.066683580320346|\n",
      "|YODY Chư Sê           |0.00611708978447001|0.0111061848190086 |0.0105184397326815 |0.0119668778318562 |0.0100807338702173 |0.0092060982189366 |0.0107159704689466 |0.0103216886629477 |0.0111574018574174 |0.0162972392348301 |0.0100104818749368|\n",
      "|YODY Quảng Trị        |0.016479717324396  |0.0147134144471963 |0.0226834574417969 |0.0194248873584201 |0.0129433456175602 |0.0157268489162309 |0.017145598524602  |0.0212018336507355 |0.0224679671350663 |0.0112428496474451 |0.0               |\n",
      "|YODY Núi Thành        |0.00889810572385441|0.00886068659486612|0.018122213851804  |0.0173753795117769 |0.00997879280702603|0.0138956589393423 |0.00979815786221165|0.0135746577711765 |0.0134578335016366 |0.0115040877609504 |0.0               |\n",
      "|YODY Buôn Ma Thuột    |0.0798852615875944 |0.0803960951448216 |0.101530670345847  |0.0870370779363076 |0.156240544310765  |0.0885465411715052 |0.0909455328075638 |0.0863264342716653 |0.0899972973726356 |0.141766410327161  |0.0               |\n",
      "|YODY Kon Tum          |0.0246842929605689 |0.0249989301123442 |0.0240304921363863 |0.0274413775427102 |0.0258106120010211 |0.0172444262928251 |0.0231629738120158 |0.0380069724218069 |0.0284688118473816 |0.0354715925424794 |0.0264297907703357|\n",
      "+----------------------+-------------------+-------------------+-------------------+-------------------+-------------------+-------------------+-------------------+-------------------+-------------------+-------------------+------------------+\n",
      "only showing top 20 rows\n",
      "\n"
     ]
    }
   ],
   "source": [
    "rate_sell_data.show(truncate=False)"
   ]
  },
  {
   "cell_type": "markdown",
   "id": "2e563089-2a7f-4a48-870c-8309ade78abc",
   "metadata": {},
   "source": [
    "Câu 1:\t\n",
    "        - Từ bảng Data, anh/chị cho ra 1 bảng đánh giá thể hiện được 2 yếu tố cần làm rõ:\n",
    "\n",
    "        + Tồn, Bán của Nhóm Hàng (Phân tích hàng có đủ bán hay không?)\n",
    "        \n",
    "        + Tồn, Bán của từng màu trong từng Nhóm Hàng (Phân tích điểm chung giữa các mã trong từng Nhóm Hàng.)"
   ]
  },
  {
   "cell_type": "code",
   "execution_count": 337,
   "id": "721c016e-2790-4aec-a914-52bfdbec8e07",
   "metadata": {},
   "outputs": [
    {
     "name": "stdout",
     "output_type": "stream",
     "text": [
      "+----+--------+\n",
      "|code|    name|\n",
      "+----+--------+\n",
      "| XDM|Xanh đậm|\n",
      "| VAG|    Vàng|\n",
      "| TRA|   Trắng|\n",
      "+----+--------+\n",
      "\n"
     ]
    }
   ],
   "source": [
    "from pyspark.sql.functions import col, substring, when\n",
    "\n",
    "dim_color = inventory_data.withColumn(\n",
    "    \"name\",\n",
    "    when(substring(col(\"SKU\"), 9, 3) == \"TRA\", \"Trắng\")\n",
    "    .when(substring(col(\"SKU\"), 9, 3) == \"XDM\", \"Xanh đậm\")\n",
    "    .when(substring(col(\"SKU\"), 9, 3) == \"VAG\", \"Vàng\")\n",
    "    .otherwise(\"Unknown\")  # Xử lý trường hợp không khớp\n",
    ").withColumn(\"code\",\n",
    "           substring(col(\"SKU\"), 9, 3)\n",
    "          ).select(\"code\", \"name\").distinct()\n",
    "\n",
    "dim_color.show()"
   ]
  },
  {
   "cell_type": "code",
   "execution_count": 344,
   "id": "ee0a6b9d-2a4d-4a65-b5a7-fec47f7824fc",
   "metadata": {},
   "outputs": [
    {
     "name": "stdout",
     "output_type": "stream",
     "text": [
      "+----+----+\n",
      "|code|name|\n",
      "+----+----+\n",
      "|   N|  Nữ|\n",
      "|   K| Kid|\n",
      "|   M| Nam|\n",
      "+----+----+\n",
      "\n"
     ]
    }
   ],
   "source": [
    "dim_type_person = inventory_data.withColumn(\n",
    "    \"name\",\n",
    "    when(substring(col(\"SKU\"), 3, 1) == \"N\", \"Nữ\")\n",
    "    .when(substring(col(\"SKU\"), 3, 1) == \"M\", \"Nam\")\n",
    "    .when(substring(col(\"SKU\"), 3, 1) == \"K\", \"Kid\")\n",
    "    .otherwise(\"Kid\")  # Xử lý trường hợp không khớp\n",
    ").withColumn(\"code\",\n",
    "           when(substring(col(\"SKU\"), 3, 1) == \"D\", \"K\")\n",
    "             .otherwise(substring(col(\"SKU\"), 3, 1))\n",
    "          ).select(\"code\", \"name\").distinct()\n",
    "\n",
    "dim_type_person.show()"
   ]
  },
  {
   "cell_type": "code",
   "execution_count": 354,
   "id": "e834d1d6-761b-4d67-89d6-58f3348ccc22",
   "metadata": {},
   "outputs": [
    {
     "name": "stdout",
     "output_type": "stream",
     "text": [
      "+---------------+-------------+---------+---------+\n",
      "|            SKU|group_product|inventory|sell_7day|\n",
      "+---------------+-------------+---------+---------+\n",
      "|  KID3056-TRA-8|         Kids|       13|        0|\n",
      "|  KID3261-VAG-8|         Kids|       27|        0|\n",
      "|  KID4034-TRA-6|         Kids|        1|        0|\n",
      "|  KID3261-TRA-2|         Kids|       12|        0|\n",
      "| KID3261-TRA-10|         Kids|        7|        0|\n",
      "|KID4085-TRA-2-3|         Kids|        3|        0|\n",
      "|  KID4035-VAG-6|         Kids|        1|        0|\n",
      "| KID3056-TRA-10|         Kids|        3|        0|\n",
      "|  KID3096-TRA-6|         Kids|        1|        0|\n",
      "|  KID3261-VAG-2|         Kids|       24|        1|\n",
      "|  KID3056-TRA-4|         Kids|       15|        0|\n",
      "|  KID3261-TRA-8|         Kids|       17|        0|\n",
      "| KID4034-TRA-10|         Kids|        1|        0|\n",
      "| KID4035-TRA-10|         Kids|        1|        0|\n",
      "|  KID3056-TRA-6|         Kids|        5|        0|\n",
      "|  KID3261-TRA-4|         Kids|       43|        1|\n",
      "| KID4018-TRA-10|         Kids|        1|        0|\n",
      "|KID4086-TRA-2-3|         Kids|        7|        0|\n",
      "|  KID4034-TRA-2|         Kids|        3|        0|\n",
      "|  KID3028-TRA-2|         Kids|        1|        0|\n",
      "+---------------+-------------+---------+---------+\n",
      "only showing top 20 rows\n",
      "\n"
     ]
    }
   ],
   "source": [
    "inventory_data.filter(\n",
    "    ~substring(col(\"SKU\"),3,1).isin(\"N\",\"M\",\"K\")\n",
    ").show()"
   ]
  },
  {
   "cell_type": "code",
   "execution_count": 387,
   "id": "44856d8d-eba7-4e24-9d41-47a5a4d76e82",
   "metadata": {},
   "outputs": [
    {
     "name": "stdout",
     "output_type": "stream",
     "text": [
      "+---------------+-------------+---------+---------+--------+----------+--------------+----------------+\n",
      "|            SKU|group_product|inventory|sell_7day|id_color|code_color|id_type_person|code_type_person|\n",
      "+---------------+-------------+---------+---------+--------+----------+--------------+----------------+\n",
      "|AKK4001-XDM-4-5|         Kids|      554|        0|     XDM|  Xanh đậm|             K|             Kid|\n",
      "| ALN4036-TRA-XL|    Bassic Nữ|        2|        0|     TRA|     Trắng|             N|              Nữ|\n",
      "|  ADN5000-TRA-M|     Phụ Kiện|        4|        1|     TRA|     Trắng|             N|              Nữ|\n",
      "|  ADN5000-TRA-L|     Phụ Kiện|        2|        0|     TRA|     Trắng|             N|              Nữ|\n",
      "|  APK5001-TRA-4|         Polo|        8|        3|     TRA|     Trắng|             K|             Kid|\n",
      "|  APK5019-TRA-4|         Polo|      159|       26|     TRA|     Trắng|             K|             Kid|\n",
      "| APK5019-VAG-14|         Polo|      201|       11|     VAG|      Vàng|             K|             Kid|\n",
      "| AKM4027-XDM-XL|       Áo Gió|      615|       38|     XDM|  Xanh đậm|             M|             Nam|\n",
      "|  AKN4024-XDM-S|       Áo Gió|      243|       19|     XDM|  Xanh đậm|             N|              Nữ|\n",
      "| AKN4024-XDM-XL|       Áo Gió|      101|       15|     XDM|  Xanh đậm|             N|              Nữ|\n",
      "|  APK5001-VAG-2|         Polo|        4|        0|     VAG|      Vàng|             K|             Kid|\n",
      "|  APK5028-TRA-4|         Polo|       25|        3|     TRA|     Trắng|             K|             Kid|\n",
      "|  APK5044-TRA-6|         Polo|       74|       18|     TRA|     Trắng|             K|             Kid|\n",
      "| APK5151-TRA-10|         Polo|      239|        9|     TRA|     Trắng|             K|             Kid|\n",
      "|  APK5155-TRA-4|         Polo|       85|        7|     TRA|     Trắng|             K|             Kid|\n",
      "|  APK5155-VAG-2|         Polo|       14|       14|     VAG|      Vàng|             K|             Kid|\n",
      "| APK5167-TRA-12|         Polo|      177|        8|     TRA|     Trắng|             K|             Kid|\n",
      "| APK5173-TRA-12|         Polo|       35|        4|     TRA|     Trắng|             K|             Kid|\n",
      "|  APK5177-VAG-2|         Polo|      587|       36|     VAG|      Vàng|             K|             Kid|\n",
      "| APK5001-VAG-10|         Polo|        7|        4|     VAG|      Vàng|             K|             Kid|\n",
      "+---------------+-------------+---------+---------+--------+----------+--------------+----------------+\n",
      "only showing top 20 rows\n",
      "\n"
     ]
    }
   ],
   "source": [
    "## dùng selectExpr để đổi tên khi quá nhiều tên của bản cần đổi tên\n",
    "from pyspark.sql import functions as F\n",
    "from pyspark.sql.functions import col, substring, when\n",
    "\n",
    "fact_sku_daily_eod = inventory_data.alias(\"x\") \\\n",
    "    .join(dim_color.alias(\"y\"), substring(F.col(\"x.SKU\"), 9, 3) == F.col(\"y.code\"), \"inner\") \\\n",
    "    .join(\n",
    "        dim_type_person.alias(\"z\"),\n",
    "        when(substring(col(\"x.SKU\"), 3, 1) == \"D\", \"K\")\n",
    "        .otherwise(substring(col(\"x.SKU\"), 3, 1)) == col(\"z.code\"),\n",
    "        \"inner\"\n",
    "    ) \\\n",
    "    .selectExpr( \n",
    "        \"x.*\", \n",
    "        \"y.code as id_color\", \n",
    "        \"y.name as code_color\", \n",
    "        \"z.code as id_type_person\", \n",
    "        \"z.name as code_type_person\"\n",
    "    )\n",
    "\n",
    "fact_sku_daily_eod.show()"
   ]
  },
  {
   "cell_type": "code",
   "execution_count": 422,
   "id": "97681d96-351c-4b38-a9ef-070b7248939a",
   "metadata": {},
   "outputs": [
    {
     "name": "stdout",
     "output_type": "stream",
     "text": [
      "+---------------+---------------+---------------+-----------------+\n",
      "|     id_product|total_inventory|total_sell_7day|is_enough_in_7day|\n",
      "+---------------+---------------+---------------+-----------------+\n",
      "|  APK5179-VAG-4|             10|             15|            false|\n",
      "|  APM3639-TRA-L|             91|             13|             true|\n",
      "|  AKM4027-XDM-L|            586|             64|             true|\n",
      "|APM3733-TRA-2XL|              1|              0|             true|\n",
      "|  TSK5011-TRA-6|            100|              7|             true|\n",
      "| SJN3070-XDM-27|            194|             12|             true|\n",
      "| SJN4010-TRA-25|             71|             50|             true|\n",
      "| TSK5117-VAG-12|             26|              3|             true|\n",
      "|  TSK5097-VAG-8|             53|             17|             true|\n",
      "| VEM4007-XDM-XL|             83|              1|             true|\n",
      "|  APK5129-VAG-4|             48|              5|             true|\n",
      "| APM4375-TRA-XL|              1|              9|            false|\n",
      "|APM4025-TRA-3XL|              8|              4|             true|\n",
      "| BDK4092-VAG-10|              1|              0|             true|\n",
      "| APN5046-VAG-XL|            159|            182|            false|\n",
      "| QJN5060-XDM-25|            164|              7|             true|\n",
      "|  SCN5192-TRA-M|             35|              8|             true|\n",
      "|  TSK5097-VAG-2|             48|             20|             true|\n",
      "| TSN5336-TRA-XS|             64|             11|             true|\n",
      "| APN5018-VAG-XL|              2|              1|             true|\n",
      "+---------------+---------------+---------------+-----------------+\n",
      "only showing top 20 rows\n",
      "\n"
     ]
    }
   ],
   "source": [
    "## theo theo từng mã sản phẩm\n",
    "fact_sku_daily_eod \\\n",
    "    .groupBy(\"SKU\") \\\n",
    "    .agg(\n",
    "        sum(\"inventory\").alias(\"total_inventory\"),\n",
    "        sum(\"sell_7day\").alias(\"total_sell_7day\")\n",
    "    ) \\\n",
    "    .withColumn(\"is_enough_in_7day\",\n",
    "        when((col(\"total_sell_7day\") <= col(\"total_inventory\")), True) \\\n",
    "        .otherwise(False)\n",
    "    ) \\\n",
    "    .withColumnRenamed(\"SKU\", \"id_product\") \\\n",
    "    .show()"
   ]
  },
  {
   "cell_type": "code",
   "execution_count": 421,
   "id": "1a792504-6175-4750-8f2c-b89dc8e4fecb",
   "metadata": {},
   "outputs": [
    {
     "name": "stdout",
     "output_type": "stream",
     "text": [
      "+-------------+---------------+---------------+-----------------+\n",
      "|group_product|total_inventory|total_sell_7day|is_enough_in_7day|\n",
      "+-------------+---------------+---------------+-----------------+\n",
      "|       Áo Gió|           2848|            297|             true|\n",
      "|         Polo|         197446|          22279|             true|\n",
      "|   YODY Sport|          15385|           4613|             true|\n",
      "|   Bassic Nam|          19828|           2804|             true|\n",
      "|      Áo Phao|            250|              1|             true|\n",
      "|         Kids|          34261|           4082|             true|\n",
      "|   Office Nam|          11165|           2782|             true|\n",
      "|    Bassic Nữ|          30664|           5704|             true|\n",
      "|     Phụ Kiện|           3898|           1464|             true|\n",
      "|    Office Nữ|           5393|           1393|             true|\n",
      "|        Jeans|          16373|           4094|             true|\n",
      "+-------------+---------------+---------------+-----------------+\n",
      "\n"
     ]
    }
   ],
   "source": [
    "## theo từng sản phẩm\n",
    "fact_sku_daily_eod \\\n",
    "    .groupBy(\"group_product\") \\\n",
    "    .agg(\n",
    "        sum(\"inventory\").alias(\"total_inventory\"),\n",
    "        sum(\"sell_7day\").alias(\"total_sell_7day\")\n",
    "    ) \\\n",
    "    .withColumn(\"is_enough_in_7day\",\n",
    "        when((col(\"total_sell_7day\") <= col(\"total_inventory\")), True) \\\n",
    "        .otherwise(False)\n",
    "    ) \\\n",
    "    .show()"
   ]
  },
  {
   "cell_type": "code",
   "execution_count": 420,
   "id": "3d0180ca-39e7-4a38-b8ca-bafd5623e5f0",
   "metadata": {},
   "outputs": [
    {
     "name": "stdout",
     "output_type": "stream",
     "text": [
      "+--------+----------+---------------+---------------+-----------------+\n",
      "|id_color|code_color|total_inventory|total_sell_7day|is_enough_in_7day|\n",
      "+--------+----------+---------------+---------------+-----------------+\n",
      "|     XDM|  Xanh đậm|          34433|           6176|             true|\n",
      "|     VAG|      Vàng|         141674|          12800|             true|\n",
      "|     TRA|     Trắng|         161404|          30537|             true|\n",
      "+--------+----------+---------------+---------------+-----------------+\n",
      "\n"
     ]
    }
   ],
   "source": [
    "## theo từng màu\n",
    "fact_sku_daily_eod \\\n",
    "    .groupBy(\"id_color\", \"code_color\") \\\n",
    "    .agg(\n",
    "        sum(\"inventory\").alias(\"total_inventory\"),\n",
    "        sum(\"sell_7day\").alias(\"total_sell_7day\")\n",
    "    ) \\\n",
    "    .withColumn(\"is_enough_in_7day\",\n",
    "        when((col(\"total_sell_7day\") <= col(\"total_inventory\")), True) \\\n",
    "        .otherwise(False)\n",
    "    ) \\\n",
    "    .show()"
   ]
  },
  {
   "cell_type": "code",
   "execution_count": 419,
   "id": "daf5fb59-2985-49e0-9096-72e23e6193c2",
   "metadata": {},
   "outputs": [
    {
     "name": "stdout",
     "output_type": "stream",
     "text": [
      "+--------------+----------------+---------------+---------------+-----------------+\n",
      "|id_type_person|code_type_person|total_inventory|total_sell_7day|is_enough_in_7day|\n",
      "+--------------+----------------+---------------+---------------+-----------------+\n",
      "|             N|              Nữ|         137224|          21736|             true|\n",
      "|             K|             Kid|          76571|           7026|             true|\n",
      "|             M|             Nam|         123716|          20751|             true|\n",
      "+--------------+----------------+---------------+---------------+-----------------+\n",
      "\n"
     ]
    }
   ],
   "source": [
    "## theo từng loại người\n",
    "fact_sku_daily_eod \\\n",
    "    .groupBy(\"id_type_person\", \"code_type_person\") \\\n",
    "    .agg(\n",
    "        sum(\"inventory\").alias(\"total_inventory\"),\n",
    "        sum(\"sell_7day\").alias(\"total_sell_7day\")\n",
    "    ) \\\n",
    "    .withColumn(\"is_enough_in_7day\",\n",
    "        when((col(\"total_sell_7day\") <= col(\"total_inventory\")), True) \\\n",
    "        .otherwise(False)\n",
    "    ) \\\n",
    "    .show()"
   ]
  },
  {
   "cell_type": "code",
   "execution_count": 418,
   "id": "dbb4b1d2-f8df-40e6-8a5f-de8a3034012e",
   "metadata": {},
   "outputs": [
    {
     "name": "stdout",
     "output_type": "stream",
     "text": [
      "+-------------+----------+----------------+---------------+---------------+-----------------+\n",
      "|group_product|code_color|code_type_person|total_inventory|total_sell_7day|is_enough_in_7day|\n",
      "+-------------+----------+----------------+---------------+---------------+-----------------+\n",
      "|   YODY Sport|     Trắng|              Nữ|           2452|           1180|             true|\n",
      "|   YODY Sport|  Xanh đậm|             Nam|           3833|            797|             true|\n",
      "|         Polo|     Trắng|             Kid|          22119|           1487|             true|\n",
      "|    Bassic Nữ|      Vàng|              Nữ|          10134|           1113|             true|\n",
      "|   Office Nam|     Trắng|             Nam|           4342|           1552|             true|\n",
      "|   YODY Sport|     Trắng|             Kid|            196|             25|             true|\n",
      "|    Office Nữ|     Trắng|              Nữ|           4401|           1130|             true|\n",
      "|     Phụ Kiện|      Vàng|             Kid|            100|              3|             true|\n",
      "|       Áo Gió|  Xanh đậm|             Nam|           2048|            178|             true|\n",
      "|    Bassic Nữ|     Trắng|             Nam|              2|              1|             true|\n",
      "|         Polo|      Vàng|              Nữ|          47827|           4495|             true|\n",
      "|   Office Nam|  Xanh đậm|             Nam|           5863|            904|             true|\n",
      "|         Kids|  Xanh đậm|             Kid|           1745|              4|             true|\n",
      "|         Polo|      Vàng|             Nam|          43571|           3237|             true|\n",
      "|       Áo Gió|  Xanh đậm|              Nữ|            800|            119|             true|\n",
      "|   YODY Sport|     Trắng|             Nam|           8622|           2522|             true|\n",
      "|    Office Nữ|      Vàng|              Nữ|            992|            263|             true|\n",
      "|    Bassic Nữ|     Trắng|              Nữ|          18478|           4277|             true|\n",
      "|     Phụ Kiện|     Trắng|             Kid|             99|              3|             true|\n",
      "|   Bassic Nam|  Xanh đậm|             Nam|           1293|             13|             true|\n",
      "+-------------+----------+----------------+---------------+---------------+-----------------+\n",
      "only showing top 20 rows\n",
      "\n"
     ]
    }
   ],
   "source": [
    "## theo từng nhóm sản phẩm, màu, loại người\n",
    "fact_sku_daily_eod \\\n",
    "    .groupBy(\"group_product\", \"code_color\", \"code_type_person\") \\\n",
    "    .agg(\n",
    "        sum(\"inventory\").alias(\"total_inventory\"),\n",
    "        sum(\"sell_7day\").alias(\"total_sell_7day\")\n",
    "    ) \\\n",
    "    .withColumn(\"is_enough_in_7day\",\n",
    "        when((col(\"total_sell_7day\") <= col(\"total_inventory\")), True) \\\n",
    "        .otherwise(False)\n",
    "    ) \\\n",
    "    .show()"
   ]
  },
  {
   "cell_type": "markdown",
   "id": "2701a41b-b4fd-4ac4-abe8-59d72aa15ca8",
   "metadata": {},
   "source": [
    "Câu 2:\t- Đánh giá hàng hóa từ Bảng Data để đưa ra số lượng đặt hàng (hoặc cần luân chuyển về) tới từng mã chi tiết. Đảm bảo hàng hóa đủ bán trong vòng 60 ngày (hoặc tùy theo đánh giá về số ngày bán của Người làm bài tập).\n",
    "\n",
    "* Thông tin thêm: Hàng về sẽ trong vòng từ 20 đến 45 ngày tùy vào chất liệu, mẫu mã, số lượng đặt."
   ]
  },
  {
   "cell_type": "code",
   "execution_count": 423,
   "id": "c53a7dab-a8fb-4d5e-92ff-0a1e4d059fd8",
   "metadata": {},
   "outputs": [
    {
     "name": "stdout",
     "output_type": "stream",
     "text": [
      "+---------------+-------------+---------------+---------------+-----------------+\n",
      "|     id_product|group_product|total_inventory|total_sell_7day|is_enough_in_7day|\n",
      "+---------------+-------------+---------------+---------------+-----------------+\n",
      "|  APM3543-VAG-M|         Polo|              1|              0|             true|\n",
      "|APM5243-VAG-4XL|         Polo|             33|              2|             true|\n",
      "|  TSN5180-TRA-S|    Bassic Nữ|             71|             13|             true|\n",
      "|  TSN5328-TRA-L|    Bassic Nữ|             80|              6|             true|\n",
      "|  TSK5127-TRA-8|         Kids|             42|              5|             true|\n",
      "|  TSK5029-TRA-6|         Kids|             86|             21|             true|\n",
      "|  APN3422-TRA-S|         Polo|              1|              0|             true|\n",
      "|APM5377-VAG-3XL|         Polo|            127|              1|             true|\n",
      "|  APM5065-TRA-L|         Polo|             67|             69|            false|\n",
      "|  QSK5039-VAG-8|         Kids|             38|              7|             true|\n",
      "|  SCN4034-VAG-S|    Office Nữ|              3|              0|             true|\n",
      "| TSK5087-VAG-10|         Kids|             36|              6|             true|\n",
      "|  SCN3000-TRA-S|    Office Nữ|             72|             44|             true|\n",
      "| SQM5015-XDM-31|   YODY Sport|             99|             22|             true|\n",
      "|  TSK5028-TRA-6|         Kids|             70|             17|             true|\n",
      "|TSM5231-TRA-2XL|   Bassic Nam|             66|             17|             true|\n",
      "|  TSM5273-VAG-L|   Bassic Nam|             32|             10|             true|\n",
      "|  QSK5071-VAG-8|         Kids|             76|             16|             true|\n",
      "|APM4349-TRA-4XL|         Polo|             13|              1|             true|\n",
      "|  ATN4468-TRA-S|    Bassic Nữ|              1|              0|             true|\n",
      "+---------------+-------------+---------------+---------------+-----------------+\n",
      "only showing top 20 rows\n",
      "\n"
     ]
    }
   ],
   "source": [
    "## theo theo từng mã sản phẩm\n",
    "fact_sku_daily_eod \\\n",
    "    .groupBy(\"SKU\",\"group_product\") \\\n",
    "    .agg(\n",
    "        sum(\"inventory\").alias(\"total_inventory\"),\n",
    "        sum(\"sell_7day\").alias(\"total_sell_7day\")\n",
    "    ) \\\n",
    "    .withColumn(\"is_enough_in_7day\",\n",
    "        when((col(\"total_sell_7day\") <= col(\"total_inventory\")), True) \\\n",
    "        .otherwise(False)\n",
    "    ) \\\n",
    "    .withColumnRenamed(\"SKU\", \"id_product\") \\\n",
    "    .show()"
   ]
  },
  {
   "cell_type": "code",
   "execution_count": 391,
   "id": "b62b4c70-d2b2-4f06-bf5b-3ca9472f704f",
   "metadata": {},
   "outputs": [
    {
     "name": "stdout",
     "output_type": "stream",
     "text": [
      "+-----+------------------+\n",
      "| code|             store|\n",
      "+-----+------------------+\n",
      "|S0001|       YODY An Khê|\n",
      "|S0002|      YODY An Nhơn|\n",
      "|S0003|      YODY BUÔN HỒ|\n",
      "|S0004|    YODY BUÔN TRẤP|\n",
      "|S0005|       YODY Ba Đồn|\n",
      "|S0006|YODY Buôn Ma Thuột|\n",
      "|S0007|     YODY Bình Sơn|\n",
      "|S0008|     YODY Bồng Sơn|\n",
      "|S0009|       YODY Chư Sê|\n",
      "|S0010|    YODY Cẩm Xuyên|\n",
      "|S0011|       YODY Ea Kar|\n",
      "|S0012|      YODY Gia Lai|\n",
      "|S0013|    YODY Gia Nghĩa|\n",
      "|S0014|     YODY Hoàn Lão|\n",
      "|S0015|       YODY Hà Lam|\n",
      "|S0016|      YODY Hà Tĩnh|\n",
      "|S0017|    YODY Hương Khê|\n",
      "|S0018|        YODY Hồ Xá|\n",
      "|S0019|    YODY Hồng Lĩnh|\n",
      "|S0020|       YODY Hội An|\n",
      "+-----+------------------+\n",
      "only showing top 20 rows\n",
      "\n"
     ]
    }
   ],
   "source": [
    "from pyspark.sql import functions as F\n",
    "\n",
    "dim_store = rate_sell_data\\\n",
    "    .withColumn(\"rank\", F.row_number().over(Window.orderBy(\"store\"))) \\\n",
    "    .withColumn(\"code\", F.concat(\n",
    "        lit(\"S\"),\n",
    "        F.lpad(F.col(\"rank\").cast(\"string\"), 4, \"0\")\n",
    "    )) \\\n",
    "    .select(\"code\", \"store\")\n",
    "\n",
    "dim_store.show()"
   ]
  },
  {
   "cell_type": "code",
   "execution_count": 15,
   "id": "fa56ab8a-aa40-4f7c-a0a8-f2421ae8d07f",
   "metadata": {},
   "outputs": [],
   "source": [
    "from pyspark.sql import SparkSession\n",
    "import time\n",
    "\n",
    "spark = SparkSession.builder \\\n",
    "    .appName(\"CV compare\") \\\n",
    "    .master(\"local[2]\") \\\n",
    "    .config(\"spark.driver.memory\", \"8g\") \\\n",
    "    .config(\"spark.executor.memory\", \"8g\") \\\n",
    "    .config(\"spark.network.timeout\", \"12000s\") \\\n",
    "    .config(\"spark.executor.heartbeatInterval\", \"2000s\") \\\n",
    "    .getOrCreate()\n"
   ]
  },
  {
   "cell_type": "code",
   "execution_count": 19,
   "id": "bbb43863-2243-4b6a-a46d-dc046bfe9837",
   "metadata": {},
   "outputs": [
    {
     "ename": "IllegalArgumentException",
     "evalue": "Invalid start or len parameter",
     "output_type": "error",
     "traceback": [
      "\u001b[1;31m---------------------------------------------------------------------------\u001b[0m",
      "\u001b[1;31mIllegalArgumentException\u001b[0m                  Traceback (most recent call last)",
      "Cell \u001b[1;32mIn[19], line 16\u001b[0m\n\u001b[0;32m     13\u001b[0m citizens_rdd_sv \u001b[38;5;241m=\u001b[39m spark\u001b[38;5;241m.\u001b[39msparkContext\u001b[38;5;241m.\u001b[39mtextFile(url)\n\u001b[0;32m     15\u001b[0m \u001b[38;5;66;03m# Xử lý dữ liệu\u001b[39;00m\n\u001b[1;32m---> 16\u001b[0m \u001b[43mcitizens_rdd_sv\u001b[49m\u001b[38;5;241;43m.\u001b[39;49m\u001b[43mcollect\u001b[49m\u001b[43m(\u001b[49m\u001b[43m)\u001b[49m\n",
      "File \u001b[1;32m~\\AppData\\Local\\Programs\\Python\\Python310\\lib\\site-packages\\pyspark\\rdd.py:1833\u001b[0m, in \u001b[0;36mRDD.collect\u001b[1;34m(self)\u001b[0m\n\u001b[0;32m   1831\u001b[0m \u001b[38;5;28;01mwith\u001b[39;00m SCCallSiteSync(\u001b[38;5;28mself\u001b[39m\u001b[38;5;241m.\u001b[39mcontext):\n\u001b[0;32m   1832\u001b[0m     \u001b[38;5;28;01massert\u001b[39;00m \u001b[38;5;28mself\u001b[39m\u001b[38;5;241m.\u001b[39mctx\u001b[38;5;241m.\u001b[39m_jvm \u001b[38;5;129;01mis\u001b[39;00m \u001b[38;5;129;01mnot\u001b[39;00m \u001b[38;5;28;01mNone\u001b[39;00m\n\u001b[1;32m-> 1833\u001b[0m     sock_info \u001b[38;5;241m=\u001b[39m \u001b[38;5;28;43mself\u001b[39;49m\u001b[38;5;241;43m.\u001b[39;49m\u001b[43mctx\u001b[49m\u001b[38;5;241;43m.\u001b[39;49m\u001b[43m_jvm\u001b[49m\u001b[38;5;241;43m.\u001b[39;49m\u001b[43mPythonRDD\u001b[49m\u001b[38;5;241;43m.\u001b[39;49m\u001b[43mcollectAndServe\u001b[49m\u001b[43m(\u001b[49m\u001b[38;5;28;43mself\u001b[39;49m\u001b[38;5;241;43m.\u001b[39;49m\u001b[43m_jrdd\u001b[49m\u001b[38;5;241;43m.\u001b[39;49m\u001b[43mrdd\u001b[49m\u001b[43m(\u001b[49m\u001b[43m)\u001b[49m\u001b[43m)\u001b[49m\n\u001b[0;32m   1834\u001b[0m \u001b[38;5;28;01mreturn\u001b[39;00m \u001b[38;5;28mlist\u001b[39m(_load_from_socket(sock_info, \u001b[38;5;28mself\u001b[39m\u001b[38;5;241m.\u001b[39m_jrdd_deserializer))\n",
      "File \u001b[1;32m~\\AppData\\Local\\Programs\\Python\\Python310\\lib\\site-packages\\py4j\\java_gateway.py:1322\u001b[0m, in \u001b[0;36mJavaMember.__call__\u001b[1;34m(self, *args)\u001b[0m\n\u001b[0;32m   1316\u001b[0m command \u001b[38;5;241m=\u001b[39m proto\u001b[38;5;241m.\u001b[39mCALL_COMMAND_NAME \u001b[38;5;241m+\u001b[39m\\\n\u001b[0;32m   1317\u001b[0m     \u001b[38;5;28mself\u001b[39m\u001b[38;5;241m.\u001b[39mcommand_header \u001b[38;5;241m+\u001b[39m\\\n\u001b[0;32m   1318\u001b[0m     args_command \u001b[38;5;241m+\u001b[39m\\\n\u001b[0;32m   1319\u001b[0m     proto\u001b[38;5;241m.\u001b[39mEND_COMMAND_PART\n\u001b[0;32m   1321\u001b[0m answer \u001b[38;5;241m=\u001b[39m \u001b[38;5;28mself\u001b[39m\u001b[38;5;241m.\u001b[39mgateway_client\u001b[38;5;241m.\u001b[39msend_command(command)\n\u001b[1;32m-> 1322\u001b[0m return_value \u001b[38;5;241m=\u001b[39m \u001b[43mget_return_value\u001b[49m\u001b[43m(\u001b[49m\n\u001b[0;32m   1323\u001b[0m \u001b[43m    \u001b[49m\u001b[43manswer\u001b[49m\u001b[43m,\u001b[49m\u001b[43m \u001b[49m\u001b[38;5;28;43mself\u001b[39;49m\u001b[38;5;241;43m.\u001b[39;49m\u001b[43mgateway_client\u001b[49m\u001b[43m,\u001b[49m\u001b[43m \u001b[49m\u001b[38;5;28;43mself\u001b[39;49m\u001b[38;5;241;43m.\u001b[39;49m\u001b[43mtarget_id\u001b[49m\u001b[43m,\u001b[49m\u001b[43m \u001b[49m\u001b[38;5;28;43mself\u001b[39;49m\u001b[38;5;241;43m.\u001b[39;49m\u001b[43mname\u001b[49m\u001b[43m)\u001b[49m\n\u001b[0;32m   1325\u001b[0m \u001b[38;5;28;01mfor\u001b[39;00m temp_arg \u001b[38;5;129;01min\u001b[39;00m temp_args:\n\u001b[0;32m   1326\u001b[0m     \u001b[38;5;28;01mif\u001b[39;00m \u001b[38;5;28mhasattr\u001b[39m(temp_arg, \u001b[38;5;124m\"\u001b[39m\u001b[38;5;124m_detach\u001b[39m\u001b[38;5;124m\"\u001b[39m):\n",
      "File \u001b[1;32m~\\AppData\\Local\\Programs\\Python\\Python310\\lib\\site-packages\\pyspark\\errors\\exceptions\\captured.py:185\u001b[0m, in \u001b[0;36mcapture_sql_exception.<locals>.deco\u001b[1;34m(*a, **kw)\u001b[0m\n\u001b[0;32m    181\u001b[0m converted \u001b[38;5;241m=\u001b[39m convert_exception(e\u001b[38;5;241m.\u001b[39mjava_exception)\n\u001b[0;32m    182\u001b[0m \u001b[38;5;28;01mif\u001b[39;00m \u001b[38;5;129;01mnot\u001b[39;00m \u001b[38;5;28misinstance\u001b[39m(converted, UnknownException):\n\u001b[0;32m    183\u001b[0m     \u001b[38;5;66;03m# Hide where the exception came from that shows a non-Pythonic\u001b[39;00m\n\u001b[0;32m    184\u001b[0m     \u001b[38;5;66;03m# JVM exception message.\u001b[39;00m\n\u001b[1;32m--> 185\u001b[0m     \u001b[38;5;28;01mraise\u001b[39;00m converted \u001b[38;5;28;01mfrom\u001b[39;00m \u001b[38;5;28;01mNone\u001b[39;00m\n\u001b[0;32m    186\u001b[0m \u001b[38;5;28;01melse\u001b[39;00m:\n\u001b[0;32m    187\u001b[0m     \u001b[38;5;28;01mraise\u001b[39;00m\n",
      "\u001b[1;31mIllegalArgumentException\u001b[0m: Invalid start or len parameter"
     ]
    }
   ],
   "source": [
    "from pyspark.sql import SparkSession\n",
    "\n",
    "# Tạo Spark session\n",
    "spark = SparkSession.builder \\\n",
    "    .appName(\"Read from HTTP\") \\\n",
    "    .getOrCreate()\n",
    "\n",
    "# Cấu hình URL HTTP để Spark có thể đọc\n",
    "spark.conf.set(\"spark.hadoop.fs.http.impl\", \"org.apache.hadoop.fs.http.HttpFileSystem\")\n",
    "\n",
    "# Đọc dữ liệu từ HTTP như file hệ thống\n",
    "url = \"http://172.30.2.147:8000/citizens_data.csv\"\n",
    "citizens_rdd_sv = spark.sparkContext.textFile(url)\n",
    "\n",
    "# Xử lý dữ liệu\n",
    "citizens_rdd_sv.collect()\n"
   ]
  },
  {
   "cell_type": "code",
   "execution_count": 14,
   "id": "ed39360a-84a4-4d03-aef5-8fb1e1642ed4",
   "metadata": {
    "scrolled": true
   },
   "outputs": [
    {
     "ename": "IllegalArgumentException",
     "evalue": "Invalid start or len parameter",
     "output_type": "error",
     "traceback": [
      "\u001b[1;31m---------------------------------------------------------------------------\u001b[0m",
      "\u001b[1;31mIllegalArgumentException\u001b[0m                  Traceback (most recent call last)",
      "Cell \u001b[1;32mIn[14], line 3\u001b[0m\n\u001b[0;32m      1\u001b[0m start_time_sv_csv \u001b[38;5;241m=\u001b[39m time\u001b[38;5;241m.\u001b[39mtime()\n\u001b[0;32m      2\u001b[0m citizens_rdd_sv \u001b[38;5;241m=\u001b[39m spark\u001b[38;5;241m.\u001b[39msparkContext\u001b[38;5;241m.\u001b[39mtextFile(\u001b[38;5;124m\"\u001b[39m\u001b[38;5;124mhttp://172.30.2.147:8000/citizens_data.csv\u001b[39m\u001b[38;5;124m\"\u001b[39m, minPartitions\u001b[38;5;241m=\u001b[39m\u001b[38;5;241m2\u001b[39m)\n\u001b[1;32m----> 3\u001b[0m header \u001b[38;5;241m=\u001b[39m \u001b[43mcitizens_rdd_sv\u001b[49m\u001b[38;5;241;43m.\u001b[39;49m\u001b[43mfirst\u001b[49m\u001b[43m(\u001b[49m\u001b[43m)\u001b[49m\n\u001b[0;32m      4\u001b[0m data_citizens_rdd_sv \u001b[38;5;241m=\u001b[39m citizens_rdd_sv\u001b[38;5;241m.\u001b[39mfilter(\u001b[38;5;28;01mlambda\u001b[39;00m line: line \u001b[38;5;241m!=\u001b[39m header)\n\u001b[0;32m      6\u001b[0m cities_in_country \u001b[38;5;241m=\u001b[39m data_citizens_rdd_sv \\\n\u001b[0;32m      7\u001b[0m         \u001b[38;5;241m.\u001b[39mmap(\u001b[38;5;28;01mlambda\u001b[39;00m x: (x\u001b[38;5;241m.\u001b[39msplit(\u001b[38;5;124m\"\u001b[39m\u001b[38;5;124m,\u001b[39m\u001b[38;5;124m\"\u001b[39m)[\u001b[38;5;241m4\u001b[39m],\u001b[38;5;241m1\u001b[39m)) \\\n\u001b[0;32m      8\u001b[0m         \u001b[38;5;241m.\u001b[39mreduceByKey(\u001b[38;5;28;01mlambda\u001b[39;00m x,y: x\u001b[38;5;241m+\u001b[39my)\n",
      "File \u001b[1;32m~\\AppData\\Local\\Programs\\Python\\Python310\\lib\\site-packages\\pyspark\\rdd.py:2888\u001b[0m, in \u001b[0;36mRDD.first\u001b[1;34m(self)\u001b[0m\n\u001b[0;32m   2862\u001b[0m \u001b[38;5;28;01mdef\u001b[39;00m \u001b[38;5;21mfirst\u001b[39m(\u001b[38;5;28mself\u001b[39m: \u001b[38;5;124m\"\u001b[39m\u001b[38;5;124mRDD[T]\u001b[39m\u001b[38;5;124m\"\u001b[39m) \u001b[38;5;241m-\u001b[39m\u001b[38;5;241m>\u001b[39m T:\n\u001b[0;32m   2863\u001b[0m \u001b[38;5;250m    \u001b[39m\u001b[38;5;124;03m\"\"\"\u001b[39;00m\n\u001b[0;32m   2864\u001b[0m \u001b[38;5;124;03m    Return the first element in this RDD.\u001b[39;00m\n\u001b[0;32m   2865\u001b[0m \n\u001b[1;32m   (...)\u001b[0m\n\u001b[0;32m   2886\u001b[0m \u001b[38;5;124;03m    ValueError: RDD is empty\u001b[39;00m\n\u001b[0;32m   2887\u001b[0m \u001b[38;5;124;03m    \"\"\"\u001b[39;00m\n\u001b[1;32m-> 2888\u001b[0m     rs \u001b[38;5;241m=\u001b[39m \u001b[38;5;28;43mself\u001b[39;49m\u001b[38;5;241;43m.\u001b[39;49m\u001b[43mtake\u001b[49m\u001b[43m(\u001b[49m\u001b[38;5;241;43m1\u001b[39;49m\u001b[43m)\u001b[49m\n\u001b[0;32m   2889\u001b[0m     \u001b[38;5;28;01mif\u001b[39;00m rs:\n\u001b[0;32m   2890\u001b[0m         \u001b[38;5;28;01mreturn\u001b[39;00m rs[\u001b[38;5;241m0\u001b[39m]\n",
      "File \u001b[1;32m~\\AppData\\Local\\Programs\\Python\\Python310\\lib\\site-packages\\pyspark\\rdd.py:2822\u001b[0m, in \u001b[0;36mRDD.take\u001b[1;34m(self, num)\u001b[0m\n\u001b[0;32m   2781\u001b[0m \u001b[38;5;250m\u001b[39m\u001b[38;5;124;03m\"\"\"\u001b[39;00m\n\u001b[0;32m   2782\u001b[0m \u001b[38;5;124;03mTake the first num elements of the RDD.\u001b[39;00m\n\u001b[0;32m   2783\u001b[0m \n\u001b[1;32m   (...)\u001b[0m\n\u001b[0;32m   2819\u001b[0m \u001b[38;5;124;03m[91, 92, 93]\u001b[39;00m\n\u001b[0;32m   2820\u001b[0m \u001b[38;5;124;03m\"\"\"\u001b[39;00m\n\u001b[0;32m   2821\u001b[0m items: List[T] \u001b[38;5;241m=\u001b[39m []\n\u001b[1;32m-> 2822\u001b[0m totalParts \u001b[38;5;241m=\u001b[39m \u001b[38;5;28;43mself\u001b[39;49m\u001b[38;5;241;43m.\u001b[39;49m\u001b[43mgetNumPartitions\u001b[49m\u001b[43m(\u001b[49m\u001b[43m)\u001b[49m\n\u001b[0;32m   2823\u001b[0m partsScanned \u001b[38;5;241m=\u001b[39m \u001b[38;5;241m0\u001b[39m\n\u001b[0;32m   2825\u001b[0m \u001b[38;5;28;01mwhile\u001b[39;00m \u001b[38;5;28mlen\u001b[39m(items) \u001b[38;5;241m<\u001b[39m num \u001b[38;5;129;01mand\u001b[39;00m partsScanned \u001b[38;5;241m<\u001b[39m totalParts:\n\u001b[0;32m   2826\u001b[0m     \u001b[38;5;66;03m# The number of partitions to try in this iteration.\u001b[39;00m\n\u001b[0;32m   2827\u001b[0m     \u001b[38;5;66;03m# It is ok for this number to be greater than totalParts because\u001b[39;00m\n\u001b[0;32m   2828\u001b[0m     \u001b[38;5;66;03m# we actually cap it at totalParts in runJob.\u001b[39;00m\n",
      "File \u001b[1;32m~\\AppData\\Local\\Programs\\Python\\Python310\\lib\\site-packages\\pyspark\\rdd.py:952\u001b[0m, in \u001b[0;36mRDD.getNumPartitions\u001b[1;34m(self)\u001b[0m\n\u001b[0;32m    935\u001b[0m \u001b[38;5;28;01mdef\u001b[39;00m \u001b[38;5;21mgetNumPartitions\u001b[39m(\u001b[38;5;28mself\u001b[39m) \u001b[38;5;241m-\u001b[39m\u001b[38;5;241m>\u001b[39m \u001b[38;5;28mint\u001b[39m:\n\u001b[0;32m    936\u001b[0m \u001b[38;5;250m    \u001b[39m\u001b[38;5;124;03m\"\"\"\u001b[39;00m\n\u001b[0;32m    937\u001b[0m \u001b[38;5;124;03m    Returns the number of partitions in RDD\u001b[39;00m\n\u001b[0;32m    938\u001b[0m \n\u001b[1;32m   (...)\u001b[0m\n\u001b[0;32m    950\u001b[0m \u001b[38;5;124;03m    2\u001b[39;00m\n\u001b[0;32m    951\u001b[0m \u001b[38;5;124;03m    \"\"\"\u001b[39;00m\n\u001b[1;32m--> 952\u001b[0m     \u001b[38;5;28;01mreturn\u001b[39;00m \u001b[38;5;28;43mself\u001b[39;49m\u001b[38;5;241;43m.\u001b[39;49m\u001b[43m_jrdd\u001b[49m\u001b[38;5;241;43m.\u001b[39;49m\u001b[43mpartitions\u001b[49m\u001b[43m(\u001b[49m\u001b[43m)\u001b[49m\u001b[38;5;241m.\u001b[39msize()\n",
      "File \u001b[1;32m~\\AppData\\Local\\Programs\\Python\\Python310\\lib\\site-packages\\py4j\\java_gateway.py:1322\u001b[0m, in \u001b[0;36mJavaMember.__call__\u001b[1;34m(self, *args)\u001b[0m\n\u001b[0;32m   1316\u001b[0m command \u001b[38;5;241m=\u001b[39m proto\u001b[38;5;241m.\u001b[39mCALL_COMMAND_NAME \u001b[38;5;241m+\u001b[39m\\\n\u001b[0;32m   1317\u001b[0m     \u001b[38;5;28mself\u001b[39m\u001b[38;5;241m.\u001b[39mcommand_header \u001b[38;5;241m+\u001b[39m\\\n\u001b[0;32m   1318\u001b[0m     args_command \u001b[38;5;241m+\u001b[39m\\\n\u001b[0;32m   1319\u001b[0m     proto\u001b[38;5;241m.\u001b[39mEND_COMMAND_PART\n\u001b[0;32m   1321\u001b[0m answer \u001b[38;5;241m=\u001b[39m \u001b[38;5;28mself\u001b[39m\u001b[38;5;241m.\u001b[39mgateway_client\u001b[38;5;241m.\u001b[39msend_command(command)\n\u001b[1;32m-> 1322\u001b[0m return_value \u001b[38;5;241m=\u001b[39m \u001b[43mget_return_value\u001b[49m\u001b[43m(\u001b[49m\n\u001b[0;32m   1323\u001b[0m \u001b[43m    \u001b[49m\u001b[43manswer\u001b[49m\u001b[43m,\u001b[49m\u001b[43m \u001b[49m\u001b[38;5;28;43mself\u001b[39;49m\u001b[38;5;241;43m.\u001b[39;49m\u001b[43mgateway_client\u001b[49m\u001b[43m,\u001b[49m\u001b[43m \u001b[49m\u001b[38;5;28;43mself\u001b[39;49m\u001b[38;5;241;43m.\u001b[39;49m\u001b[43mtarget_id\u001b[49m\u001b[43m,\u001b[49m\u001b[43m \u001b[49m\u001b[38;5;28;43mself\u001b[39;49m\u001b[38;5;241;43m.\u001b[39;49m\u001b[43mname\u001b[49m\u001b[43m)\u001b[49m\n\u001b[0;32m   1325\u001b[0m \u001b[38;5;28;01mfor\u001b[39;00m temp_arg \u001b[38;5;129;01min\u001b[39;00m temp_args:\n\u001b[0;32m   1326\u001b[0m     \u001b[38;5;28;01mif\u001b[39;00m \u001b[38;5;28mhasattr\u001b[39m(temp_arg, \u001b[38;5;124m\"\u001b[39m\u001b[38;5;124m_detach\u001b[39m\u001b[38;5;124m\"\u001b[39m):\n",
      "File \u001b[1;32m~\\AppData\\Local\\Programs\\Python\\Python310\\lib\\site-packages\\pyspark\\errors\\exceptions\\captured.py:185\u001b[0m, in \u001b[0;36mcapture_sql_exception.<locals>.deco\u001b[1;34m(*a, **kw)\u001b[0m\n\u001b[0;32m    181\u001b[0m converted \u001b[38;5;241m=\u001b[39m convert_exception(e\u001b[38;5;241m.\u001b[39mjava_exception)\n\u001b[0;32m    182\u001b[0m \u001b[38;5;28;01mif\u001b[39;00m \u001b[38;5;129;01mnot\u001b[39;00m \u001b[38;5;28misinstance\u001b[39m(converted, UnknownException):\n\u001b[0;32m    183\u001b[0m     \u001b[38;5;66;03m# Hide where the exception came from that shows a non-Pythonic\u001b[39;00m\n\u001b[0;32m    184\u001b[0m     \u001b[38;5;66;03m# JVM exception message.\u001b[39;00m\n\u001b[1;32m--> 185\u001b[0m     \u001b[38;5;28;01mraise\u001b[39;00m converted \u001b[38;5;28;01mfrom\u001b[39;00m \u001b[38;5;28;01mNone\u001b[39;00m\n\u001b[0;32m    186\u001b[0m \u001b[38;5;28;01melse\u001b[39;00m:\n\u001b[0;32m    187\u001b[0m     \u001b[38;5;28;01mraise\u001b[39;00m\n",
      "\u001b[1;31mIllegalArgumentException\u001b[0m: Invalid start or len parameter"
     ]
    }
   ],
   "source": [
    "start_time_sv_csv = time.time()\n",
    "citizens_rdd_sv = spark.sparkContext.textFile(\"http://172.30.2.147:8000/citizens_data.csv\", minPartitions=2)\n",
    "header = citizens_rdd_sv.first()\n",
    "data_citizens_rdd_sv = citizens_rdd_sv.filter(lambda line: line != header)\n",
    "\n",
    "cities_in_country = data_citizens_rdd_sv \\\n",
    "        .map(lambda x: (x.split(\",\")[4],1)) \\\n",
    "        .reduceByKey(lambda x,y: x+y)\n",
    "print(cities_in_country.take(5))\n",
    "\n",
    "end_time_sv_csv = time.time()\n",
    "time_sv_csv = end_time_sv_csv - start_time_sv_csv\n",
    "print(\"Thời gian chạy với Server: {:.2f} giây\".format(time_sv_csv))\n"
   ]
  }
 ],
 "metadata": {
  "kernelspec": {
   "display_name": "Python 3 (ipykernel)",
   "language": "python",
   "name": "python3"
  },
  "language_info": {
   "codemirror_mode": {
    "name": "ipython",
    "version": 3
   },
   "file_extension": ".py",
   "mimetype": "text/x-python",
   "name": "python",
   "nbconvert_exporter": "python",
   "pygments_lexer": "ipython3",
   "version": "3.10.0rc2"
  }
 },
 "nbformat": 4,
 "nbformat_minor": 5
}
