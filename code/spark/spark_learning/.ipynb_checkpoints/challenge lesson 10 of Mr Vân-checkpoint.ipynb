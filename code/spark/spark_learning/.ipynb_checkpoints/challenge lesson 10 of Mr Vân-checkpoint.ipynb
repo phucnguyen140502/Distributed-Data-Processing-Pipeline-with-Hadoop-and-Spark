{
 "cells": [
  {
   "cell_type": "code",
   "execution_count": 1,
   "id": "4ee9c5e7-31b7-4e0c-80a3-ef3cc4daf1bf",
   "metadata": {},
   "outputs": [],
   "source": [
    "from pyspark.sql import SparkSession\n",
    "spark_hdfs = SparkSession.builder.appName(\"Challenge Spark\").getOrCreate()\n"
   ]
  },
  {
   "cell_type": "markdown",
   "id": "4bae57f1-f9f0-4974-923b-084c998379df",
   "metadata": {},
   "source": [
    "### Load 2 file từ hadoop lên"
   ]
  },
  {
   "cell_type": "code",
   "execution_count": 3,
   "id": "6a604a1f-a37d-4280-98c9-d4d18e087a35",
   "metadata": {},
   "outputs": [],
   "source": [
    "fact_ln_customer = spark_hdfs.read.csv(\"hdfs://172.30.2.147:9000/demo_directory/challenge/fact_ln_customer.csv\", \n",
    "                           header = \"true\", inferSchema = \"true\")"
   ]
  },
  {
   "cell_type": "code",
   "execution_count": 4,
   "id": "76b8e892-3810-4b55-96b2-172a6267b2ad",
   "metadata": {},
   "outputs": [],
   "source": [
    "fact_dp_customer = spark_hdfs.read.csv(\"hdfs://172.30.2.147:9000/demo_directory/challenge/fact_dp_customer.csv\", \n",
    "                           header = \"true\", inferSchema = \"true\")"
   ]
  },
  {
   "cell_type": "code",
   "execution_count": 9,
   "id": "1b9ad8ee-4145-4209-b00f-27575e962d50",
   "metadata": {
    "scrolled": true
   },
   "outputs": [
    {
     "name": "stdout",
     "output_type": "stream",
     "text": [
      "+----------+----------+---------------+-----------+-------------+-------------+--------+-----------+----------+-------------+----------+\n",
      "|process_dt|account_id|   account_type|customer_id|customer_type|interest_rate|cof_rate|    balance| open_date|maturity_date|close_date|\n",
      "+----------+----------+---------------+-----------+-------------+-------------+--------+-----------+----------+-------------+----------+\n",
      "|2023-01-01|         6|  CV VND LS USD|          6|     Business|        15.09|   17.52|34529000000|2022-03-18|   2023-08-28|2023-08-28|\n",
      "|2023-01-01|        23|CV THONG THUONG|         23|     Business|        12.11|    14.4|11704000000|2022-06-26|   2023-11-09|2023-11-09|\n",
      "|2023-01-01|         1|CV THONG THUONG|          1|     Business|        10.27|   11.53|15523000000|2022-03-19|   2024-01-21|      NULL|\n",
      "+----------+----------+---------------+-----------+-------------+-------------+--------+-----------+----------+-------------+----------+\n",
      "only showing top 3 rows\n",
      "\n"
     ]
    }
   ],
   "source": [
    "fact_ln_customer.show(3)"
   ]
  },
  {
   "cell_type": "code",
   "execution_count": 7,
   "id": "c5b94cd6-4570-4e20-a90e-ca4a915a98b6",
   "metadata": {
    "scrolled": true
   },
   "outputs": [
    {
     "name": "stdout",
     "output_type": "stream",
     "text": [
      "+----------+----------+------------+-----------+-------------+-------------+--------+----------+----------+-------------+----------+\n",
      "|process_dt|account_id|account_type|customer_id|customer_type|interest_rate|vof_rate|   balance| open_date|maturity_date|close_date|\n",
      "+----------+----------+------------+-----------+-------------+-------------+--------+----------+----------+-------------+----------+\n",
      "|2023-01-01|       100|  Individual|        100|          VIP|         5.21|     7.4|2393700000|2023-01-01|   2023-04-19|2023-04-19|\n",
      "|2023-01-01|       555|  Individual|        555|      Regular|         7.73|    9.08|4623900000|2023-01-01|   2023-12-27|2023-12-28|\n",
      "|2023-01-01|      1075|  Individual|       1075|      Regular|         4.64|    6.91|4620100000|2023-01-01|   2023-04-14|2023-04-14|\n",
      "|2023-01-01|      1980|  Individual|       1980|      Regular|         7.73|    9.09|3811200000|2023-01-01|   2023-02-20|2023-02-20|\n",
      "|2023-01-01|      3499|  Individual|       3499|      Regular|         5.42|    6.51|3417300000|2023-01-01|   2023-05-19|2023-05-19|\n",
      "+----------+----------+------------+-----------+-------------+-------------+--------+----------+----------+-------------+----------+\n",
      "only showing top 5 rows\n",
      "\n"
     ]
    }
   ],
   "source": [
    "fact_dp_customer.show(5)"
   ]
  },
  {
   "cell_type": "markdown",
   "id": "a0396ff3-811d-434c-a1a2-f1c8123400e3",
   "metadata": {},
   "source": [
    "### Tạo dim_funding_structure"
   ]
  },
  {
   "cell_type": "code",
   "execution_count": 22,
   "id": "a14e7f41-87d7-42ab-b355-5322cd55e7d9",
   "metadata": {},
   "outputs": [],
   "source": [
    "dim_funding_structure = spark_hdfs.createDataFrame(\n",
    "    [\n",
    "        (\"DP\", \"A. Nguôn vốn\", -1, 0, 1000000),\n",
    "        (\"LN\", \"B. Sử dụng vốn\", -1, 0, 2000000),\n",
    "        (\"DP01\", \"I/ Tiền gửi TCKT & DC: Theo kỳ hạn\", 1, 1, 1010000),\n",
    "        (\"DP02\", \"II/ Tiền gửi TCKT & DC: Theo loại hình\", 1, 1, 1020000),\n",
    "        (\"LN01\", \"I/ Dư nợ TCKT & DC: Theo kỳ hạn\", 2, 1, 2010000),\n",
    "        (\"LN02\", \"II/ Dư nợ TCKT & DC: Theo loại hình\", 2, 1, 2020000),\n",
    "        (\"DP01001\", \"a. KKH\", 3, 2, 1010100),\n",
    "        (\"DP01002\", \"b. 1-3W\", 3, 2, 1010101),\n",
    "        (\"DP01003\", \"c. 1-5 tháng\", 3, 2, 1010102),\n",
    "        (\"DP01004\", \"d. 6 tháng\", 3, 2, 1010103),\n",
    "        (\"DP01005\", \"e. 7 tháng\", 3, 2, 1010104),\n",
    "        (\"DP01006\", \"f. 8-11 tháng\", 3, 2, 1010105),\n",
    "        (\"DP01007\", \"g. 12 tháng\", 3, 2, 1010106),\n",
    "        (\"DP01008\", \"h. 13 tháng\", 3, 2, 1010107),\n",
    "        (\"DP01009\", \"i. 14-23 tháng\", 3, 2, 1010108),\n",
    "        (\"DP010010\", \"j. 24 đến 36 tháng\", 3, 2, 1010109),\n",
    "        (\"DP02001\", \"a. Doanh nghiệp\", 4, 2, 1020100),\n",
    "        (\"DP02002\", \"b. Cá nhân\", 4, 2, 1020101),\n",
    "        (\"LN01001\", \"a. Nợ QH\", 5, 2, 2010100),\n",
    "        (\"LN01002\", \"b. CV THONG THUONG\", 5, 2, 2010101),\n",
    "        (\"LN01003\", \"c. CV CCSTK\", 5, 2, 2010102),\n",
    "        (\"LN01004\", \"d. CV VNĐ lãi suất USD\", 5, 2, 2010103),\n",
    "        (\"LN01005\", \"e. CV ngắn hạn\", 5, 2, 2010104),\n",
    "        (\"LN01006\", \"f. CV trung hạn\", 5, 2, 2010105),\n",
    "        (\"LN01007\", \"g. CV dài hạn <= 120T\", 5, 2, 2010106),\n",
    "        (\"LN01008\", \"h. CV dài hạn <= 180T\", 5, 2, 2010107),\n",
    "        (\"LN01009\", \"i. CV dài hạn > 180T\", 5, 2, 2010108),\n",
    "        (\"LN010010\", \"j. CV ngắn hạn, HSRR ≥ 120%\", 5, 2, 2010109),\n",
    "        (\"LN010011\", \"k. CV trung hạn, HSRR ≥ 120%\", 5, 2, 2010110),\n",
    "        (\"LN010012\", \"l. CV dài hạn ≤ 120T, HSRR ≥ 120%\", 5, 2, 2010111),\n",
    "        (\"LN010013\", \"m. CV dài hạn ≤ 180T, HSRR ≥ 120%\", 5, 2, 2010112),\n",
    "        (\"LN010014\", \"n. CV dài hạn > 180T, HSRR ≥ 120%\", 5, 2, 2010113),\n",
    "        (\"LN02002\", \"a. Doanh nghiệp\", 6, 2, 2020100),\n",
    "        (\"LN02003\", \"b. Cá nhân\", 6, 2, 2020101)\n",
    "    ], [\"funding_code\", \"funding_name\", \"funding_parent_id\", \"funding_level\", \"sortorder\"]\n",
    ")"
   ]
  },
  {
   "cell_type": "code",
   "execution_count": 28,
   "id": "94d1959f-0202-4102-9300-50f87131361a",
   "metadata": {},
   "outputs": [],
   "source": [
    "## cheat tạo auto increasment\n",
    "\n",
    "from pyspark.sql.window import Window\n",
    "from pyspark.sql import functions as F\n",
    "\n",
    "window_spec = Window.orderBy(F.lit(1))\n",
    "dim_funding_structure = dim_funding_structure.withColumn(\"funding_id\", \n",
    "                                                         F.row_number().over(window_spec))\n",
    "\n",
    "dim_funding_structure = dim_funding_structure.select(\"funding_id\", \"funding_code\", \n",
    "                                                     \"funding_name\", \"funding_parent_id\", \n",
    "                                                     \"funding_level\", \"sortorder\")"
   ]
  },
  {
   "cell_type": "code",
   "execution_count": 31,
   "id": "ae953813-6095-40d0-8559-f5b357bb260f",
   "metadata": {
    "scrolled": true
   },
   "outputs": [
    {
     "name": "stdout",
     "output_type": "stream",
     "text": [
      "+----------+------------+--------------------+-----------------+-------------+---------+\n",
      "|funding_id|funding_code|        funding_name|funding_parent_id|funding_level|sortorder|\n",
      "+----------+------------+--------------------+-----------------+-------------+---------+\n",
      "|         1|          DP|        A. Nguôn vốn|               -1|            0|  1000000|\n",
      "|         2|          LN|      B. Sử dụng vốn|               -1|            0|  2000000|\n",
      "|         3|        DP01|I/ Tiền gửi TCKT ...|                1|            1|  1010000|\n",
      "|         4|        DP02|II/ Tiền gửi TCKT...|                1|            1|  1020000|\n",
      "|         5|        LN01|I/ Dư nợ TCKT & D...|                2|            1|  2010000|\n",
      "|         6|        LN02|II/ Dư nợ TCKT & ...|                2|            1|  2020000|\n",
      "|         7|     DP01001|              a. KKH|                3|            2|  1010100|\n",
      "|         8|     DP01002|             b. 1-3W|                3|            2|  1010101|\n",
      "|         9|     DP01003|        c. 1-5 tháng|                3|            2|  1010102|\n",
      "|        10|     DP01004|          d. 6 tháng|                3|            2|  1010103|\n",
      "|        11|     DP01005|          e. 7 tháng|                3|            2|  1010104|\n",
      "|        12|     DP01006|       f. 8-11 tháng|                3|            2|  1010105|\n",
      "|        13|     DP01007|         g. 12 tháng|                3|            2|  1010106|\n",
      "|        14|     DP01008|         h. 13 tháng|                3|            2|  1010107|\n",
      "|        15|     DP01009|      i. 14-23 tháng|                3|            2|  1010108|\n",
      "|        16|    DP010010|  j. 24 đến 36 tháng|                3|            2|  1010109|\n",
      "|        17|     DP02001|     a. Doanh nghiệp|                4|            2|  1020100|\n",
      "|        18|     DP02002|          b. Cá nhân|                4|            2|  1020101|\n",
      "|        19|     LN01001|            a. Nợ QH|                5|            2|  2010100|\n",
      "|        20|     LN01002|  b. CV THONG THUONG|                5|            2|  2010101|\n",
      "|        21|     LN01003|         c. CV CCSTK|                5|            2|  2010102|\n",
      "|        22|     LN01004|d. CV VNĐ lãi suấ...|                5|            2|  2010103|\n",
      "|        23|     LN01005|      e. CV ngắn hạn|                5|            2|  2010104|\n",
      "|        24|     LN01006|     f. CV trung hạn|                5|            2|  2010105|\n",
      "|        25|     LN01007|g. CV dài hạn <= ...|                5|            2|  2010106|\n",
      "|        26|     LN01008|h. CV dài hạn <= ...|                5|            2|  2010107|\n",
      "|        27|     LN01009|i. CV dài hạn > 180T|                5|            2|  2010108|\n",
      "|        28|    LN010010|j. CV ngắn hạn, H...|                5|            2|  2010109|\n",
      "|        29|    LN010011|k. CV trung hạn, ...|                5|            2|  2010110|\n",
      "|        30|    LN010012|l. CV dài hạn ≤ 1...|                5|            2|  2010111|\n",
      "|        31|    LN010013|m. CV dài hạn ≤ 1...|                5|            2|  2010112|\n",
      "|        32|    LN010014|n. CV dài hạn > 1...|                5|            2|  2010113|\n",
      "|        33|     LN02002|     a. Doanh nghiệp|                6|            2|  2020100|\n",
      "|        34|     LN02003|          b. Cá nhân|                6|            2|  2020101|\n",
      "+----------+------------+--------------------+-----------------+-------------+---------+\n",
      "\n"
     ]
    }
   ],
   "source": [
    "dim_funding_structure.show(35)"
   ]
  },
  {
   "cell_type": "markdown",
   "id": "84f6be47-2098-4ca8-9c7d-f8ba63b41bee",
   "metadata": {},
   "source": [
    "### Cập nhập các loại hình"
   ]
  },
  {
   "cell_type": "code",
   "execution_count": 40,
   "id": "e40aa712-3fcf-4b7d-9ed6-6ec0c7faf9e2",
   "metadata": {},
   "outputs": [],
   "source": [
    "from pyspark.sql.functions import col, when, datediff, floor\n",
    "\n",
    "fact_ln_customer = fact_ln_customer.withColumn(\n",
    "    \"funding_id_ky_han\",\n",
    "    when(datediff(col(\"maturity_date\"), col(\"open_date\")) == 0, 'DP01001')  # KKH\n",
    "    .when(datediff(col(\"maturity_date\"), col(\"open_date\")).between(7, 21), 'DP01002')  # 1-3W\n",
    "    .when(floor(datediff(col(\"maturity_date\"), col(\"open_date\")) / 30).between(1, 5), 'DP01003')  # 1-5 tháng\n",
    "    .when(floor(datediff(col(\"maturity_date\"), col(\"open_date\")) / 30) == 6, 'DP01004')  # 6 tháng\n",
    "    .when(floor(datediff(col(\"maturity_date\"), col(\"open_date\")) / 30) == 7, 'DP01005')  # 7 tháng\n",
    "    .when(floor(datediff(col(\"maturity_date\"), col(\"open_date\")) / 30).between(8, 11), 'DP01006')  # 8-11 tháng\n",
    "    .when(floor(datediff(col(\"maturity_date\"), col(\"open_date\")) / 30) == 12, 'DP01007')  # 12 tháng\n",
    "    .when(floor(datediff(col(\"maturity_date\"), col(\"open_date\")) / 30) == 13, 'DP01008')  # 13 tháng\n",
    "    .when(floor(datediff(col(\"maturity_date\"), col(\"open_date\")) / 30).between(14, 23), 'DP01009')  # 14-23 tháng\n",
    "    .when(floor(datediff(col(\"maturity_date\"), col(\"open_date\")) / 30).between(24, 36), 'DP010010')  # 24-36 tháng\n",
    "    .otherwise(None)\n",
    ")\n",
    "\n",
    "fact_ln_customer = fact_ln_customer.withColumn(\n",
    "    \"funding_id_loai_hinh\",\n",
    "    when(col(\"account_type\") == 'Business', 'DP02001')\n",
    "    .when(col(\"account_type\") == 'Individual', 'DP02002')\n",
    "    .otherwise(None)\n",
    ")"
   ]
  },
  {
   "cell_type": "code",
   "execution_count": 41,
   "id": "1e7c7623-af76-4ba6-8323-cc9e33cf03c5",
   "metadata": {
    "scrolled": true
   },
   "outputs": [
    {
     "name": "stdout",
     "output_type": "stream",
     "text": [
      "+----------+----------+---------------+-----------+-------------+-------------+--------+-----------+----------+-------------+----------+-----------------+--------------------+\n",
      "|process_dt|account_id|   account_type|customer_id|customer_type|interest_rate|cof_rate|    balance| open_date|maturity_date|close_date|funding_id_ky_han|funding_id_loai_hinh|\n",
      "+----------+----------+---------------+-----------+-------------+-------------+--------+-----------+----------+-------------+----------+-----------------+--------------------+\n",
      "|2023-01-01|         6|  CV VND LS USD|          6|     Business|        15.09|   17.52|34529000000|2022-03-18|   2023-08-28|2023-08-28|          DP01009|                NULL|\n",
      "|2023-01-01|        23|CV THONG THUONG|         23|     Business|        12.11|    14.4|11704000000|2022-06-26|   2023-11-09|2023-11-09|          DP01009|                NULL|\n",
      "|2023-01-01|         1|CV THONG THUONG|          1|     Business|        10.27|   11.53|15523000000|2022-03-19|   2024-01-21|      NULL|          DP01009|                NULL|\n",
      "|2023-01-01|        18|CV THONG THUONG|         18|     Business|         15.0|   16.26|49600000000|2020-03-30|   2028-06-30|      NULL|             NULL|                NULL|\n",
      "|2023-01-01|         5|CV THONG THUONG|          5|   Individual|        10.53|   12.69| 3868600000|2022-06-15|   2023-07-18|2023-07-18|          DP01008|                NULL|\n",
      "|2023-01-01|         9|CV THONG THUONG|          9|   Individual|         9.71|   11.73| 1358600000|2021-12-08|   2024-01-22|      NULL|         DP010010|                NULL|\n",
      "|2023-01-01|        12|CV THONG THUONG|         12|   Individual|        13.54|   15.75| 8641400000|2021-06-17|   2025-11-12|      NULL|             NULL|                NULL|\n",
      "|2023-01-01|        14|CV THONG THUONG|         14|   Individual|        10.44|   12.09|  244400000|2021-07-25|   2024-02-15|      NULL|         DP010010|                NULL|\n",
      "|2023-01-01|        15|       CV CCSTK|         15|   Individual|        15.72|   16.39| 1704800000|2021-12-12|   2027-05-12|      NULL|             NULL|                NULL|\n",
      "|2023-01-01|        16|CV THONG THUONG|         16|   Individual|        13.81|   15.77| 1131400000|2022-07-10|   2026-05-26|      NULL|             NULL|                NULL|\n",
      "|2023-01-01|        17|       CV CCSTK|         17|   Individual|        13.83|   15.27| 8577000000|2022-10-13|   2024-01-21|      NULL|          DP01009|                NULL|\n",
      "|2023-01-01|       339|CV THONG THUONG|        339|     Business|        15.09|    16.9|43917000000|2022-11-09|   2027-02-08|      NULL|             NULL|                NULL|\n",
      "|2023-01-01|       951|CV THONG THUONG|        951|   Individual|         8.57|   10.74|   69000000|2021-06-05|   2026-04-29|      NULL|             NULL|                NULL|\n",
      "|2023-01-01|        31|       CV CCSTK|         31|   Individual|        12.98|   14.47| 8949800000|2022-06-27|   2023-08-14|2023-08-14|          DP01008|                NULL|\n",
      "|2023-01-01|        35|CV THONG THUONG|         35|   Individual|        11.53|   12.59| 1540200000|2021-10-08|   2023-05-21|2023-05-22|          DP01009|                NULL|\n",
      "|2023-01-01|        29|CV THONG THUONG|         29|   Individual|         8.16|    8.83| 6783800000|2020-11-10|   2028-07-20|      NULL|             NULL|                NULL|\n",
      "|2023-01-01|        32|       CV CCSTK|         32|   Individual|         8.98|   10.29| 5674800000|2022-10-04|   2027-10-21|      NULL|             NULL|                NULL|\n",
      "|2023-01-01|        28|CV THONG THUONG|         28|     Business|        11.09|   11.83|26209000000|2022-10-23|   2024-03-29|      NULL|          DP01009|                NULL|\n",
      "|2023-01-01|        40|CV THONG THUONG|         40|   Individual|        12.77|   14.97| 3390800000|2022-07-30|   2023-09-07|2023-09-07|          DP01008|                NULL|\n",
      "|2023-01-01|        47|CV THONG THUONG|         47|   Individual|         10.5|   11.46|  960200000|2022-12-14|   2023-10-10|2023-10-10|          DP01006|                NULL|\n",
      "+----------+----------+---------------+-----------+-------------+-------------+--------+-----------+----------+-------------+----------+-----------------+--------------------+\n",
      "only showing top 20 rows\n",
      "\n"
     ]
    }
   ],
   "source": [
    "fact_ln_customer.show()"
   ]
  },
  {
   "cell_type": "code",
   "execution_count": 46,
   "id": "92dccc4d-fa23-4012-bbea-b35153e2b249",
   "metadata": {},
   "outputs": [],
   "source": [
    "from pyspark.sql.functions import col, when, datediff, floor\n",
    "\n",
    "fact_dp_customer = fact_dp_customer.withColumn(\n",
    "    \"funding_id_ky_han\",\n",
    "    when(\n",
    "        (floor(datediff(col(\"maturity_date\"), col(\"open_date\")) / 365) <= 1) & \n",
    "        (col(\"vof_rate\") / col(\"interest_rate\") >= 1.2), 'LN010010'  # CV ngắn hạn, HSRR ≥ 120%\n",
    "    )\n",
    "    .when(\n",
    "        (floor(datediff(col(\"maturity_date\"), col(\"open_date\")) / 365).between(1, 5)) & \n",
    "        (col(\"vof_rate\") / col(\"interest_rate\") >= 1.2), 'LN010011'  # CV trung hạn, HSRR ≥ 120%\n",
    "    )\n",
    "    .when(\n",
    "        (floor(datediff(col(\"maturity_date\"), col(\"open_date\")) / 365).between(5, 10)) & \n",
    "        (col(\"vof_rate\") / col(\"interest_rate\") >= 1.2), 'LN010012'  # CV dài hạn ≤ 120T, HSRR ≥ 120%\n",
    "    )\n",
    "    .when(\n",
    "        (floor(datediff(col(\"maturity_date\"), col(\"open_date\")) / 365).between(10, 15)) & \n",
    "        (col(\"vof_rate\") / col(\"interest_rate\") >= 1.2), 'LN010013'  # CV dài hạn ≤ 180T, HSRR ≥ 120%\n",
    "    )\n",
    "    .when(\n",
    "        (floor(datediff(col(\"maturity_date\"), col(\"open_date\")) / 365) > 15) & \n",
    "        (col(\"vof_rate\") / col(\"interest_rate\") >= 1.2), 'LN010014'  # CV dài hạn > 180T, HSRR ≥ 120%\n",
    "    )\n",
    "    .when(\n",
    "        floor(datediff(col(\"maturity_date\"), col(\"open_date\")) / 365) < 1, 'LN01005'  # CV ngắn hạn\n",
    "    )\n",
    "    .when(\n",
    "        floor(datediff(col(\"maturity_date\"), col(\"open_date\")) / 365).between(1, 5), 'LN01006'  # CV trung hạn\n",
    "    )\n",
    "    .when(\n",
    "        floor(datediff(col(\"maturity_date\"), col(\"open_date\")) / 365).between(5, 10), 'LN01007'  # CV dài hạn ≤ 120T\n",
    "    )\n",
    "    .when(\n",
    "        floor(datediff(col(\"maturity_date\"), col(\"open_date\")) / 365).between(10, 15), 'LN01008'  # CV dài hạn ≤ 180T\n",
    "    )\n",
    "    .when(\n",
    "        floor(datediff(col(\"maturity_date\"), col(\"open_date\")) / 365) > 15, 'LN01009'  # CV dài hạn > 180T\n",
    "    )\n",
    "    \n",
    "    .when(col(\"account_type\") == 'CV VND LS USD', 'LN01004')\n",
    "    .when(col(\"account_type\") == 'CV CCSTK', 'LN01003')\n",
    "    .when(col(\"account_type\") == 'Nợ QH', 'LN01001')\n",
    "    .when(col(\"account_type\") == 'CV THONG THUONG', 'LN01002')\n",
    "    .otherwise(None)\n",
    ")\n",
    "\n",
    "fact_dp_customer = fact_dp_customer.withColumn(\n",
    "    \"funding_id_loai_hinh\",\n",
    "    when(col(\"account_type\") == 'Business', 'LN02001')\n",
    "    .when(col(\"account_type\") == 'Individual', 'LN02002')\n",
    "    .otherwise(None)\n",
    ")"
   ]
  },
  {
   "cell_type": "code",
   "execution_count": 47,
   "id": "d55c5264-9860-4e69-a04f-c3c29cecec31",
   "metadata": {
    "scrolled": true
   },
   "outputs": [
    {
     "name": "stdout",
     "output_type": "stream",
     "text": [
      "+----------+----------+------------+-----------+-------------+-------------+--------+-----------+----------+-------------+----------+-----------------+--------------------+\n",
      "|process_dt|account_id|account_type|customer_id|customer_type|interest_rate|vof_rate|    balance| open_date|maturity_date|close_date|funding_id_ky_han|funding_id_loai_hinh|\n",
      "+----------+----------+------------+-----------+-------------+-------------+--------+-----------+----------+-------------+----------+-----------------+--------------------+\n",
      "|2023-01-01|       100|  Individual|        100|          VIP|         5.21|     7.4| 2393700000|2023-01-01|   2023-04-19|2023-04-19|         LN010010|             LN02002|\n",
      "|2023-01-01|       555|  Individual|        555|      Regular|         7.73|    9.08| 4623900000|2023-01-01|   2023-12-27|2023-12-28|          LN01005|             LN02002|\n",
      "|2023-01-01|      1075|  Individual|       1075|      Regular|         4.64|    6.91| 4620100000|2023-01-01|   2023-04-14|2023-04-14|         LN010010|             LN02002|\n",
      "|2023-01-01|      1980|  Individual|       1980|      Regular|         7.73|    9.09| 3811200000|2023-01-01|   2023-02-20|2023-02-20|          LN01005|             LN02002|\n",
      "|2023-01-01|      3499|  Individual|       3499|      Regular|         5.42|    6.51| 3417300000|2023-01-01|   2023-05-19|2023-05-19|         LN010010|             LN02002|\n",
      "|2023-01-01|      5424|  Individual|       5424|      Regular|         8.56|   10.52| 4940000000|2023-01-01|   2023-02-06|2023-02-07|         LN010010|             LN02002|\n",
      "|2023-01-01|      1466|  Individual|       1466|      Regular|          0.3|    5.33|   93161750|2023-01-01|         NULL|      NULL|             NULL|             LN02002|\n",
      "|2023-01-01|      3062|  Individual|       3062|      Regular|         8.65|   10.74| 3183900000|2023-01-01|   2023-02-10|2023-02-10|         LN010010|             LN02002|\n",
      "|2023-01-01|      5830|  Individual|       5830|      Regular|         7.97|    9.95| 1808900000|2023-01-01|   2023-04-18|2023-04-18|         LN010010|             LN02002|\n",
      "|2023-01-01|      7350|    Business|       7350|      Regular|         8.51|     9.2|11781900000|2023-01-01|   2023-07-10|2023-07-10|          LN01005|             LN02001|\n",
      "|2023-01-01|      8099|  Individual|       8099|      Regular|         7.29|    7.94| 4061800000|2023-01-01|   2023-01-30|      NULL|          LN01005|             LN02002|\n",
      "|2023-01-01|      8732|    Business|       8732|      Regular|          0.3|    5.48| 5528100000|2023-01-01|   2023-01-21|2023-01-21|         LN010010|             LN02001|\n",
      "|2023-01-01|      8934|  Individual|       8934|      Regular|          5.3|    6.95| 4014100000|2023-01-01|   2023-01-27|2023-01-28|         LN010010|             LN02002|\n",
      "|2023-01-01|      9568|  Individual|       9568|      Regular|          0.3|     5.3|  722300000|2023-01-01|   2023-01-08|2023-01-09|         LN010010|             LN02002|\n",
      "|2023-01-02|       100|  Individual|        100|          VIP|         5.21|     7.4| 2393700000|2023-01-01|   2023-04-19|2023-04-19|         LN010010|             LN02002|\n",
      "|2023-01-02|       555|  Individual|        555|      Regular|         7.73|    9.08| 4623900000|2023-01-01|   2023-12-27|2023-12-28|          LN01005|             LN02002|\n",
      "|2023-01-02|      1075|  Individual|       1075|      Regular|         4.64|    6.91| 4620100000|2023-01-01|   2023-04-14|2023-04-14|         LN010010|             LN02002|\n",
      "|2023-01-02|      1980|  Individual|       1980|      Regular|         7.73|    9.09| 3811200000|2023-01-01|   2023-02-20|2023-02-20|          LN01005|             LN02002|\n",
      "|2023-01-02|      2218|  Individual|       2218|          VIP|          0.3|    4.62|   54064075|2023-01-02|         NULL|      NULL|             NULL|             LN02002|\n",
      "|2023-01-02|      3499|  Individual|       3499|      Regular|         5.42|    6.51| 3417300000|2023-01-01|   2023-05-19|2023-05-19|         LN010010|             LN02002|\n",
      "+----------+----------+------------+-----------+-------------+-------------+--------+-----------+----------+-------------+----------+-----------------+--------------------+\n",
      "only showing top 20 rows\n",
      "\n"
     ]
    }
   ],
   "source": [
    "fact_dp_customer.show()"
   ]
  },
  {
   "cell_type": "markdown",
   "id": "5e4fcaf4-1df8-4fa0-855e-febb355e6f19",
   "metadata": {},
   "source": [
    "### Dựng cấu trúc bảng fact về các tiêu chí báo cáo theo \n",
    "### daily : đề xuất tên bảng : fct_funding_daily"
   ]
  },
  {
   "cell_type": "code",
   "execution_count": 119,
   "id": "0d52297f-d7bd-4d84-93a7-910dd85affbb",
   "metadata": {},
   "outputs": [],
   "source": [
    "from pyspark.sql.types import StructType, StructField, DateType, StringType, FloatType, LongType, BooleanType, TimestampType\n",
    "from pyspark.sql.functions import col, avg, sum, month, lit\n",
    "from datetime import datetime\n",
    "import logging\n",
    "\n",
    "schema = StructType([\n",
    "    StructField(\"process_dt\", DateType(), True),          # Cột process_dt kiểu Date\n",
    "    StructField(\"funding_id\", StringType(), True),        # Cột funding_id kiểu String\n",
    "    StructField(\"interest_rate\", FloatType(), True),      # Cột interest_rate kiểu Float\n",
    "    StructField(\"vof_rate\", FloatType(), True),           # Cột vof_rate kiểu Float\n",
    "    StructField(\"cof_rate\", FloatType(), True),           # Cột cof_rate kiểu Float\n",
    "    StructField(\"balance\", LongType(), True),             # Cột balance kiểu Long (tương đương int8 trong SQL)\n",
    "    StructField(\"avg_balance_month\", LongType(), True)    # Cột avg_balance_month kiểu Long (tương đương int8 trong SQL)\n",
    "])\n",
    "\n",
    "log_schema = StructType([\n",
    "    StructField(\"procedure_name\", StringType(), True),   # Tên thủ tục\n",
    "    StructField(\"start_time\", TimestampType(), True),    # Thời gian bắt đầu\n",
    "    StructField(\"end_time\", TimestampType(), True),      # Thời gian kết thúc\n",
    "    StructField(\"is_successful\", BooleanType(), True),   # Trạng thái thành công (True/False)\n",
    "    StructField(\"error_log\", StringType(), True),        # Thông tin lỗi (nếu có)\n",
    "    StructField(\"rec_created_dt\", TimestampType(), True) # Thời gian tạo bản ghi\n",
    "])\n",
    "\n",
    "log_df = spark_hdfs.createDataFrame(spark_hdfs.sparkContext.emptyRDD(), log_schema)\n",
    "\n",
    "fct_funding_daily = spark_hdfs.createDataFrame(spark_hdfs.sparkContext.emptyRDD(), schema)"
   ]
  },
  {
   "cell_type": "code",
   "execution_count": 102,
   "id": "84375be8-fc8c-4a41-b3d2-643b6a1b0f9e",
   "metadata": {},
   "outputs": [
    {
     "name": "stdout",
     "output_type": "stream",
     "text": [
      "root\n",
      " |-- process_dt: date (nullable = true)\n",
      " |-- funding_id: string (nullable = true)\n",
      " |-- interest_rate: float (nullable = true)\n",
      " |-- vof_rate: float (nullable = true)\n",
      " |-- cof_rate: float (nullable = true)\n",
      " |-- balance: long (nullable = true)\n",
      " |-- avg_balance_month: long (nullable = true)\n",
      "\n"
     ]
    }
   ],
   "source": [
    "fct_funding_daily.printSchema()"
   ]
  },
  {
   "cell_type": "code",
   "execution_count": 104,
   "id": "7adda0b5-db2e-4a43-a7b1-bf9cc284e9a8",
   "metadata": {},
   "outputs": [
    {
     "name": "stdout",
     "output_type": "stream",
     "text": [
      "root\n",
      " |-- procedure_name: string (nullable = true)\n",
      " |-- start_time: timestamp (nullable = true)\n",
      " |-- end_time: timestamp (nullable = true)\n",
      " |-- is_successful: boolean (nullable = true)\n",
      " |-- error_log: string (nullable = true)\n",
      " |-- rec_created_dt: timestamp (nullable = true)\n",
      "\n"
     ]
    }
   ],
   "source": [
    "log_df.printSchema()"
   ]
  },
  {
   "cell_type": "code",
   "execution_count": 113,
   "id": "149eeb9f-a958-43f2-90b7-e5991b17d313",
   "metadata": {},
   "outputs": [
    {
     "name": "stdout",
     "output_type": "stream",
     "text": [
      "+--------------+----------+--------+-------------+---------+--------------+\n",
      "|procedure_name|start_time|end_time|is_successful|error_log|rec_created_dt|\n",
      "+--------------+----------+--------+-------------+---------+--------------+\n",
      "+--------------+----------+--------+-------------+---------+--------------+\n",
      "\n"
     ]
    }
   ],
   "source": [
    "log_df.show()"
   ]
  },
  {
   "cell_type": "code",
   "execution_count": 51,
   "id": "4432732b-7726-44d7-82c3-6956e13a3792",
   "metadata": {},
   "outputs": [
    {
     "name": "stdout",
     "output_type": "stream",
     "text": [
      "+----------+----------+-------------+--------+--------+-------+-----------------+\n",
      "|process_dt|funding_id|interest_rate|vof_rate|cof_rate|balance|avg_balance_month|\n",
      "+----------+----------+-------------+--------+--------+-------+-----------------+\n",
      "+----------+----------+-------------+--------+--------+-------+-----------------+\n",
      "\n"
     ]
    }
   ],
   "source": [
    "fct_funding_daily.show()"
   ]
  },
  {
   "cell_type": "markdown",
   "id": "12c4c6be-359f-44d0-a33b-4dad3ffb54b9",
   "metadata": {},
   "source": [
    "### Viết producer về fct_funding_daily"
   ]
  },
  {
   "cell_type": "code",
   "execution_count": 132,
   "id": "b0db9254-1f11-45c0-af69-22a5c65937eb",
   "metadata": {},
   "outputs": [],
   "source": [
    "def fct_funding_daily_prc(v_date = None):\n",
    "    # Thời gian bắt đầu\n",
    "    start_time = datetime.now()\n",
    "    is_successful = False\n",
    "    error_log = None\n",
    "    process_dt = v_date if v_date else (datetime.now() - timedelta(days=1)).date()\n",
    "\n",
    "    try:\n",
    "        fct_funding_daily = fct_funding_daily[~fct_funding_daily[process_dt] == process_dt] ## xóa hết data trong dataframne\n",
    "\n",
    "        dp_ky_han_items_df = fact_dp_customer.filter(col(\"process_dt\") == process_dt) \\\n",
    "                            .groupBy(\"funding_id_ky_han\") \\\n",
    "                            .agg(\n",
    "                                avg(\"interest_rate\").alias(\"interest_rate\"),\n",
    "                                avg(\"vof_rate\").alias(\"vof_rate\"),\n",
    "                                lit(0).alias(\"cof_rate\"),\n",
    "                                sum(\"balance\").alias(\"balance\")\n",
    "                            )\\\n",
    "                            .withColumn(\"process_dt\", lit(process_dt)) \\\n",
    "                            .withColumnRenamed(\"funding_id_ky_han\", \"funding_id\") \\\n",
    "                            .select(\"process_dt\", \"funding_id\", \"interest_rate\", \"vof_rate\", \"cof_rate\", \"balance\")\n",
    "\n",
    "        dp_ky_han_avg_balance_items_df = fact_dp_customer.filter(month(\"process_dt\") == month(lit(process_dt))) \\\n",
    "            .groupBy(\"funding_id_ky_han\") \\\n",
    "            .agg(\n",
    "                avg(\"balance\").alias(\"avg_balance_month\")\n",
    "            ).withColumn(\"process_dt\", lit(process_dt)) \\\n",
    "            .withColumnRenamed(\"funding_id_ky_han\", \"funding_id\") \\\n",
    "            .select(\"funding_id\", \"avg_balance_month\")\n",
    "\n",
    "\n",
    "        dp_loai_hinh_items_df = fact_dp_customer.filter(col(\"process_dt\") == process_dt) \\\n",
    "                            .groupBy(\"funding_id_loai_hinh\") \\\n",
    "                            .agg(\n",
    "                                avg(\"interest_rate\").alias(\"interest_rate\"),\n",
    "                                avg(\"vof_rate\").alias(\"vof_rate\"),\n",
    "                                lit(0).alias(\"cof_rate\"),\n",
    "                                sum(\"balance\").alias(\"balance\")\n",
    "                            )\\\n",
    "                            .withColumn(\"process_dt\", lit(process_dt)) \\\n",
    "                            .withColumnRenamed(\"funding_id_loai_hinh\", \"funding_id\") \\\n",
    "                            .select(\"process_dt\", \"funding_id\", \"interest_rate\", \"vof_rate\", \"cof_rate\", \"balance\")\n",
    "\n",
    "        dp_loai_hinh_avg_balance_items_df = fact_dp_customer.filter(month(\"process_dt\") == month(lit(process_dt))) \\\n",
    "            .groupBy(\"funding_id_loai_hinh\") \\\n",
    "            .agg(\n",
    "                avg(\"balance\").alias(\"avg_balance_month\")\n",
    "            ).withColumn(\"process_dt\", lit(process_dt)) \\\n",
    "            .withColumnRenamed(\"funding_id_ky_han\", \"funding_id\") \\\n",
    "            .select(\"funding_id\", \"avg_balance_month\")\n",
    "\n",
    "\n",
    "        dp_final_ky_han_items_df = dp_ky_han_items_df.join(dp_ky_han_avg_balance_items_df, \"funding_id\", \"left\")\n",
    "        dp_final_loai_hinh_items_df = dp_loai_hinh_items_df.join(dp_loai_hinh_avg_balance_items_df, \"funding_id\", \"left\")\n",
    "        dp_final_items_df = dp_final_ky_han_items_df.union(dp_final_loai_hinh_items_df).distinct()\n",
    "\n",
    "\n",
    "        \n",
    "        ln_ky_han_items_df = fact_ln_customer.filter(col(\"process_dt\") == process_dt) \\\n",
    "                            .groupBy(\"funding_id_ky_han\") \\\n",
    "                            .agg(\n",
    "                                avg(\"interest_rate\").alias(\"interest_rate\"),\n",
    "                                lit(0).alias(\"vof_rate\"),\n",
    "                                avg(\"cof_rate\").alias(\"cof_rate\"),\n",
    "                                sum(\"balance\").alias(\"balance\")\n",
    "                            )\\\n",
    "                            .withColumn(\"process_dt\", lit(process_dt)) \\\n",
    "                            .withColumnRenamed(\"funding_id_ky_han\", \"funding_id\") \\\n",
    "                            .select(\"process_dt\", \"funding_id\", \"interest_rate\", \"vof_rate\", \"cof_rate\", \"balance\")\n",
    "\n",
    "        ln_ky_han_avg_balance_items_df = fact_ln_customer.filter(month(\"process_dt\") == month(lit(process_dt))) \\\n",
    "            .groupBy(\"funding_id_ky_han\") \\\n",
    "            .agg(\n",
    "                avg(\"balance\").alias(\"avg_balance_month\")\n",
    "            ).withColumn(\"process_dt\", lit(process_dt)) \\\n",
    "            .withColumnRenamed(\"funding_id_ky_han\", \"funding_id\") \\\n",
    "            .select(\"funding_id\", \"avg_balance_month\")\n",
    "\n",
    "\n",
    "        ln_loai_hinh_items_df = fact_ln_customer.filter(col(\"process_dt\") == process_dt) \\\n",
    "                            .groupBy(\"funding_id_loai_hinh\") \\\n",
    "                            .agg(\n",
    "                                avg(\"interest_rate\").alias(\"interest_rate\"),\n",
    "                                lit(0).alias(\"vof_rate\"),\n",
    "                                avg(\"cof_rate\").alias(\"cof_rate\"),\n",
    "                                sum(\"balance\").alias(\"balance\")\n",
    "                            )\\\n",
    "                            .withColumn(\"process_dt\", lit(process_dt)) \\\n",
    "                            .withColumnRenamed(\"funding_id_loai_hinh\", \"funding_id\") \\\n",
    "                            .select(\"process_dt\", \"funding_id\", \"interest_rate\", \"vof_rate\", \"cof_rate\", \"balance\")\n",
    "\n",
    "        ln_loai_hinh_avg_balance_items_df = fact_ln_customer.filter(month(\"process_dt\") == month(lit(process_dt))) \\\n",
    "            .groupBy(\"funding_id_loai_hinh\") \\\n",
    "            .agg(\n",
    "                avg(\"balance\").alias(\"avg_balance_month\")\n",
    "            ).withColumn(\"process_dt\", lit(process_dt)) \\\n",
    "            .withColumnRenamed(\"funding_id_ky_han\", \"funding_id\") \\\n",
    "            .select(\"funding_id\", \"avg_balance_month\")\n",
    "\n",
    "        ln_final_ky_han_items_df = ln_ky_han_items_df.join(ln_ky_han_avg_balance_items_df, \"funding_id\", \"left\")\n",
    "        ln_final_loai_hinh_items_df = ln_loai_hinh_items_df.join(ln_loai_hinh_avg_balance_items_df, \"funding_id\", \"left\")\n",
    "        ln_final_items_df = ln_final_ky_han_items_df.union(ln_final_loai_hinh_items_df).distinct()\n",
    "\n",
    "\n",
    "        \n",
    "        dp_DP01_df = fact_dp_customer.filter(col(\"process_dt\") == process_dt) \\\n",
    "                            .agg(\n",
    "                                avg(\"interest_rate\").alias(\"interest_rate\"),\n",
    "                                avg(\"vof_rate\").alias(\"vof_rate\"),\n",
    "                                lit(0).alias(\"cof_rate\"),\n",
    "                                sum(\"balance\").alias(\"balance\")\n",
    "                            )\\\n",
    "                            .withColumn(\"process_dt\", lit(process_dt)) \\\n",
    "                            .withColumn(\"funding_id\", lit(\"DP01\")) \\\n",
    "                            .select(\"process_dt\", \"funding_id\", \"interest_rate\", \"vof_rate\", \"cof_rate\", \"balance\")\n",
    "\n",
    "        dp_DP02_df = fact_dp_customer.filter(col(\"process_dt\") == process_dt) \\\n",
    "                            .agg(\n",
    "                                avg(\"interest_rate\").alias(\"interest_rate\"),\n",
    "                                avg(\"vof_rate\").alias(\"vof_rate\"),\n",
    "                                lit(0).alias(\"cof_rate\"),\n",
    "                                sum(\"balance\").alias(\"balance\")\n",
    "                            )\\\n",
    "                            .withColumn(\"process_dt\", lit(process_dt)) \\\n",
    "                            .withColumn(\"funding_id\", lit(\"DP02\")) \\\n",
    "                            .select(\"process_dt\", \"funding_id\", \"interest_rate\", \"vof_rate\", \"cof_rate\", \"balance\")\n",
    "\n",
    "        dp_DP_df = fact_dp_customer.filter(col(\"process_dt\") == process_dt) \\\n",
    "                            .agg(\n",
    "                                avg(\"interest_rate\").alias(\"interest_rate\"),\n",
    "                                avg(\"vof_rate\").alias(\"vof_rate\"),\n",
    "                                lit(0).alias(\"cof_rate\"),\n",
    "                                sum(\"balance\").alias(\"balance\")\n",
    "                            )\\\n",
    "                            .withColumn(\"process_dt\", lit(process_dt)) \\\n",
    "                            .withColumn(\"funding_id\", lit(\"DP\")) \\\n",
    "                            .select(\"process_dt\", \"funding_id\", \"interest_rate\", \"vof_rate\", \"cof_rate\", \"balance\")\n",
    "        \n",
    "        dp_final_df = dp_final_items_df.union(dp_DP01_df).union(dp_DP02_df).union(dp_DP_df).distinct()\n",
    "\n",
    "\n",
    "\n",
    "        ln_LN01_df = fact_ln_customer.filter(col(\"process_dt\") == process_dt) \\\n",
    "                            .agg(\n",
    "                                avg(\"interest_rate\").alias(\"interest_rate\"),\n",
    "                                lit(0).alias(\"vof_rate\"),\n",
    "                                avg(\"cof_rate\").alias(\"cof_rate\"),\n",
    "                                sum(\"balance\").alias(\"balance\")\n",
    "                            )\\\n",
    "                            .withColumn(\"process_dt\", lit(process_dt)) \\\n",
    "                            .withColumn(\"funding_id\", lit(\"LN01\")) \\\n",
    "                            .select(\"process_dt\", \"funding_id\", \"interest_rate\", \"vof_rate\", \"cof_rate\", \"balance\")\n",
    "\n",
    "        ln_LN02_df = fact_ln_customer.filter(col(\"process_dt\") == process_dt) \\\n",
    "                            .agg(\n",
    "                                avg(\"interest_rate\").alias(\"interest_rate\"),\n",
    "                                lit(0).alias(\"vof_rate\"),\n",
    "                                avg(\"cof_rate\").alias(\"cof_rate\"),\n",
    "                                sum(\"balance\").alias(\"balance\")\n",
    "                            )\\\n",
    "                            .withColumn(\"process_dt\", lit(process_dt)) \\\n",
    "                            .withColumn(\"funding_id\", lit(\"LN02\")) \\\n",
    "                            .select(\"process_dt\", \"funding_id\", \"interest_rate\", \"vof_rate\", \"cof_rate\", \"balance\")\n",
    "\n",
    "        ln_LN_df = fact_ln_customer.filter(col(\"process_dt\") == process_dt) \\\n",
    "                            .agg(\n",
    "                                avg(\"interest_rate\").alias(\"interest_rate\"),\n",
    "                                lit(0).alias(\"vof_rate\"),\n",
    "                                avg(\"cof_rate\").alias(\"cof_rate\"),\n",
    "                                sum(\"balance\").alias(\"balance\")\n",
    "                            )\\\n",
    "                            .withColumn(\"process_dt\", lit(process_dt)) \\\n",
    "                            .withColumn(\"funding_id\", lit(\"LN\")) \\\n",
    "                            .select(\"process_dt\", \"funding_id\", \"interest_rate\", \"vof_rate\", \"cof_rate\", \"balance\")\n",
    "        \n",
    "        ln_final_df = ln_final_items_df.union(ln_LN01_df).union(ln_LN02_df).union(ln_LN_df).distinct()\n",
    "\n",
    "\n",
    "        dp_final_df.union(ln_final_df).distinct().show(100)\n",
    "                \n",
    "        is_successful = True\n",
    "    except Exception as e:\n",
    "        error_log = str(e)\n",
    "    \n",
    "    # Thời gian kết thúc\n",
    "    end_time = datetime.now()\n",
    "    \n",
    "    # Ghi log vào bảng log_tracking\n",
    "    log_data = {\n",
    "        'procedure_name': 'fct_funding_daily_prc',\n",
    "        'start_time': start_time,\n",
    "        'end_time': end_time,\n",
    "        'is_successful': is_successful,\n",
    "        'error_log': error_log,\n",
    "        'rec_created_dt': datetime.now()\n",
    "    }\n",
    "    log_data_df = spark_hdfs.createDataFrame([log_data], log_schema)\n",
    "    \n",
    "    # Append the new log entry to the existing log_df\n",
    "    # log_data_df.show()\n",
    "\n",
    "    if error_log:\n",
    "        print(f\"Error: {error_log}\")\n",
    "    else:\n",
    "        print(f\"Procedure executed successfully.\")"
   ]
  },
  {
   "cell_type": "code",
   "execution_count": 133,
   "id": "09d3b769-ea3a-4bce-b196-623aa442c7a0",
   "metadata": {
    "scrolled": true
   },
   "outputs": [
    {
     "name": "stdout",
     "output_type": "stream",
     "text": [
      "Error: local variable 'fct_funding_daily' referenced before assignment\n"
     ]
    }
   ],
   "source": [
    "fct_funding_daily_prc(\"2023-03-01\")"
   ]
  },
  {
   "cell_type": "code",
   "execution_count": 126,
   "id": "87b10e04-e3eb-445e-852c-fa44b2025dbd",
   "metadata": {
    "scrolled": true
   },
   "outputs": [
    {
     "name": "stdout",
     "output_type": "stream",
     "text": [
      "+----------+----------+-------------+--------+--------+-------+-----------------+\n",
      "|process_dt|funding_id|interest_rate|vof_rate|cof_rate|balance|avg_balance_month|\n",
      "+----------+----------+-------------+--------+--------+-------+-----------------+\n",
      "+----------+----------+-------------+--------+--------+-------+-----------------+\n",
      "\n"
     ]
    }
   ],
   "source": [
    "fct_funding_daily.show(100)"
   ]
  },
  {
   "cell_type": "code",
   "execution_count": 127,
   "id": "4532bc47-4b56-49e5-bd74-ddd9f22e6a52",
   "metadata": {},
   "outputs": [
    {
     "name": "stdout",
     "output_type": "stream",
     "text": [
      "+--------------+----------+--------+-------------+---------+--------------+\n",
      "|procedure_name|start_time|end_time|is_successful|error_log|rec_created_dt|\n",
      "+--------------+----------+--------+-------------+---------+--------------+\n",
      "+--------------+----------+--------+-------------+---------+--------------+\n",
      "\n"
     ]
    }
   ],
   "source": [
    "log_df.show()"
   ]
  }
 ],
 "metadata": {
  "kernelspec": {
   "display_name": "Python 3 (ipykernel)",
   "language": "python",
   "name": "python3"
  },
  "language_info": {
   "codemirror_mode": {
    "name": "ipython",
    "version": 3
   },
   "file_extension": ".py",
   "mimetype": "text/x-python",
   "name": "python",
   "nbconvert_exporter": "python",
   "pygments_lexer": "ipython3",
   "version": "3.10.0rc2"
  }
 },
 "nbformat": 4,
 "nbformat_minor": 5
}
